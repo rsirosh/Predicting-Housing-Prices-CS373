{
 "cells": [
  {
   "cell_type": "code",
   "execution_count": 213,
   "metadata": {},
   "outputs": [],
   "source": [
    "import pandas as pd\n",
    "import numpy as np\n",
    "import numpy.linalg as la\n",
    "from sklearn.cross_validation import train_test_split\n",
    "from sklearn.base import clone\n",
    "import timeit\n",
    "import math"
   ]
  },
  {
   "cell_type": "code",
   "execution_count": 6,
   "metadata": {
    "collapsed": true
   },
   "outputs": [],
   "source": [
    "def pca(F, X):\n",
    "    n, d = X.shape\n",
    "    mu = np.zeros((d, 1))\n",
    "    Z = np.zeros((d, F))\n",
    "    for i in range(d):\n",
    "        mu[i] = (1. / n) * np.sum(X[:, [i]])\n",
    "    X = X - mu.T\n",
    "    U, s, Vt = la.svd(X, False)\n",
    "    g = s[:F]\n",
    "    for i in range(F):\n",
    "        g[i] = 1. / g[i]\n",
    "    W = Vt[:F]\n",
    "    Z = np.dot(W.T, np.diag(g))\n",
    "    return (mu, Z)\n",
    "\n",
    "def pca_proj(X,mu,Z):\n",
    "    n, d = X.shape\n",
    "    X = X - mu.T\n",
    "    return np.dot(X, Z)"
   ]
  },
  {
   "cell_type": "code",
   "execution_count": 191,
   "metadata": {
    "collapsed": true
   },
   "outputs": [],
   "source": [
    "def k_fold(k, model, X, y):\n",
    "    n, d = X.shape\n",
    "    z = np.zeros((k, 1))\n",
    "    for i in range(k):\n",
    "        T = list(range(int((i * n) / k), int((n * (i + 1) / k))))\n",
    "        S = [j for j in range(n) if j not in T]\n",
    "        curr_model = clone(model)\n",
    "        curr_model.fit(X[S], y[S])\n",
    "        # y[T] will be len(T) by 1\n",
    "        # X[T] will be len(T) by d\n",
    "        z[i] = (1. / len(T)) * np.sum((y[T] - curr_model.predict(X[T])) ** 2)\n",
    "    return z"
   ]
  },
  {
   "cell_type": "code",
   "execution_count": 192,
   "metadata": {
    "collapsed": true
   },
   "outputs": [],
   "source": [
    "def bootstrapping(B, model, X, y):\n",
    "    n, d = X.shape\n",
    "    z = np.zeros((B, 1))\n",
    "    for i in range(B):\n",
    "        u = np.random.choice(n, n, replace=True)\n",
    "        S = np.unique(u)\n",
    "        T = np.setdiff1d(np.arange(n), S, assume_unique=True)\n",
    "        curr_model = clone(model)\n",
    "        curr_model.fit(X[u], y[u])\n",
    "        # y[T] will be len(T) by 1\n",
    "        # X[T] will be len(T) by d\n",
    "        # theta_hat will be d by 1\n",
    "        z[i] = (1. / len(T)) * np.sum((y[T] - curr_model.predict(X[T])) ** 2)\n",
    "    return z"
   ]
  },
  {
   "cell_type": "code",
   "execution_count": 205,
   "metadata": {
    "collapsed": true
   },
   "outputs": [],
   "source": [
    "def evaluateModel(model, X, y, k=5, B=5):\n",
    "    ########################KFOLD###################\n",
    "    print('Evaluating K-fold with %d folds.' % k)\n",
    "    start_time = timeit.default_timer()\n",
    "    k_fold_z = k_fold(k, model, X, y)\n",
    "    elapsed = timeit.default_timer() - start_time\n",
    "    \n",
    "    k_fold_mse = np.mean(k_fold_z)\n",
    "    print('K-fold Mean Squared Error: ', k_fold_mse)\n",
    "    \n",
    "    k_fold_rmse = math.sqrt(k_fold_mse)\n",
    "    print('K-fold Square Root Mean Squared Error: ', k_fold_rmse)\n",
    "\n",
    "    print(\"Time elapsed for k-fold: \", elapsed)\n",
    "    \n",
    "    print()\n",
    "    print()\n",
    "    ###################BOOTSTRAPPING################\n",
    "    print('Evaluating bootstrapping with %d bootstraps.' % B)\n",
    "    start_time = timeit.default_timer()\n",
    "    bootstrapping_z = bootstrapping(B, model, X, y)\n",
    "    elapsed = timeit.default_timer() - start_time\n",
    "    \n",
    "    bootstrapping_mse = np.mean(bootstrapping_z)\n",
    "    print('Bootstrapping Mean Squared Error: ', bootstrapping_mse)\n",
    "    \n",
    "    bootstrapping_rmse = math.sqrt(bootstrapping_mse)\n",
    "    print('Bootstrapping Square Root Mean Squared Error: ', bootstrapping_rmse)\n",
    "\n",
    "    print(\"Time elapsed for bootstrapping: \", elapsed)\n",
    "    \n",
    "    return (k_fold_z, bootstrapping_z)"
   ]
  },
  {
   "cell_type": "markdown",
   "metadata": {},
   "source": [
    "# Data Processing"
   ]
  },
  {
   "cell_type": "code",
   "execution_count": 34,
   "metadata": {},
   "outputs": [
    {
     "name": "stdout",
     "output_type": "stream",
     "text": [
      "(1460, 81)\n",
      "(1460, 80)\n",
      "(1460, 1)\n"
     ]
    }
   ],
   "source": [
    "data = pd.read_csv(\"train.csv\", header=0)\n",
    "print(data.shape)\n",
    "\n",
    "X = data.iloc[:,:-1]\n",
    "Y = data.iloc[:,-1:]\n",
    "\n",
    "print(X.shape)\n",
    "print(Y.shape)"
   ]
  },
  {
   "cell_type": "code",
   "execution_count": 38,
   "metadata": {
    "collapsed": true
   },
   "outputs": [
    {
     "name": "stdout",
     "output_type": "stream",
     "text": [
      "Alley\n",
      "PoolQC\n",
      "Fence\n",
      "MiscFeature\n"
     ]
    }
   ],
   "source": [
    "# this just sums up how many nulls per feature and divides to find percentage of nulls per feature\n",
    "# if over 50% null then print the feature\n",
    "data_keys = X.keys()\n",
    "for i, b in enumerate((X.isnull().sum() / X.shape[0]) > 0.5):\n",
    "    if b:\n",
    "        print(data_keys[i])"
   ]
  },
  {
   "cell_type": "code",
   "execution_count": 8,
   "metadata": {
    "collapsed": true
   },
   "outputs": [],
   "source": [
    "# data = data.drop(['Alley', 'MiscFeature', 'Fence', 'PoolQC'], axis=1)"
   ]
  },
  {
   "cell_type": "code",
   "execution_count": 7,
   "metadata": {
    "collapsed": true
   },
   "outputs": [
    {
     "data": {
      "text/html": [
       "<div>\n",
       "<style>\n",
       "    .dataframe thead tr:only-child th {\n",
       "        text-align: right;\n",
       "    }\n",
       "\n",
       "    .dataframe thead th {\n",
       "        text-align: left;\n",
       "    }\n",
       "\n",
       "    .dataframe tbody tr th {\n",
       "        vertical-align: top;\n",
       "    }\n",
       "</style>\n",
       "<table border=\"1\" class=\"dataframe\">\n",
       "  <thead>\n",
       "    <tr style=\"text-align: right;\">\n",
       "      <th></th>\n",
       "      <th>ExterQual</th>\n",
       "      <th>ExterCond</th>\n",
       "      <th>BsmtQual</th>\n",
       "      <th>BsmtCond</th>\n",
       "      <th>HeatingQC</th>\n",
       "      <th>KitchenQual</th>\n",
       "      <th>FireplaceQu</th>\n",
       "      <th>GarageQual</th>\n",
       "      <th>GarageCond</th>\n",
       "    </tr>\n",
       "  </thead>\n",
       "  <tbody>\n",
       "    <tr>\n",
       "      <th>0</th>\n",
       "      <td>4</td>\n",
       "      <td>3</td>\n",
       "      <td>4.0</td>\n",
       "      <td>3.0</td>\n",
       "      <td>5</td>\n",
       "      <td>4</td>\n",
       "      <td>NaN</td>\n",
       "      <td>3.0</td>\n",
       "      <td>3.0</td>\n",
       "    </tr>\n",
       "    <tr>\n",
       "      <th>1</th>\n",
       "      <td>3</td>\n",
       "      <td>3</td>\n",
       "      <td>4.0</td>\n",
       "      <td>3.0</td>\n",
       "      <td>5</td>\n",
       "      <td>3</td>\n",
       "      <td>3.0</td>\n",
       "      <td>3.0</td>\n",
       "      <td>3.0</td>\n",
       "    </tr>\n",
       "    <tr>\n",
       "      <th>2</th>\n",
       "      <td>4</td>\n",
       "      <td>3</td>\n",
       "      <td>4.0</td>\n",
       "      <td>3.0</td>\n",
       "      <td>5</td>\n",
       "      <td>4</td>\n",
       "      <td>3.0</td>\n",
       "      <td>3.0</td>\n",
       "      <td>3.0</td>\n",
       "    </tr>\n",
       "    <tr>\n",
       "      <th>3</th>\n",
       "      <td>3</td>\n",
       "      <td>3</td>\n",
       "      <td>3.0</td>\n",
       "      <td>4.0</td>\n",
       "      <td>4</td>\n",
       "      <td>4</td>\n",
       "      <td>4.0</td>\n",
       "      <td>3.0</td>\n",
       "      <td>3.0</td>\n",
       "    </tr>\n",
       "    <tr>\n",
       "      <th>4</th>\n",
       "      <td>4</td>\n",
       "      <td>3</td>\n",
       "      <td>4.0</td>\n",
       "      <td>3.0</td>\n",
       "      <td>5</td>\n",
       "      <td>4</td>\n",
       "      <td>3.0</td>\n",
       "      <td>3.0</td>\n",
       "      <td>3.0</td>\n",
       "    </tr>\n",
       "  </tbody>\n",
       "</table>\n",
       "</div>"
      ],
      "text/plain": [
       "   ExterQual  ExterCond  BsmtQual  BsmtCond  HeatingQC  KitchenQual  \\\n",
       "0          4          3       4.0       3.0          5            4   \n",
       "1          3          3       4.0       3.0          5            3   \n",
       "2          4          3       4.0       3.0          5            4   \n",
       "3          3          3       3.0       4.0          4            4   \n",
       "4          4          3       4.0       3.0          5            4   \n",
       "\n",
       "   FireplaceQu  GarageQual  GarageCond  \n",
       "0          NaN         3.0         3.0  \n",
       "1          3.0         3.0         3.0  \n",
       "2          3.0         3.0         3.0  \n",
       "3          4.0         3.0         3.0  \n",
       "4          3.0         3.0         3.0  "
      ]
     },
     "execution_count": 7,
     "metadata": {},
     "output_type": "execute_result"
    }
   ],
   "source": [
    "# Replaces categorical value in Quality columns with numerical scale\n",
    "qualityCols = ['ExterQual', 'ExterCond', 'BsmtQual', 'BsmtCond', 'HeatingQC',\n",
    "              'KitchenQual', 'FireplaceQu', 'GarageQual', 'GarageCond']\n",
    "\n",
    "data[qualityCols].head()\n",
    "\n",
    "for col in qualityCols:\n",
    "    # NA is never used since all NA's got converted to NaN objects when pandas read in the csv\n",
    "    data[col] = data[col].map({'Ex': 5, 'Gd': 4, 'TA': 3, 'Fa': 2, 'Po':1, 'NA': 0})\n",
    "\n",
    "data[qualityCols].head()"
   ]
  },
  {
   "cell_type": "code",
   "execution_count": 39,
   "metadata": {
    "collapsed": true
   },
   "outputs": [
    {
     "name": "stdout",
     "output_type": "stream",
     "text": [
      "{'FireplaceQu', 'LotShape', 'Fence', 'GarageCond', 'PoolQC', 'Exterior1st', 'LandContour', 'Foundation', 'Condition1', 'ExterQual', 'Electrical', 'Street', 'LotConfig', 'BsmtQual', 'GarageQual', 'PavedDrive', 'BsmtExposure', 'Condition2', 'BldgType', 'MasVnrType', 'SaleCondition', 'RoofStyle', 'RoofMatl', 'Exterior2nd', 'BsmtCond', 'BsmtFinType2', 'GarageType', 'Neighborhood', 'KitchenQual', 'MSZoning', 'Functional', 'CentralAir', 'ExterCond', 'HeatingQC', 'Alley', 'GarageFinish', 'Utilities', 'MiscFeature', 'LandSlope', 'Heating', 'SaleType', 'BsmtFinType1', 'HouseStyle'}\n"
     ]
    }
   ],
   "source": [
    "# categorical columns\n",
    "catCols = set(list(X))-set(list(X._get_numeric_data()))\n",
    "print(catCols)\n",
    "\n",
    "# #TRY dropping all cat cols\n",
    "# data = data.drop(columns=catCols)"
   ]
  },
  {
   "cell_type": "code",
   "execution_count": 40,
   "metadata": {
    "collapsed": true
   },
   "outputs": [],
   "source": [
    "#Perform one hot encoding on all categorical columns\n",
    "frames = []\n",
    "for col in catCols:\n",
    "    oneHot_encoded = pd.get_dummies(X[col])\n",
    "    oneHot_encoded = oneHot_encoded.add_prefix(col + '_is_')\n",
    "    frames.append(oneHot_encoded)\n",
    "\n",
    "X = X.drop(catCols, axis=1)\n",
    "\n",
    "X = pd.concat(frames, axis=1)"
   ]
  },
  {
   "cell_type": "code",
   "execution_count": 41,
   "metadata": {
    "collapsed": true
   },
   "outputs": [
    {
     "data": {
      "text/plain": [
       "Index(['FireplaceQu_is_Ex', 'FireplaceQu_is_Fa', 'FireplaceQu_is_Gd',\n",
       "       'FireplaceQu_is_Po', 'FireplaceQu_is_TA', 'LotShape_is_IR1',\n",
       "       'LotShape_is_IR2', 'LotShape_is_IR3', 'LotShape_is_Reg',\n",
       "       'Fence_is_GdPrv',\n",
       "       ...\n",
       "       'BsmtFinType1_is_Rec', 'BsmtFinType1_is_Unf', 'HouseStyle_is_1.5Fin',\n",
       "       'HouseStyle_is_1.5Unf', 'HouseStyle_is_1Story', 'HouseStyle_is_2.5Fin',\n",
       "       'HouseStyle_is_2.5Unf', 'HouseStyle_is_2Story', 'HouseStyle_is_SFoyer',\n",
       "       'HouseStyle_is_SLvl'],\n",
       "      dtype='object', length=252)"
      ]
     },
     "execution_count": 41,
     "metadata": {},
     "output_type": "execute_result"
    }
   ],
   "source": [
    "X.keys()"
   ]
  },
  {
   "cell_type": "code",
   "execution_count": 47,
   "metadata": {},
   "outputs": [
    {
     "data": {
      "text/plain": [
       "False"
      ]
     },
     "execution_count": 47,
     "metadata": {},
     "output_type": "execute_result"
    }
   ],
   "source": [
    "X.isnull().values.any()"
   ]
  },
  {
   "cell_type": "code",
   "execution_count": 48,
   "metadata": {
    "collapsed": true
   },
   "outputs": [],
   "source": [
    "# 80:20 train test ratio\n",
    "test_size = 0.2\n",
    "# This function splits the training and target sets into random train and test subsets.\n",
    "# X_train and X_test are subsets of the training data\n",
    "# y_train and y_test are subsets the the target data\n",
    "X_train, X_test, y_train, y_test = train_test_split(X, Y, test_size=test_size)"
   ]
  },
  {
   "cell_type": "markdown",
   "metadata": {},
   "source": [
    "# PCA Feature Selection"
   ]
  },
  {
   "cell_type": "code",
   "execution_count": 164,
   "metadata": {
    "collapsed": true
   },
   "outputs": [],
   "source": [
    "F = 30"
   ]
  },
  {
   "cell_type": "code",
   "execution_count": 81,
   "metadata": {},
   "outputs": [],
   "source": [
    "X_mu, X_Z = pca(F, X.values)\n",
    "X_pca = pca_proj(X.values, X_mu, X_Z)"
   ]
  },
  {
   "cell_type": "code",
   "execution_count": 83,
   "metadata": {},
   "outputs": [
    {
     "name": "stdout",
     "output_type": "stream",
     "text": [
      "(252, 1)\n",
      "(252, 30)\n",
      "(1460, 30)\n"
     ]
    }
   ],
   "source": [
    "print(X_mu.shape)\n",
    "print(X_Z.shape)\n",
    "print(X_pca.shape)"
   ]
  },
  {
   "cell_type": "code",
   "execution_count": 50,
   "metadata": {},
   "outputs": [],
   "source": [
    "X_train_mu, X_train_Z = pca(F, X_train.values)"
   ]
  },
  {
   "cell_type": "code",
   "execution_count": 55,
   "metadata": {},
   "outputs": [
    {
     "name": "stdout",
     "output_type": "stream",
     "text": [
      "(252, 1)\n",
      "(252, 30)\n"
     ]
    }
   ],
   "source": [
    "print(X_train_mu.shape)\n",
    "print(X_train_Z.shape)"
   ]
  },
  {
   "cell_type": "code",
   "execution_count": 72,
   "metadata": {},
   "outputs": [
    {
     "name": "stdout",
     "output_type": "stream",
     "text": [
      "(1168, 30)\n",
      "(292, 30)\n"
     ]
    }
   ],
   "source": [
    "X_train_pca = pca_proj(X_train.values, X_train_mu, X_train_Z)\n",
    "print(X_train_pca.shape)\n",
    "\n",
    "X_test_pca = pca_proj(X_test.values, X_train_mu, X_train_Z)\n",
    "print(X_test_pca.shape)"
   ]
  },
  {
   "cell_type": "markdown",
   "metadata": {},
   "source": [
    "# AdaBoost"
   ]
  },
  {
   "cell_type": "code",
   "execution_count": 206,
   "metadata": {},
   "outputs": [
    {
     "name": "stdout",
     "output_type": "stream",
     "text": [
      "Evaluating K-fold with 5 folds.\n",
      "K-fold Mean Squared Error:  3024650675.54\n",
      "K-fold Square Root Mean Squared Error:  54996.82423141105\n",
      "Time elapsed for k-fold:  1.7181399000000965\n",
      "\n",
      "\n",
      "Evaluating bootstrapping with 5 bootstraps.\n",
      "Bootstrapping Mean Squared Error:  3044386180.63\n",
      "Bootstrapping Square Root Mean Squared Error:  55175.95654476395\n",
      "Time elapsed for bootstrapping:  1.74020819999987\n"
     ]
    },
    {
     "data": {
      "text/plain": [
       "0.48174652703429927"
      ]
     },
     "execution_count": 206,
     "metadata": {},
     "output_type": "execute_result"
    }
   ],
   "source": [
    "from sklearn.ensemble import AdaBoostRegressor\n",
    "adaBoost = AdaBoostRegressor()\n",
    "evaluateModel(adaBoost, X_pca, Y.values.ravel(), k=5, B=5)\n",
    "\n",
    "adaBoost.fit(X_train_pca, y_train.values.ravel())\n",
    "adaBoost.score(X_test_pca, y_test.values.ravel())"
   ]
  },
  {
   "cell_type": "code",
   "execution_count": 112,
   "metadata": {},
   "outputs": [
    {
     "data": {
      "text/html": [
       "<div>\n",
       "<style>\n",
       "    .dataframe thead tr:only-child th {\n",
       "        text-align: right;\n",
       "    }\n",
       "\n",
       "    .dataframe thead th {\n",
       "        text-align: left;\n",
       "    }\n",
       "\n",
       "    .dataframe tbody tr th {\n",
       "        vertical-align: top;\n",
       "    }\n",
       "</style>\n",
       "<table border=\"1\" class=\"dataframe\">\n",
       "  <thead>\n",
       "    <tr style=\"text-align: right;\">\n",
       "      <th></th>\n",
       "      <th>SalePrice</th>\n",
       "      <th>predicted</th>\n",
       "    </tr>\n",
       "  </thead>\n",
       "  <tbody>\n",
       "    <tr>\n",
       "      <th>466</th>\n",
       "      <td>167000</td>\n",
       "      <td>148436.905724</td>\n",
       "    </tr>\n",
       "    <tr>\n",
       "      <th>758</th>\n",
       "      <td>179400</td>\n",
       "      <td>196773.623604</td>\n",
       "    </tr>\n",
       "    <tr>\n",
       "      <th>350</th>\n",
       "      <td>318061</td>\n",
       "      <td>343546.483871</td>\n",
       "    </tr>\n",
       "    <tr>\n",
       "      <th>774</th>\n",
       "      <td>395000</td>\n",
       "      <td>299211.613065</td>\n",
       "    </tr>\n",
       "    <tr>\n",
       "      <th>163</th>\n",
       "      <td>103200</td>\n",
       "      <td>136176.105769</td>\n",
       "    </tr>\n",
       "  </tbody>\n",
       "</table>\n",
       "</div>"
      ],
      "text/plain": [
       "     SalePrice      predicted\n",
       "466     167000  148436.905724\n",
       "758     179400  196773.623604\n",
       "350     318061  343546.483871\n",
       "774     395000  299211.613065\n",
       "163     103200  136176.105769"
      ]
     },
     "execution_count": 112,
     "metadata": {},
     "output_type": "execute_result"
    }
   ],
   "source": [
    "#View Predicted values\n",
    "predicted = adaBoost.predict(X_test_pca)\n",
    "ada_pred = y_test.copy()\n",
    "ada_pred['predicted'] = predicted\n",
    "ada_pred.head()"
   ]
  },
  {
   "cell_type": "markdown",
   "metadata": {},
   "source": [
    "# XGBoost Regressor"
   ]
  },
  {
   "cell_type": "code",
   "execution_count": 19,
   "metadata": {
    "collapsed": true
   },
   "outputs": [],
   "source": [
    "#!pip3 install xgboost"
   ]
  },
  {
   "cell_type": "code",
   "execution_count": 210,
   "metadata": {},
   "outputs": [
    {
     "name": "stdout",
     "output_type": "stream",
     "text": [
      "Evaluating K-fold with 5 folds.\n",
      "K-fold Mean Squared Error:  2110356773.55\n",
      "K-fold Square Root Mean Squared Error:  45938.61963049125\n",
      "Time elapsed for k-fold:  1.1101891999996951\n",
      "\n",
      "\n",
      "Evaluating bootstrapping with 5 bootstraps.\n",
      "Bootstrapping Mean Squared Error:  2449252376.33\n",
      "Bootstrapping Square Root Mean Squared Error:  49489.92196734414\n",
      "Time elapsed for bootstrapping:  0.9726442000001043\n"
     ]
    },
    {
     "data": {
      "text/plain": [
       "0.65019408903127041"
      ]
     },
     "execution_count": 210,
     "metadata": {},
     "output_type": "execute_result"
    }
   ],
   "source": [
    "from xgboost import XGBRegressor\n",
    "\n",
    "xgb = XGBRegressor(max_depth=3, learning_rate=0.2, booster='gbtree', n_estimators=70)\n",
    "\n",
    "evaluateModel(xgb, X_pca, Y.values.ravel(), k=5, B=5)\n",
    "\n",
    "xgb.fit(X_train_pca, y_train)\n",
    "xgb.score(X_test_pca, y_test.values.ravel())"
   ]
  },
  {
   "cell_type": "code",
   "execution_count": 110,
   "metadata": {},
   "outputs": [
    {
     "data": {
      "text/html": [
       "<div>\n",
       "<style>\n",
       "    .dataframe thead tr:only-child th {\n",
       "        text-align: right;\n",
       "    }\n",
       "\n",
       "    .dataframe thead th {\n",
       "        text-align: left;\n",
       "    }\n",
       "\n",
       "    .dataframe tbody tr th {\n",
       "        vertical-align: top;\n",
       "    }\n",
       "</style>\n",
       "<table border=\"1\" class=\"dataframe\">\n",
       "  <thead>\n",
       "    <tr style=\"text-align: right;\">\n",
       "      <th></th>\n",
       "      <th>SalePrice</th>\n",
       "      <th>predicted</th>\n",
       "    </tr>\n",
       "  </thead>\n",
       "  <tbody>\n",
       "    <tr>\n",
       "      <th>466</th>\n",
       "      <td>167000</td>\n",
       "      <td>144864.328125</td>\n",
       "    </tr>\n",
       "    <tr>\n",
       "      <th>758</th>\n",
       "      <td>179400</td>\n",
       "      <td>160262.921875</td>\n",
       "    </tr>\n",
       "    <tr>\n",
       "      <th>350</th>\n",
       "      <td>318061</td>\n",
       "      <td>352198.437500</td>\n",
       "    </tr>\n",
       "    <tr>\n",
       "      <th>774</th>\n",
       "      <td>395000</td>\n",
       "      <td>293798.656250</td>\n",
       "    </tr>\n",
       "    <tr>\n",
       "      <th>163</th>\n",
       "      <td>103200</td>\n",
       "      <td>112850.273438</td>\n",
       "    </tr>\n",
       "  </tbody>\n",
       "</table>\n",
       "</div>"
      ],
      "text/plain": [
       "     SalePrice      predicted\n",
       "466     167000  144864.328125\n",
       "758     179400  160262.921875\n",
       "350     318061  352198.437500\n",
       "774     395000  293798.656250\n",
       "163     103200  112850.273438"
      ]
     },
     "execution_count": 110,
     "metadata": {},
     "output_type": "execute_result"
    }
   ],
   "source": [
    "predicted = xgb.predict(X_test_pca)\n",
    "xgb_pred = y_test.copy()\n",
    "xgb_pred['predicted'] = predicted\n",
    "xgb_pred.head()"
   ]
  },
  {
   "cell_type": "markdown",
   "metadata": {},
   "source": [
    "# SVM (SVC just to test)"
   ]
  },
  {
   "cell_type": "code",
   "execution_count": 176,
   "metadata": {},
   "outputs": [
    {
     "name": "stdout",
     "output_type": "stream",
     "text": [
      "Evaluating K-fold with 5 folds.\n",
      "K-fold Mean Squared Error:  8060434831.05\n",
      "K-fold Square Root Mean Squared Error:  89779.92443221048\n",
      "Time elapsed for k-fold:  10.259636200000386\n",
      "\n",
      "\n",
      "Evaluating bootstrapping with 5 bootstraps.\n",
      "Bootstrapping Mean Squared Error:  7863722853.71\n",
      "Bootstrapping Square Root Mean Squared Error:  88677.63446161311\n",
      "Time elapsed for bootstrapping:  11.805114100000537\n"
     ]
    },
    {
     "data": {
      "text/plain": [
       "SVC(C=1.0, cache_size=200, class_weight=None, coef0=0.0,\n",
       "  decision_function_shape='ovr', degree=3, gamma='auto', kernel='rbf',\n",
       "  max_iter=-1, probability=False, random_state=None, shrinking=True,\n",
       "  tol=0.001, verbose=False)"
      ]
     },
     "execution_count": 176,
     "metadata": {},
     "output_type": "execute_result"
    }
   ],
   "source": [
    "from sklearn import svm\n",
    "\n",
    "svc_model = svm.SVC(kernel=\"rbf\", C=1.0)\n",
    "\n",
    "evaluateModel(svc_model, X_pca, Y.values.ravel(), k=5, B=5)\n",
    "\n",
    "# change C (error) in hypertuning\n",
    "svc_model.fit(X_train_pca, y_train.values.ravel())"
   ]
  },
  {
   "cell_type": "code",
   "execution_count": null,
   "metadata": {
    "collapsed": true
   },
   "outputs": [],
   "source": [
    "svc_predicted = svc_model.predict(X_test)\n",
    "svc_pred = y_test.copy()\n",
    "svc_pred[\"predicted\"] = svc_predicted\n",
    "svc_pred.head()"
   ]
  },
  {
   "cell_type": "code",
   "execution_count": 124,
   "metadata": {},
   "outputs": [
    {
     "data": {
      "text/plain": [
       "0.0"
      ]
     },
     "execution_count": 124,
     "metadata": {},
     "output_type": "execute_result"
    }
   ],
   "source": [
    "svc_model.score(X_test_pca, y_test.values.ravel())"
   ]
  },
  {
   "cell_type": "markdown",
   "metadata": {},
   "source": [
    "# SVM (SVR)"
   ]
  },
  {
   "cell_type": "code",
   "execution_count": 212,
   "metadata": {},
   "outputs": [
    {
     "name": "stdout",
     "output_type": "stream",
     "text": [
      "Evaluating K-fold with 5 folds.\n",
      "K-fold Mean Squared Error:  2271964893.39\n",
      "K-fold Square Root Mean Squared Error:  47665.13288966446\n",
      "Time elapsed for k-fold:  0.6479687000000922\n",
      "\n",
      "\n",
      "Evaluating bootstrapping with 5 bootstraps.\n",
      "Bootstrapping Mean Squared Error:  2769887548.46\n",
      "Bootstrapping Square Root Mean Squared Error:  52629.72115125175\n",
      "Time elapsed for bootstrapping:  0.8933160000005955\n"
     ]
    },
    {
     "data": {
      "text/plain": [
       "0.63795692564594431"
      ]
     },
     "execution_count": 212,
     "metadata": {},
     "output_type": "execute_result"
    }
   ],
   "source": [
    "from sklearn import svm\n",
    "\n",
    "svr_model = svm.SVR(kernel=\"poly\", shrinking=False, coef0=-3500)\n",
    "# coef0 only works with poly and sigmoid kernels\n",
    "# it just puts that value instead of the column of 1's\n",
    "\n",
    "# without it, this model breaks for some reason\n",
    "\n",
    "evaluateModel(svr_model, X_pca, Y.values.ravel(), k=5, B=5)\n",
    "\n",
    "# epsilon, degree\n",
    "svr_model.fit(X_train_pca, y_train.values.ravel())\n",
    "svr_model.score(X_test_pca, y_test.values.ravel())"
   ]
  },
  {
   "cell_type": "code",
   "execution_count": 119,
   "metadata": {},
   "outputs": [
    {
     "data": {
      "text/html": [
       "<div>\n",
       "<style>\n",
       "    .dataframe thead tr:only-child th {\n",
       "        text-align: right;\n",
       "    }\n",
       "\n",
       "    .dataframe thead th {\n",
       "        text-align: left;\n",
       "    }\n",
       "\n",
       "    .dataframe tbody tr th {\n",
       "        vertical-align: top;\n",
       "    }\n",
       "</style>\n",
       "<table border=\"1\" class=\"dataframe\">\n",
       "  <thead>\n",
       "    <tr style=\"text-align: right;\">\n",
       "      <th></th>\n",
       "      <th>SalePrice</th>\n",
       "      <th>predicted</th>\n",
       "    </tr>\n",
       "  </thead>\n",
       "  <tbody>\n",
       "    <tr>\n",
       "      <th>466</th>\n",
       "      <td>167000</td>\n",
       "      <td>158503.256724</td>\n",
       "    </tr>\n",
       "    <tr>\n",
       "      <th>758</th>\n",
       "      <td>179400</td>\n",
       "      <td>137609.404098</td>\n",
       "    </tr>\n",
       "    <tr>\n",
       "      <th>350</th>\n",
       "      <td>318061</td>\n",
       "      <td>269615.868976</td>\n",
       "    </tr>\n",
       "    <tr>\n",
       "      <th>774</th>\n",
       "      <td>395000</td>\n",
       "      <td>233855.156738</td>\n",
       "    </tr>\n",
       "    <tr>\n",
       "      <th>163</th>\n",
       "      <td>103200</td>\n",
       "      <td>124114.390946</td>\n",
       "    </tr>\n",
       "  </tbody>\n",
       "</table>\n",
       "</div>"
      ],
      "text/plain": [
       "     SalePrice      predicted\n",
       "466     167000  158503.256724\n",
       "758     179400  137609.404098\n",
       "350     318061  269615.868976\n",
       "774     395000  233855.156738\n",
       "163     103200  124114.390946"
      ]
     },
     "execution_count": 119,
     "metadata": {},
     "output_type": "execute_result"
    }
   ],
   "source": [
    "svr_predicted = svr_model.predict(X_test_pca)\n",
    "svr_pred = y_test.copy()\n",
    "svr_pred[\"predicted\"] = svr_predicted\n",
    "svr_pred.head()"
   ]
  }
 ],
 "metadata": {
  "kernelspec": {
   "display_name": "Python 3",
   "language": "python",
   "name": "python3"
  },
  "language_info": {
   "codemirror_mode": {
    "name": "ipython",
    "version": 3
   },
   "file_extension": ".py",
   "mimetype": "text/x-python",
   "name": "python",
   "nbconvert_exporter": "python",
   "pygments_lexer": "ipython3",
   "version": "3.6.7"
  }
 },
 "nbformat": 4,
 "nbformat_minor": 2
}
