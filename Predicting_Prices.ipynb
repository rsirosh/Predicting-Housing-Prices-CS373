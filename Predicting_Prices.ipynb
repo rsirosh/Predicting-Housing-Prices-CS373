{
 "cells": [
  {
   "cell_type": "code",
   "execution_count": 6,
   "metadata": {},
   "outputs": [],
   "source": [
    "import pandas as pd\n",
    "import numpy as np\n",
    "import numpy.linalg as la\n",
    "from sklearn.model_selection import train_test_split\n",
    "from sklearn.base import clone\n",
    "import timeit\n",
    "import math"
   ]
  },
  {
   "cell_type": "code",
   "execution_count": 7,
   "metadata": {},
   "outputs": [],
   "source": [
    "def pca(F, X):\n",
    "    n, d = X.shape\n",
    "    mu = np.zeros((d, 1))\n",
    "    Z = np.zeros((d, F))\n",
    "    for i in range(d):\n",
    "        mu[i] = (1. / n) * np.sum(X[:, [i]])\n",
    "    X = X - mu.T\n",
    "    U, s, Vt = la.svd(X, False)\n",
    "    g = s[:F]\n",
    "    for i in range(F):\n",
    "        g[i] = 1. / g[i]\n",
    "    W = Vt[:F]\n",
    "    Z = np.dot(W.T, np.diag(g))\n",
    "    return (mu, Z)\n",
    "\n",
    "def pca_proj(X,mu,Z):\n",
    "    n, d = X.shape\n",
    "    X = X - mu.T\n",
    "    return np.dot(X, Z)"
   ]
  },
  {
   "cell_type": "code",
   "execution_count": 8,
   "metadata": {},
   "outputs": [],
   "source": [
    "def k_fold(k, model, f, X, y, error_type=\"mse\"):\n",
    "    n, d = X.shape\n",
    "    z = np.zeros((k, 1))\n",
    "    for i in range(k):\n",
    "        T = list(range(int((i * n) / k), int((n * (i + 1) / k))))\n",
    "        S = [j for j in range(n) if j not in T]\n",
    "        curr_model = clone(model)\n",
    "\n",
    "        training_mu, training_Z = pca(f, X[S])\n",
    "        training_X = pca_proj(X[S], training_mu, training_Z)\n",
    "\n",
    "        curr_model.fit(training_X, y[S])\n",
    "\n",
    "        test_X = pca_proj(X[T], training_mu, training_Z)\n",
    "\n",
    "        # y[T] will be len(T) by 1\n",
    "        # X[T] will be len(T) by d\n",
    "        if error_type == \"mse\":\n",
    "            z[i] = (1. / len(T)) * np.sum((y[T] - curr_model.predict(test_X)) ** 2)\n",
    "        elif error_type == \"log_mse\":\n",
    "            z[i] = (1. / len(T)) * np.sum((np.log(y[T] + 1) - np.log(curr_model.predict(test_X) + 1)) ** 2)\n",
    "    return z"
   ]
  },
  {
   "cell_type": "code",
   "execution_count": 9,
   "metadata": {},
   "outputs": [],
   "source": [
    "def bootstrapping(B, model, f, X, y, error_type=\"mse\"):\n",
    "    n, d = X.shape\n",
    "    z = np.zeros((B, 1))\n",
    "    for i in range(B):\n",
    "        u = np.random.choice(n, n, replace=True)\n",
    "        S = np.unique(u)\n",
    "        T = np.setdiff1d(np.arange(n), S, assume_unique=True)\n",
    "        curr_model = clone(model)\n",
    "\n",
    "        training_mu, training_Z = pca(f, X[u])\n",
    "        training_X = pca_proj(X[u], training_mu, training_Z)\n",
    "\n",
    "        curr_model.fit(training_X, y[u])\n",
    "\n",
    "        test_X = pca_proj(X[T], training_mu, training_Z)\n",
    "\n",
    "        # y[T] will be len(T) by 1\n",
    "        # X[T] will be len(T) by d\n",
    "        # theta_hat will be d by 1\n",
    "        if error_type == \"mse\":\n",
    "            z[i] = (1. / len(T)) * np.sum((y[T] - curr_model.predict(test_X)) ** 2)\n",
    "        elif error_type == \"log_mse\":\n",
    "            z[i] = (1. / len(T)) * np.sum((np.log(y[T] + 1) - np.log(curr_model.predict(test_X) + 1)) ** 2)\n",
    "    return z"
   ]
  },
  {
   "cell_type": "code",
   "execution_count": 10,
   "metadata": {},
   "outputs": [],
   "source": [
    "def evaluate_model(model, f, X, y, k=5, B=5):\n",
    "    ########################KFOLD###################\n",
    "    print('Evaluating K-fold with %d folds.' % k)\n",
    "    start_time = timeit.default_timer()\n",
    "    k_fold_z = k_fold(k, model, f, X, y, error_type=\"log_mse\")\n",
    "    elapsed = timeit.default_timer() - start_time\n",
    "    \n",
    "    k_fold_mse = np.mean(k_fold_z)\n",
    "    print('K-fold Mean Squared log Error: ', k_fold_mse)\n",
    "    \n",
    "    k_fold_rmse = math.sqrt(k_fold_mse)\n",
    "    print('K-fold Square Root Mean Squared log Error: ', k_fold_rmse)\n",
    "\n",
    "    print(\"Time elapsed for k-fold: \", elapsed)\n",
    "    \n",
    "    print()\n",
    "    print()\n",
    "    ###################BOOTSTRAPPING################\n",
    "    print('Evaluating bootstrapping with %d bootstraps.' % B)\n",
    "    start_time = timeit.default_timer()\n",
    "    bootstrapping_z = bootstrapping(B, model, f, X, y)\n",
    "    elapsed = timeit.default_timer() - start_time\n",
    "    \n",
    "    bootstrapping_mse = np.mean(bootstrapping_z)\n",
    "    print('Bootstrapping Mean Squared Error: ', bootstrapping_mse)\n",
    "    \n",
    "    bootstrapping_rmse = math.sqrt(bootstrapping_mse)\n",
    "    print('Bootstrapping Square Root Mean Squared Error: ', bootstrapping_rmse)\n",
    "\n",
    "    print(\"Time elapsed for bootstrapping: \", elapsed)\n",
    "    \n",
    "    return (k_fold_z, k_fold_mse, k_fold_rmse, bootstrapping_z, bootstrapping_mse, bootstrapping_rmse)"
   ]
  },
  {
   "cell_type": "markdown",
   "metadata": {},
   "source": [
    "# Data Processing"
   ]
  },
  {
   "cell_type": "code",
   "execution_count": 11,
   "metadata": {},
   "outputs": [
    {
     "name": "stdout",
     "output_type": "stream",
     "text": [
      "(1460, 81)\n",
      "(1460, 80)\n",
      "(1460, 1)\n"
     ]
    }
   ],
   "source": [
    "data = pd.read_csv(\"train.csv\", header=0)\n",
    "print(data.shape)\n",
    "\n",
    "X = data.iloc[:,:-1]\n",
    "Y = data.iloc[:,-1:]\n",
    "\n",
    "print(X.shape)\n",
    "print(Y.shape)"
   ]
  },
  {
   "cell_type": "code",
   "execution_count": 12,
   "metadata": {},
   "outputs": [
    {
     "name": "stdout",
     "output_type": "stream",
     "text": [
      "Alley\n",
      "PoolQC\n",
      "Fence\n",
      "MiscFeature\n"
     ]
    }
   ],
   "source": [
    "# this just sums up how many nulls per feature and divides to find percentage of nulls per feature\n",
    "# if over 50% null then print the feature\n",
    "data_keys = X.keys()\n",
    "for i, b in enumerate((X.isnull().sum() / X.shape[0]) > 0.5):\n",
    "    if b:\n",
    "        print(data_keys[i])"
   ]
  },
  {
   "cell_type": "code",
   "execution_count": 13,
   "metadata": {},
   "outputs": [
    {
     "name": "stdout",
     "output_type": "stream",
     "text": [
      "{'Electrical', 'Exterior2nd', 'LandContour', 'Condition2', 'BsmtCond', 'HouseStyle', 'MasVnrType', 'BsmtQual', 'KitchenQual', 'Utilities', 'HeatingQC', 'Heating', 'RoofMatl', 'CentralAir', 'SaleCondition', 'GarageCond', 'LotConfig', 'Neighborhood', 'BldgType', 'Foundation', 'FireplaceQu', 'RoofStyle', 'Condition1', 'ExterQual', 'PavedDrive', 'MiscFeature', 'SaleType', 'MSZoning', 'GarageType', 'BsmtFinType2', 'Exterior1st', 'BsmtFinType1', 'PoolQC', 'GarageQual', 'Fence', 'GarageFinish', 'LotShape', 'Alley', 'Functional', 'LandSlope', 'BsmtExposure', 'Street', 'ExterCond'}\n"
     ]
    }
   ],
   "source": [
    "# categorical columns\n",
    "catCols = set(list(X))-set(list(X._get_numeric_data()))\n",
    "print(catCols)\n",
    "\n",
    "# #TRY dropping all cat cols\n",
    "# data = data.drop(columns=catCols)"
   ]
  },
  {
   "cell_type": "code",
   "execution_count": 14,
   "metadata": {},
   "outputs": [],
   "source": [
    "#Perform one hot encoding on all categorical columns\n",
    "frames = []\n",
    "for col in catCols:\n",
    "    oneHot_encoded = pd.get_dummies(X[col])\n",
    "    oneHot_encoded = oneHot_encoded.add_prefix(col + '_is_')\n",
    "    frames.append(oneHot_encoded)\n",
    "\n",
    "X = X.drop(catCols, axis=1)\n",
    "\n",
    "X = pd.concat(frames, axis=1)"
   ]
  },
  {
   "cell_type": "code",
   "execution_count": 15,
   "metadata": {},
   "outputs": [
    {
     "data": {
      "text/plain": [
       "Index(['Electrical_is_FuseA', 'Electrical_is_FuseF', 'Electrical_is_FuseP',\n",
       "       'Electrical_is_Mix', 'Electrical_is_SBrkr', 'Exterior2nd_is_AsbShng',\n",
       "       'Exterior2nd_is_AsphShn', 'Exterior2nd_is_Brk Cmn',\n",
       "       'Exterior2nd_is_BrkFace', 'Exterior2nd_is_CBlock',\n",
       "       ...\n",
       "       'BsmtExposure_is_Gd', 'BsmtExposure_is_Mn', 'BsmtExposure_is_No',\n",
       "       'Street_is_Grvl', 'Street_is_Pave', 'ExterCond_is_Ex',\n",
       "       'ExterCond_is_Fa', 'ExterCond_is_Gd', 'ExterCond_is_Po',\n",
       "       'ExterCond_is_TA'],\n",
       "      dtype='object', length=252)"
      ]
     },
     "execution_count": 15,
     "metadata": {},
     "output_type": "execute_result"
    }
   ],
   "source": [
    "X.keys()"
   ]
  },
  {
   "cell_type": "code",
   "execution_count": 16,
   "metadata": {},
   "outputs": [
    {
     "data": {
      "text/plain": [
       "False"
      ]
     },
     "execution_count": 16,
     "metadata": {},
     "output_type": "execute_result"
    }
   ],
   "source": [
    "X.isnull().values.any()"
   ]
  },
  {
   "cell_type": "code",
   "execution_count": 17,
   "metadata": {},
   "outputs": [],
   "source": [
    "# 80:20 train test ratio\n",
    "test_size = 0.2\n",
    "# This function splits the training and target sets into random train and test subsets.\n",
    "# X_train and X_test are subsets of the training data\n",
    "# y_train and y_test are subsets the the target data\n",
    "X_train, X_test, y_train, y_test = train_test_split(X, Y, test_size=test_size)"
   ]
  },
  {
   "cell_type": "markdown",
   "metadata": {},
   "source": [
    "# PCA Feature Selection"
   ]
  },
  {
   "cell_type": "code",
   "execution_count": 18,
   "metadata": {},
   "outputs": [],
   "source": [
    "F = 50\n",
    "f = 50"
   ]
  },
  {
   "cell_type": "code",
   "execution_count": 19,
   "metadata": {},
   "outputs": [],
   "source": [
    "X_mu, X_Z = pca(F, X.values)\n",
    "X_pca = pca_proj(X.values, X_mu, X_Z)"
   ]
  },
  {
   "cell_type": "code",
   "execution_count": 20,
   "metadata": {},
   "outputs": [
    {
     "name": "stdout",
     "output_type": "stream",
     "text": [
      "(252, 1)\n",
      "(252, 50)\n",
      "(1460, 50)\n"
     ]
    }
   ],
   "source": [
    "print(X_mu.shape)\n",
    "print(X_Z.shape)\n",
    "print(X_pca.shape)"
   ]
  },
  {
   "cell_type": "code",
   "execution_count": 21,
   "metadata": {},
   "outputs": [],
   "source": [
    "X_train_mu, X_train_Z = pca(F, X_train.values)"
   ]
  },
  {
   "cell_type": "code",
   "execution_count": 22,
   "metadata": {},
   "outputs": [
    {
     "name": "stdout",
     "output_type": "stream",
     "text": [
      "(252, 1)\n",
      "(252, 50)\n"
     ]
    }
   ],
   "source": [
    "print(X_train_mu.shape)\n",
    "print(X_train_Z.shape)"
   ]
  },
  {
   "cell_type": "code",
   "execution_count": 23,
   "metadata": {},
   "outputs": [
    {
     "name": "stdout",
     "output_type": "stream",
     "text": [
      "(1168, 50)\n",
      "(292, 50)\n"
     ]
    }
   ],
   "source": [
    "X_train_pca = pca_proj(X_train.values, X_train_mu, X_train_Z)\n",
    "print(X_train_pca.shape)\n",
    "\n",
    "X_test_pca = pca_proj(X_test.values, X_train_mu, X_train_Z)\n",
    "print(X_test_pca.shape)"
   ]
  },
  {
   "cell_type": "markdown",
   "metadata": {},
   "source": [
    "# AdaBoost"
   ]
  },
  {
   "cell_type": "code",
   "execution_count": 24,
   "metadata": {},
   "outputs": [
    {
     "name": "stdout",
     "output_type": "stream",
     "text": [
      "Evaluating K-fold with 5 folds.\n",
      "K-fold Mean Squared log Error:  0.08444942076644026\n",
      "K-fold Square Root Mean Squared log Error:  0.29060182512579\n",
      "Time elapsed for k-fold:  2.4636729999999716\n",
      "\n",
      "\n",
      "Evaluating bootstrapping with 5 bootstraps.\n",
      "Bootstrapping Mean Squared Error:  2728630087.457372\n",
      "Bootstrapping Square Root Mean Squared Error:  52236.29090447916\n",
      "Time elapsed for bootstrapping:  2.7554159999999683\n"
     ]
    },
    {
     "data": {
      "text/plain": [
       "0.5572909570255471"
      ]
     },
     "execution_count": 24,
     "metadata": {},
     "output_type": "execute_result"
    }
   ],
   "source": [
    "from sklearn.ensemble import AdaBoostRegressor\n",
    "adaBoost = AdaBoostRegressor()\n",
    "k_z, k_mse, k_rmse, b_z, b_mse, b_rmse = evaluate_model(adaBoost, f, X.values, Y.values.ravel(), k=5, B=5)\n",
    "\n",
    "adaBoost.fit(X_train_pca, y_train.values.ravel())\n",
    "adaBoost.score(X_test_pca, y_test.values.ravel())"
   ]
  },
  {
   "cell_type": "code",
   "execution_count": 25,
   "metadata": {},
   "outputs": [
    {
     "data": {
      "text/html": [
       "<div>\n",
       "<style scoped>\n",
       "    .dataframe tbody tr th:only-of-type {\n",
       "        vertical-align: middle;\n",
       "    }\n",
       "\n",
       "    .dataframe tbody tr th {\n",
       "        vertical-align: top;\n",
       "    }\n",
       "\n",
       "    .dataframe thead th {\n",
       "        text-align: right;\n",
       "    }\n",
       "</style>\n",
       "<table border=\"1\" class=\"dataframe\">\n",
       "  <thead>\n",
       "    <tr style=\"text-align: right;\">\n",
       "      <th></th>\n",
       "      <th>SalePrice</th>\n",
       "      <th>predicted</th>\n",
       "    </tr>\n",
       "  </thead>\n",
       "  <tbody>\n",
       "    <tr>\n",
       "      <th>665</th>\n",
       "      <td>230500</td>\n",
       "      <td>263542.517493</td>\n",
       "    </tr>\n",
       "    <tr>\n",
       "      <th>12</th>\n",
       "      <td>144000</td>\n",
       "      <td>161077.422989</td>\n",
       "    </tr>\n",
       "    <tr>\n",
       "      <th>1248</th>\n",
       "      <td>129500</td>\n",
       "      <td>126331.202216</td>\n",
       "    </tr>\n",
       "    <tr>\n",
       "      <th>244</th>\n",
       "      <td>205000</td>\n",
       "      <td>242434.911439</td>\n",
       "    </tr>\n",
       "    <tr>\n",
       "      <th>747</th>\n",
       "      <td>265979</td>\n",
       "      <td>166348.625360</td>\n",
       "    </tr>\n",
       "  </tbody>\n",
       "</table>\n",
       "</div>"
      ],
      "text/plain": [
       "      SalePrice      predicted\n",
       "665      230500  263542.517493\n",
       "12       144000  161077.422989\n",
       "1248     129500  126331.202216\n",
       "244      205000  242434.911439\n",
       "747      265979  166348.625360"
      ]
     },
     "execution_count": 25,
     "metadata": {},
     "output_type": "execute_result"
    }
   ],
   "source": [
    "#View Predicted values\n",
    "predicted = adaBoost.predict(X_test_pca)\n",
    "ada_pred = y_test.copy()\n",
    "ada_pred['predicted'] = predicted\n",
    "ada_pred.head()"
   ]
  },
  {
   "cell_type": "markdown",
   "metadata": {},
   "source": [
    "# XGBoost Regressor"
   ]
  },
  {
   "cell_type": "code",
   "execution_count": 26,
   "metadata": {},
   "outputs": [
    {
     "name": "stdout",
     "output_type": "stream",
     "text": [
      "Evaluating K-fold with 5 folds.\n",
      "K-fold Mean Squared log Error:  0.04850286442373754\n",
      "K-fold Square Root Mean Squared log Error:  0.22023365869852304\n",
      "Time elapsed for k-fold:  1.6317719999999554\n",
      "\n",
      "\n",
      "Evaluating bootstrapping with 5 bootstraps.\n",
      "Bootstrapping Mean Squared Error:  1931012805.5767913\n",
      "Bootstrapping Square Root Mean Squared Error:  43943.29079139148\n",
      "Time elapsed for bootstrapping:  1.836507999999867\n"
     ]
    },
    {
     "data": {
      "text/plain": [
       "0.7020575659284203"
      ]
     },
     "execution_count": 26,
     "metadata": {},
     "output_type": "execute_result"
    }
   ],
   "source": [
    "from xgboost import XGBRegressor\n",
    "xgb = XGBRegressor(max_depth=3, learning_rate=0.2, booster='gbtree', n_estimators=70)\n",
    "k_z, k_mse, k_rmse, b_z, b_mse, b_rmse = evaluate_model(xgb, f, X.values, Y.values.ravel(), k=5, B=5)\n",
    "\n",
    "xgb.fit(X_train_pca, y_train)\n",
    "xgb.score(X_test_pca, y_test.values.ravel())"
   ]
  },
  {
   "cell_type": "code",
   "execution_count": 27,
   "metadata": {},
   "outputs": [
    {
     "data": {
      "text/html": [
       "<div>\n",
       "<style scoped>\n",
       "    .dataframe tbody tr th:only-of-type {\n",
       "        vertical-align: middle;\n",
       "    }\n",
       "\n",
       "    .dataframe tbody tr th {\n",
       "        vertical-align: top;\n",
       "    }\n",
       "\n",
       "    .dataframe thead th {\n",
       "        text-align: right;\n",
       "    }\n",
       "</style>\n",
       "<table border=\"1\" class=\"dataframe\">\n",
       "  <thead>\n",
       "    <tr style=\"text-align: right;\">\n",
       "      <th></th>\n",
       "      <th>SalePrice</th>\n",
       "      <th>predicted</th>\n",
       "    </tr>\n",
       "  </thead>\n",
       "  <tbody>\n",
       "    <tr>\n",
       "      <th>665</th>\n",
       "      <td>230500</td>\n",
       "      <td>240035.984375</td>\n",
       "    </tr>\n",
       "    <tr>\n",
       "      <th>12</th>\n",
       "      <td>144000</td>\n",
       "      <td>132990.859375</td>\n",
       "    </tr>\n",
       "    <tr>\n",
       "      <th>1248</th>\n",
       "      <td>129500</td>\n",
       "      <td>121075.304688</td>\n",
       "    </tr>\n",
       "    <tr>\n",
       "      <th>244</th>\n",
       "      <td>205000</td>\n",
       "      <td>205812.000000</td>\n",
       "    </tr>\n",
       "    <tr>\n",
       "      <th>747</th>\n",
       "      <td>265979</td>\n",
       "      <td>179845.593750</td>\n",
       "    </tr>\n",
       "  </tbody>\n",
       "</table>\n",
       "</div>"
      ],
      "text/plain": [
       "      SalePrice      predicted\n",
       "665      230500  240035.984375\n",
       "12       144000  132990.859375\n",
       "1248     129500  121075.304688\n",
       "244      205000  205812.000000\n",
       "747      265979  179845.593750"
      ]
     },
     "execution_count": 27,
     "metadata": {},
     "output_type": "execute_result"
    }
   ],
   "source": [
    "predicted = xgb.predict(X_test_pca)\n",
    "xgb_pred = y_test.copy()\n",
    "xgb_pred['predicted'] = predicted\n",
    "xgb_pred.head()"
   ]
  },
  {
   "cell_type": "markdown",
   "metadata": {},
   "source": [
    "# SVM (SVR)"
   ]
  },
  {
   "cell_type": "code",
   "execution_count": 28,
   "metadata": {},
   "outputs": [
    {
     "name": "stdout",
     "output_type": "stream",
     "text": [
      "Evaluating K-fold with 5 folds.\n",
      "K-fold Mean Squared log Error:  0.054210540665989494\n",
      "K-fold Square Root Mean Squared log Error:  0.2328315714545377\n",
      "Time elapsed for k-fold:  1.4187540000000354\n",
      "\n",
      "\n",
      "Evaluating bootstrapping with 5 bootstraps.\n",
      "Bootstrapping Mean Squared Error:  2794936853.206544\n",
      "Bootstrapping Square Root Mean Squared Error:  52867.16233359366\n",
      "Time elapsed for bootstrapping:  2.0181800000000294\n"
     ]
    },
    {
     "data": {
      "text/plain": [
       "0.7435647066294715"
      ]
     },
     "execution_count": 28,
     "metadata": {},
     "output_type": "execute_result"
    }
   ],
   "source": [
    "from sklearn import svm\n",
    "svr_model = svm.SVR(kernel=\"poly\", coef0=-3500, gamma=\"auto\")\n",
    "# coef0 only works with poly and sigmoid kernels\n",
    "# it just puts that value instead of the column of 1's\n",
    "\n",
    "# without it, this model breaks for some reason\n",
    "\n",
    "k_z, k_mse, k_rmse, b_z, b_mse, b_rmse = evaluate_model(svr_model, f, X.values, Y.values.ravel(), k=5, B=5)\n",
    "\n",
    "# epsilon, degree\n",
    "svr_model.fit(X_train_pca, y_train.values.ravel())\n",
    "svr_model.score(X_test_pca, y_test.values.ravel())"
   ]
  },
  {
   "cell_type": "code",
   "execution_count": 29,
   "metadata": {},
   "outputs": [
    {
     "data": {
      "text/html": [
       "<div>\n",
       "<style scoped>\n",
       "    .dataframe tbody tr th:only-of-type {\n",
       "        vertical-align: middle;\n",
       "    }\n",
       "\n",
       "    .dataframe tbody tr th {\n",
       "        vertical-align: top;\n",
       "    }\n",
       "\n",
       "    .dataframe thead th {\n",
       "        text-align: right;\n",
       "    }\n",
       "</style>\n",
       "<table border=\"1\" class=\"dataframe\">\n",
       "  <thead>\n",
       "    <tr style=\"text-align: right;\">\n",
       "      <th></th>\n",
       "      <th>SalePrice</th>\n",
       "      <th>predicted</th>\n",
       "    </tr>\n",
       "  </thead>\n",
       "  <tbody>\n",
       "    <tr>\n",
       "      <th>665</th>\n",
       "      <td>230500</td>\n",
       "      <td>218273.537409</td>\n",
       "    </tr>\n",
       "    <tr>\n",
       "      <th>12</th>\n",
       "      <td>144000</td>\n",
       "      <td>129057.076845</td>\n",
       "    </tr>\n",
       "    <tr>\n",
       "      <th>1248</th>\n",
       "      <td>129500</td>\n",
       "      <td>118079.296060</td>\n",
       "    </tr>\n",
       "    <tr>\n",
       "      <th>244</th>\n",
       "      <td>205000</td>\n",
       "      <td>210988.836908</td>\n",
       "    </tr>\n",
       "    <tr>\n",
       "      <th>747</th>\n",
       "      <td>265979</td>\n",
       "      <td>151240.460527</td>\n",
       "    </tr>\n",
       "  </tbody>\n",
       "</table>\n",
       "</div>"
      ],
      "text/plain": [
       "      SalePrice      predicted\n",
       "665      230500  218273.537409\n",
       "12       144000  129057.076845\n",
       "1248     129500  118079.296060\n",
       "244      205000  210988.836908\n",
       "747      265979  151240.460527"
      ]
     },
     "execution_count": 29,
     "metadata": {},
     "output_type": "execute_result"
    }
   ],
   "source": [
    "svr_predicted = svr_model.predict(X_test_pca)\n",
    "svr_pred = y_test.copy()\n",
    "svr_pred[\"predicted\"] = svr_predicted\n",
    "svr_pred.head()"
   ]
  }
 ],
 "metadata": {
  "kernelspec": {
   "display_name": "Python 3",
   "language": "python",
   "name": "python3"
  },
  "language_info": {
   "codemirror_mode": {
    "name": "ipython",
    "version": 3
   },
   "file_extension": ".py",
   "mimetype": "text/x-python",
   "name": "python",
   "nbconvert_exporter": "python",
   "pygments_lexer": "ipython3",
   "version": "3.5.2"
  }
 },
 "nbformat": 4,
 "nbformat_minor": 2
}
