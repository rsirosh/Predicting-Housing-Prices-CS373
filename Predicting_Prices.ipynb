{
 "cells": [
  {
   "cell_type": "code",
   "execution_count": 139,
   "metadata": {},
   "outputs": [],
   "source": [
    "import pandas as pd\n",
    "import numpy as np\n",
    "import numpy.linalg as la\n",
    "from sklearn.model_selection import train_test_split\n",
    "from sklearn.model_selection import learning_curve\n",
    "from sklearn.base import clone\n",
    "import timeit\n",
    "import math\n",
    "import matplotlib.pyplot as plt\n",
    "import matplotlib.patches as mpatches\n",
    "import warnings\n",
    "warnings.filterwarnings('ignore')"
   ]
  },
  {
   "cell_type": "code",
   "execution_count": 140,
   "metadata": {},
   "outputs": [],
   "source": [
    "def pca(F, X):\n",
    "    n, d = X.shape\n",
    "    mu = np.zeros((d, 1))\n",
    "    Z = np.zeros((d, F))\n",
    "    for i in range(d):\n",
    "        mu[i] = (1. / n) * np.sum(X[:, [i]])\n",
    "    X = X - mu.T\n",
    "    U, s, Vt = la.svd(X, False)\n",
    "    g = s[:F]\n",
    "    for i in range(F):\n",
    "        g[i] = 1. / g[i]\n",
    "    W = Vt[:F]\n",
    "    Z = np.dot(W.T, np.diag(g))\n",
    "    return (mu, Z)\n",
    "\n",
    "def pca_proj(X,mu,Z):\n",
    "    n, d = X.shape\n",
    "    X = X - mu.T\n",
    "    return np.dot(X, Z)"
   ]
  },
  {
   "cell_type": "code",
   "execution_count": 141,
   "metadata": {},
   "outputs": [],
   "source": [
    "def k_fold(k, model, f, X, y, error_type=\"mse\"):\n",
    "    n, d = X.shape\n",
    "    z = np.zeros((k, 1))\n",
    "    for i in range(k):\n",
    "        T = list(range(int((i * n) / k), int((n * (i + 1) / k))))\n",
    "        S = [j for j in range(n) if j not in T]\n",
    "        curr_model = clone(model)\n",
    "\n",
    "        training_mu, training_Z = pca(f, X[S])\n",
    "        training_X = pca_proj(X[S], training_mu, training_Z)\n",
    "\n",
    "        curr_model.fit(training_X, y[S])\n",
    "\n",
    "        test_X = pca_proj(X[T], training_mu, training_Z)\n",
    "\n",
    "        # y[T] will be len(T) by 1\n",
    "        # X[T] will be len(T) by d\n",
    "        if error_type == \"mse\":\n",
    "            z[i] = (1. / len(T)) * np.sum((y[T] - curr_model.predict(test_X)) ** 2)\n",
    "        elif error_type == \"log_mse\":\n",
    "            z[i] = (1. / len(T)) * np.sum((np.log(y[T] + 1) - np.log(curr_model.predict(test_X) + 1)) ** 2)\n",
    "    return z"
   ]
  },
  {
   "cell_type": "code",
   "execution_count": 142,
   "metadata": {},
   "outputs": [],
   "source": [
    "def bootstrapping(B, model, f, X, y, error_type=\"mse\"):\n",
    "    n, d = X.shape\n",
    "    z = np.zeros((B, 1))\n",
    "    for i in range(B):\n",
    "        u = np.random.choice(n, n, replace=True)\n",
    "        S = np.unique(u)\n",
    "        T = np.setdiff1d(np.arange(n), S, assume_unique=True)\n",
    "        curr_model = clone(model)\n",
    "\n",
    "        training_mu, training_Z = pca(f, X[u])\n",
    "        training_X = pca_proj(X[u], training_mu, training_Z)\n",
    "\n",
    "        curr_model.fit(training_X, y[u])\n",
    "\n",
    "        test_X = pca_proj(X[T], training_mu, training_Z)\n",
    "\n",
    "        # y[T] will be len(T) by 1\n",
    "        # X[T] will be len(T) by d\n",
    "        # theta_hat will be d by 1\n",
    "        if error_type == \"mse\":\n",
    "            z[i] = (1. / len(T)) * np.sum((y[T] - curr_model.predict(test_X)) ** 2)\n",
    "        elif error_type == \"log_mse\":\n",
    "            z[i] = (1. / len(T)) * np.sum((np.log(y[T] + 1) - np.log(curr_model.predict(test_X) + 1)) ** 2)\n",
    "    return z"
   ]
  },
  {
   "cell_type": "code",
   "execution_count": 143,
   "metadata": {},
   "outputs": [],
   "source": [
    "def evaluate_model(model, f, X, y, k=5, B=5):\n",
    "    ######################## KFOLD ###################\n",
    "    print('Evaluating K-fold with %d folds.' % k)\n",
    "    start_time = timeit.default_timer()\n",
    "    k_fold_z = k_fold(k, model, f, X, y, error_type=\"log_mse\")\n",
    "    elapsed = timeit.default_timer() - start_time\n",
    "    \n",
    "    k_fold_mse = np.mean(k_fold_z)\n",
    "    print('K-fold Mean Squared log Error: ', k_fold_mse)\n",
    "    \n",
    "    k_fold_rmse = math.sqrt(k_fold_mse)\n",
    "    print('K-fold Square Root Mean Squared log Error: ', k_fold_rmse)\n",
    "\n",
    "    print(\"Time elapsed for k-fold: \", elapsed)\n",
    "\n",
    "    print()\n",
    "    print()\n",
    "    \n",
    "    ################### BOOTSTRAPPING ################\n",
    "    print('Evaluating bootstrapping with %d bootstraps.' % B)\n",
    "    start_time = timeit.default_timer()\n",
    "    bootstrapping_z = bootstrapping(B, model, f, X, y)\n",
    "    elapsed = timeit.default_timer() - start_time\n",
    "\n",
    "    bootstrapping_mse = np.mean(bootstrapping_z)\n",
    "    print('Bootstrapping Mean Squared Error: ', bootstrapping_mse)\n",
    "\n",
    "    bootstrapping_rmse = math.sqrt(bootstrapping_mse)\n",
    "    print(\"Time elapsed for bootstrapping: \", elapsed)\n",
    "    \n",
    "    return (k_fold_z, k_fold_mse, k_fold_rmse, bootstrapping_z, bootstrapping_mse, bootstrapping_rmse)"
   ]
  },
  {
   "cell_type": "markdown",
   "metadata": {},
   "source": [
    "# Data Processing"
   ]
  },
  {
   "cell_type": "code",
   "execution_count": 144,
   "metadata": {},
   "outputs": [
    {
     "name": "stdout",
     "output_type": "stream",
     "text": [
      "\n",
      "========== Data Processing ==========\n",
      "\n"
     ]
    }
   ],
   "source": [
    "print()\n",
    "print(\"========== Data Processing ==========\")\n",
    "print()"
   ]
  },
  {
   "cell_type": "code",
   "execution_count": 145,
   "metadata": {},
   "outputs": [
    {
     "name": "stdout",
     "output_type": "stream",
     "text": [
      "(1460, 81)\n",
      "(1460, 80)\n",
      "(1460, 1)\n"
     ]
    }
   ],
   "source": [
    "data = pd.read_csv(\"train.csv\", header=0)\n",
    "print(data.shape)\n",
    "\n",
    "X = data.iloc[:,:-1]\n",
    "Y = data.iloc[:,-1:]\n",
    "\n",
    "print(X.shape)\n",
    "print(Y.shape)"
   ]
  },
  {
   "cell_type": "code",
   "execution_count": 146,
   "metadata": {},
   "outputs": [
    {
     "name": "stdout",
     "output_type": "stream",
     "text": [
      "Print features with null values:\n",
      "Alley\n",
      "PoolQC\n",
      "Fence\n",
      "MiscFeature\n"
     ]
    }
   ],
   "source": [
    "print(\"Print features with null values:\")\n",
    "# this just sums up how many nulls per feature and divides to find percentage of nulls per feature\n",
    "# if over 50% null then print the feature\n",
    "data_keys = X.keys()\n",
    "for i, b in enumerate((X.isnull().sum() / X.shape[0]) > 0.5):\n",
    "    if b:\n",
    "        print(data_keys[i])"
   ]
  },
  {
   "cell_type": "code",
   "execution_count": 147,
   "metadata": {},
   "outputs": [
    {
     "name": "stdout",
     "output_type": "stream",
     "text": [
      "Replace categorical Values with numerical scale:\n",
      "\n"
     ]
    },
    {
     "data": {
      "text/html": [
       "<div>\n",
       "<style scoped>\n",
       "    .dataframe tbody tr th:only-of-type {\n",
       "        vertical-align: middle;\n",
       "    }\n",
       "\n",
       "    .dataframe tbody tr th {\n",
       "        vertical-align: top;\n",
       "    }\n",
       "\n",
       "    .dataframe thead th {\n",
       "        text-align: right;\n",
       "    }\n",
       "</style>\n",
       "<table border=\"1\" class=\"dataframe\">\n",
       "  <thead>\n",
       "    <tr style=\"text-align: right;\">\n",
       "      <th></th>\n",
       "      <th>ExterQual</th>\n",
       "      <th>ExterCond</th>\n",
       "      <th>BsmtQual</th>\n",
       "      <th>BsmtCond</th>\n",
       "      <th>HeatingQC</th>\n",
       "      <th>KitchenQual</th>\n",
       "      <th>FireplaceQu</th>\n",
       "      <th>GarageQual</th>\n",
       "      <th>GarageCond</th>\n",
       "    </tr>\n",
       "  </thead>\n",
       "  <tbody>\n",
       "    <tr>\n",
       "      <th>0</th>\n",
       "      <td>4</td>\n",
       "      <td>3</td>\n",
       "      <td>4.0</td>\n",
       "      <td>3.0</td>\n",
       "      <td>5</td>\n",
       "      <td>4</td>\n",
       "      <td>NaN</td>\n",
       "      <td>3.0</td>\n",
       "      <td>3.0</td>\n",
       "    </tr>\n",
       "    <tr>\n",
       "      <th>1</th>\n",
       "      <td>3</td>\n",
       "      <td>3</td>\n",
       "      <td>4.0</td>\n",
       "      <td>3.0</td>\n",
       "      <td>5</td>\n",
       "      <td>3</td>\n",
       "      <td>3.0</td>\n",
       "      <td>3.0</td>\n",
       "      <td>3.0</td>\n",
       "    </tr>\n",
       "    <tr>\n",
       "      <th>2</th>\n",
       "      <td>4</td>\n",
       "      <td>3</td>\n",
       "      <td>4.0</td>\n",
       "      <td>3.0</td>\n",
       "      <td>5</td>\n",
       "      <td>4</td>\n",
       "      <td>3.0</td>\n",
       "      <td>3.0</td>\n",
       "      <td>3.0</td>\n",
       "    </tr>\n",
       "    <tr>\n",
       "      <th>3</th>\n",
       "      <td>3</td>\n",
       "      <td>3</td>\n",
       "      <td>3.0</td>\n",
       "      <td>4.0</td>\n",
       "      <td>4</td>\n",
       "      <td>4</td>\n",
       "      <td>4.0</td>\n",
       "      <td>3.0</td>\n",
       "      <td>3.0</td>\n",
       "    </tr>\n",
       "    <tr>\n",
       "      <th>4</th>\n",
       "      <td>4</td>\n",
       "      <td>3</td>\n",
       "      <td>4.0</td>\n",
       "      <td>3.0</td>\n",
       "      <td>5</td>\n",
       "      <td>4</td>\n",
       "      <td>3.0</td>\n",
       "      <td>3.0</td>\n",
       "      <td>3.0</td>\n",
       "    </tr>\n",
       "  </tbody>\n",
       "</table>\n",
       "</div>"
      ],
      "text/plain": [
       "   ExterQual  ExterCond  BsmtQual  BsmtCond  HeatingQC  KitchenQual  \\\n",
       "0          4          3       4.0       3.0          5            4   \n",
       "1          3          3       4.0       3.0          5            3   \n",
       "2          4          3       4.0       3.0          5            4   \n",
       "3          3          3       3.0       4.0          4            4   \n",
       "4          4          3       4.0       3.0          5            4   \n",
       "\n",
       "   FireplaceQu  GarageQual  GarageCond  \n",
       "0          NaN         3.0         3.0  \n",
       "1          3.0         3.0         3.0  \n",
       "2          3.0         3.0         3.0  \n",
       "3          4.0         3.0         3.0  \n",
       "4          3.0         3.0         3.0  "
      ]
     },
     "execution_count": 147,
     "metadata": {},
     "output_type": "execute_result"
    }
   ],
   "source": [
    "print(\"Replace categorical Values with numerical scale:\\n\")\n",
    "# Replaces categorical value in Quality columns with numerical scale\n",
    "qualityCols = ['ExterQual', 'ExterCond', 'BsmtQual', 'BsmtCond', 'HeatingQC',\n",
    "              'KitchenQual', 'FireplaceQu', 'GarageQual', 'GarageCond']\n",
    "\n",
    "data[qualityCols].head()\n",
    "\n",
    "for col in qualityCols:\n",
    "    # NA is never used since all NA's got converted to NaN objects when pandas read in the csv\n",
    "    data[col] = data[col].map({'Ex': 5, 'Gd': 4, 'TA': 3, 'Fa': 2, 'Po':1, 'NA': 0})\n",
    "\n",
    "data[qualityCols].head()"
   ]
  },
  {
   "cell_type": "code",
   "execution_count": 148,
   "metadata": {},
   "outputs": [
    {
     "name": "stdout",
     "output_type": "stream",
     "text": [
      "{'GarageFinish', 'GarageType', 'RoofStyle', 'BsmtFinType2', 'KitchenQual', 'Foundation', 'ExterQual', 'Condition2', 'Alley', 'Electrical', 'LandSlope', 'PoolQC', 'LotShape', 'LandContour', 'PavedDrive', 'BsmtExposure', 'Utilities', 'SaleCondition', 'CentralAir', 'Condition1', 'BsmtQual', 'ExterCond', 'HouseStyle', 'BldgType', 'LotConfig', 'Exterior1st', 'Street', 'Heating', 'FireplaceQu', 'RoofMatl', 'Fence', 'MasVnrType', 'HeatingQC', 'MiscFeature', 'SaleType', 'Exterior2nd', 'BsmtFinType1', 'BsmtCond', 'Functional', 'GarageQual', 'MSZoning', 'GarageCond', 'Neighborhood'}\n"
     ]
    }
   ],
   "source": [
    "# categorical columns\n",
    "catCols = set(list(X))-set(list(X._get_numeric_data()))\n",
    "print(catCols)\n",
    "\n",
    "#Fill Categorical Column Null values with 0\n",
    "for col in catCols:\n",
    "    data[col].fillna(0, inplace=True)\n",
    "\n",
    "#Fill numerical column null values with mean of column\n",
    "data = data.fillna(data.mean())"
   ]
  },
  {
   "cell_type": "code",
   "execution_count": 149,
   "metadata": {},
   "outputs": [],
   "source": [
    "#Perform one hot encoding on all categorical columns\n",
    "frames = []\n",
    "for col in catCols:\n",
    "    oneHot_encoded = pd.get_dummies(X[col])\n",
    "    oneHot_encoded = oneHot_encoded.add_prefix(col + '_is_')\n",
    "    frames.append(oneHot_encoded)\n",
    "\n",
    "X = X.drop(catCols, axis=1)\n",
    "\n",
    "X = pd.concat(frames, axis=1)"
   ]
  },
  {
   "cell_type": "code",
   "execution_count": 150,
   "metadata": {},
   "outputs": [
    {
     "data": {
      "text/plain": [
       "Index(['GarageFinish_is_Fin', 'GarageFinish_is_RFn', 'GarageFinish_is_Unf',\n",
       "       'GarageType_is_2Types', 'GarageType_is_Attchd', 'GarageType_is_Basment',\n",
       "       'GarageType_is_BuiltIn', 'GarageType_is_CarPort',\n",
       "       'GarageType_is_Detchd', 'RoofStyle_is_Flat',\n",
       "       ...\n",
       "       'Neighborhood_is_NoRidge', 'Neighborhood_is_NridgHt',\n",
       "       'Neighborhood_is_OldTown', 'Neighborhood_is_SWISU',\n",
       "       'Neighborhood_is_Sawyer', 'Neighborhood_is_SawyerW',\n",
       "       'Neighborhood_is_Somerst', 'Neighborhood_is_StoneBr',\n",
       "       'Neighborhood_is_Timber', 'Neighborhood_is_Veenker'],\n",
       "      dtype='object', length=252)"
      ]
     },
     "execution_count": 150,
     "metadata": {},
     "output_type": "execute_result"
    }
   ],
   "source": [
    "X.keys()"
   ]
  },
  {
   "cell_type": "code",
   "execution_count": 151,
   "metadata": {},
   "outputs": [
    {
     "data": {
      "text/plain": [
       "False"
      ]
     },
     "execution_count": 151,
     "metadata": {},
     "output_type": "execute_result"
    }
   ],
   "source": [
    "X.isnull().values.any()"
   ]
  },
  {
   "cell_type": "code",
   "execution_count": 152,
   "metadata": {},
   "outputs": [],
   "source": [
    "# 80:20 train test ratio\n",
    "test_size = 0.2\n",
    "# This function splits the training and target sets into random train and test subsets.\n",
    "# X_train and X_test are subsets of the training data\n",
    "# y_train and y_test are subsets the the target data\n",
    "X_train, X_test, y_train, y_test = train_test_split(X, Y, test_size=test_size)"
   ]
  },
  {
   "cell_type": "markdown",
   "metadata": {},
   "source": [
    "# PCA Feature Selection"
   ]
  },
  {
   "cell_type": "code",
   "execution_count": 153,
   "metadata": {},
   "outputs": [],
   "source": [
    "# This value was determined based on the PCA Plots generated below\n",
    "F = 50\n",
    "f = 50"
   ]
  },
  {
   "cell_type": "code",
   "execution_count": 154,
   "metadata": {},
   "outputs": [],
   "source": [
    "X_mu, X_Z = pca(F, X.values)\n",
    "X_pca = pca_proj(X.values, X_mu, X_Z)"
   ]
  },
  {
   "cell_type": "code",
   "execution_count": 155,
   "metadata": {},
   "outputs": [
    {
     "name": "stdout",
     "output_type": "stream",
     "text": [
      "(252, 1)\n",
      "(252, 50)\n",
      "(1460, 50)\n"
     ]
    }
   ],
   "source": [
    "print(X_mu.shape)\n",
    "print(X_Z.shape)\n",
    "print(X_pca.shape)"
   ]
  },
  {
   "cell_type": "code",
   "execution_count": 100,
   "metadata": {},
   "outputs": [],
   "source": [
    "X_train_mu, X_train_Z = pca(F, X_train.values)"
   ]
  },
  {
   "cell_type": "code",
   "execution_count": 101,
   "metadata": {},
   "outputs": [
    {
     "name": "stdout",
     "output_type": "stream",
     "text": [
      "(252, 1)\n",
      "(252, 50)\n"
     ]
    }
   ],
   "source": [
    "print(X_train_mu.shape)\n",
    "print(X_train_Z.shape)"
   ]
  },
  {
   "cell_type": "code",
   "execution_count": 102,
   "metadata": {},
   "outputs": [
    {
     "name": "stdout",
     "output_type": "stream",
     "text": [
      "(1168, 50)\n",
      "(292, 50)\n"
     ]
    }
   ],
   "source": [
    "X_train_pca = pca_proj(X_train.values, X_train_mu, X_train_Z)\n",
    "print(X_train_pca.shape)\n",
    "\n",
    "X_test_pca = pca_proj(X_test.values, X_train_mu, X_train_Z)\n",
    "print(X_test_pca.shape)"
   ]
  },
  {
   "cell_type": "markdown",
   "metadata": {},
   "source": [
    "# AdaBoost"
   ]
  },
  {
   "cell_type": "code",
   "execution_count": 158,
   "metadata": {},
   "outputs": [
    {
     "name": "stdout",
     "output_type": "stream",
     "text": [
      "\n",
      "========== AdaBoost ==========\n",
      "\n",
      "Evaluating K-fold with 5 folds.\n",
      "K-fold Mean Squared log Error:  0.08289387022210948\n",
      "K-fold Square Root Mean Squared log Error:  0.28791295598168115\n",
      "Time elapsed for k-fold:  2.5979019999995216\n",
      "\n",
      "\n",
      "Evaluating bootstrapping with 5 bootstraps.\n",
      "Bootstrapping Mean Squared Error:  2727658745.7575235\n",
      "Time elapsed for bootstrapping:  2.776842000000215\n"
     ]
    },
    {
     "data": {
      "text/plain": [
       "-0.07872082958762894"
      ]
     },
     "execution_count": 158,
     "metadata": {},
     "output_type": "execute_result"
    }
   ],
   "source": [
    "print()\n",
    "print(\"========== AdaBoost ==========\")\n",
    "print()\n",
    "from sklearn.ensemble import AdaBoostRegressor\n",
    "adaBoost = AdaBoostRegressor()\n",
    "k_z, k_mse, k_rmse, b_z, b_mse, b_rmse = evaluate_model(adaBoost, f, X.values, Y.values.ravel(), k=5, B=5)\n",
    "\n",
    "adaBoost = AdaBoostRegressor(n_estimators=25)\n",
    "adaBoost.fit(X_train_pca, y_train.values.ravel())\n",
    "adaBoost.score(X_test_pca, y_test.values.ravel())"
   ]
  },
  {
   "cell_type": "code",
   "execution_count": 104,
   "metadata": {},
   "outputs": [
    {
     "data": {
      "text/html": [
       "<div>\n",
       "<style scoped>\n",
       "    .dataframe tbody tr th:only-of-type {\n",
       "        vertical-align: middle;\n",
       "    }\n",
       "\n",
       "    .dataframe tbody tr th {\n",
       "        vertical-align: top;\n",
       "    }\n",
       "\n",
       "    .dataframe thead th {\n",
       "        text-align: right;\n",
       "    }\n",
       "</style>\n",
       "<table border=\"1\" class=\"dataframe\">\n",
       "  <thead>\n",
       "    <tr style=\"text-align: right;\">\n",
       "      <th></th>\n",
       "      <th>SalePrice</th>\n",
       "      <th>predicted</th>\n",
       "    </tr>\n",
       "  </thead>\n",
       "  <tbody>\n",
       "    <tr>\n",
       "      <th>1082</th>\n",
       "      <td>192000</td>\n",
       "      <td>221313.425000</td>\n",
       "    </tr>\n",
       "    <tr>\n",
       "      <th>740</th>\n",
       "      <td>132000</td>\n",
       "      <td>144750.351178</td>\n",
       "    </tr>\n",
       "    <tr>\n",
       "      <th>954</th>\n",
       "      <td>127500</td>\n",
       "      <td>184678.090909</td>\n",
       "    </tr>\n",
       "    <tr>\n",
       "      <th>1323</th>\n",
       "      <td>82500</td>\n",
       "      <td>167509.414226</td>\n",
       "    </tr>\n",
       "    <tr>\n",
       "      <th>856</th>\n",
       "      <td>147000</td>\n",
       "      <td>152360.639175</td>\n",
       "    </tr>\n",
       "  </tbody>\n",
       "</table>\n",
       "</div>"
      ],
      "text/plain": [
       "      SalePrice      predicted\n",
       "1082     192000  221313.425000\n",
       "740      132000  144750.351178\n",
       "954      127500  184678.090909\n",
       "1323      82500  167509.414226\n",
       "856      147000  152360.639175"
      ]
     },
     "execution_count": 104,
     "metadata": {},
     "output_type": "execute_result"
    }
   ],
   "source": [
    "#View Predicted values\n",
    "predicted = adaBoost.predict(X_test_pca)\n",
    "ada_pred = y_test.copy()\n",
    "ada_pred['predicted'] = predicted\n",
    "ada_pred.head()"
   ]
  },
  {
   "cell_type": "markdown",
   "metadata": {},
   "source": [
    "# XGBoost Regressor"
   ]
  },
  {
   "cell_type": "code",
   "execution_count": 159,
   "metadata": {},
   "outputs": [
    {
     "name": "stdout",
     "output_type": "stream",
     "text": [
      "\n",
      "========== XgBoost ==========\n",
      "\n",
      "Evaluating K-fold with 5 folds.\n",
      "K-fold Mean Squared log Error:  0.04850286442373754\n",
      "K-fold Square Root Mean Squared log Error:  0.22023365869852304\n",
      "Time elapsed for k-fold:  1.700275000000147\n",
      "\n",
      "\n",
      "Evaluating bootstrapping with 5 bootstraps.\n",
      "Bootstrapping Mean Squared Error:  2046037620.4376779\n",
      "Time elapsed for bootstrapping:  1.9376900000006572\n"
     ]
    },
    {
     "data": {
      "text/plain": [
       "-0.10250026542820212"
      ]
     },
     "execution_count": 159,
     "metadata": {},
     "output_type": "execute_result"
    }
   ],
   "source": [
    "print()\n",
    "print(\"========== XgBoost ==========\")\n",
    "print()\n",
    "\n",
    "from xgboost import XGBRegressor\n",
    "xgb = XGBRegressor(max_depth=3, learning_rate=0.2, booster='gbtree', n_estimators=70)\n",
    "k_z, k_mse, k_rmse, b_z, b_mse, b_rmse = evaluate_model(xgb, f, X.values, Y.values.ravel(), k=5, B=5)\n",
    "\n",
    "xgb.fit(X_train_pca, y_train)\n",
    "xgb.score(X_test_pca, y_test.values.ravel())"
   ]
  },
  {
   "cell_type": "code",
   "execution_count": 160,
   "metadata": {},
   "outputs": [
    {
     "data": {
      "text/html": [
       "<div>\n",
       "<style scoped>\n",
       "    .dataframe tbody tr th:only-of-type {\n",
       "        vertical-align: middle;\n",
       "    }\n",
       "\n",
       "    .dataframe tbody tr th {\n",
       "        vertical-align: top;\n",
       "    }\n",
       "\n",
       "    .dataframe thead th {\n",
       "        text-align: right;\n",
       "    }\n",
       "</style>\n",
       "<table border=\"1\" class=\"dataframe\">\n",
       "  <thead>\n",
       "    <tr style=\"text-align: right;\">\n",
       "      <th></th>\n",
       "      <th>SalePrice</th>\n",
       "      <th>predicted</th>\n",
       "    </tr>\n",
       "  </thead>\n",
       "  <tbody>\n",
       "    <tr>\n",
       "      <th>1291</th>\n",
       "      <td>119500</td>\n",
       "      <td>182656.171875</td>\n",
       "    </tr>\n",
       "    <tr>\n",
       "      <th>1240</th>\n",
       "      <td>224900</td>\n",
       "      <td>218658.171875</td>\n",
       "    </tr>\n",
       "    <tr>\n",
       "      <th>690</th>\n",
       "      <td>141000</td>\n",
       "      <td>147633.968750</td>\n",
       "    </tr>\n",
       "    <tr>\n",
       "      <th>706</th>\n",
       "      <td>302000</td>\n",
       "      <td>165326.359375</td>\n",
       "    </tr>\n",
       "    <tr>\n",
       "      <th>208</th>\n",
       "      <td>277000</td>\n",
       "      <td>146229.109375</td>\n",
       "    </tr>\n",
       "  </tbody>\n",
       "</table>\n",
       "</div>"
      ],
      "text/plain": [
       "      SalePrice      predicted\n",
       "1291     119500  182656.171875\n",
       "1240     224900  218658.171875\n",
       "690      141000  147633.968750\n",
       "706      302000  165326.359375\n",
       "208      277000  146229.109375"
      ]
     },
     "execution_count": 160,
     "metadata": {},
     "output_type": "execute_result"
    }
   ],
   "source": [
    "predicted = xgb.predict(X_test_pca)\n",
    "xgb_pred = y_test.copy()\n",
    "xgb_pred['predicted'] = predicted\n",
    "xgb_pred.head()"
   ]
  },
  {
   "cell_type": "markdown",
   "metadata": {},
   "source": [
    "# SVM (SVR)"
   ]
  },
  {
   "cell_type": "code",
   "execution_count": 161,
   "metadata": {},
   "outputs": [
    {
     "name": "stdout",
     "output_type": "stream",
     "text": [
      "\n",
      "========== SVR ==========\n",
      "\n",
      "Evaluating K-fold with 5 folds.\n",
      "K-fold Mean Squared log Error:  0.054210540665989494\n",
      "K-fold Square Root Mean Squared log Error:  0.2328315714545377\n",
      "Time elapsed for k-fold:  1.3860459999996237\n",
      "\n",
      "\n",
      "Evaluating bootstrapping with 5 bootstraps.\n",
      "Bootstrapping Mean Squared Error:  2811506486.24859\n",
      "Time elapsed for bootstrapping:  1.9106480000000374\n"
     ]
    },
    {
     "data": {
      "text/plain": [
       "-0.06465747808979527"
      ]
     },
     "execution_count": 161,
     "metadata": {},
     "output_type": "execute_result"
    }
   ],
   "source": [
    "print()\n",
    "print(\"========== SVR ==========\")\n",
    "print()\n",
    "\n",
    "from sklearn import svm\n",
    "svr_model = svm.SVR(kernel=\"poly\", coef0=-3500, gamma=\"auto\")\n",
    "# coef0 only works with poly and sigmoid kernels\n",
    "# it just puts that value instead of the column of 1's\n",
    "\n",
    "# without it, this model breaks for some reason\n",
    "\n",
    "k_z, k_mse, k_rmse, b_z, b_mse, b_rmse = evaluate_model(svr_model, f, X.values, Y.values.ravel(), k=5, B=5)\n",
    "\n",
    "# epsilon, degree\n",
    "svr_model.fit(X_train_pca, y_train.values.ravel())\n",
    "svr_model.score(X_test_pca, y_test.values.ravel())"
   ]
  },
  {
   "cell_type": "code",
   "execution_count": 162,
   "metadata": {},
   "outputs": [
    {
     "data": {
      "text/html": [
       "<div>\n",
       "<style scoped>\n",
       "    .dataframe tbody tr th:only-of-type {\n",
       "        vertical-align: middle;\n",
       "    }\n",
       "\n",
       "    .dataframe tbody tr th {\n",
       "        vertical-align: top;\n",
       "    }\n",
       "\n",
       "    .dataframe thead th {\n",
       "        text-align: right;\n",
       "    }\n",
       "</style>\n",
       "<table border=\"1\" class=\"dataframe\">\n",
       "  <thead>\n",
       "    <tr style=\"text-align: right;\">\n",
       "      <th></th>\n",
       "      <th>SalePrice</th>\n",
       "      <th>predicted</th>\n",
       "    </tr>\n",
       "  </thead>\n",
       "  <tbody>\n",
       "    <tr>\n",
       "      <th>1291</th>\n",
       "      <td>119500</td>\n",
       "      <td>182512.212828</td>\n",
       "    </tr>\n",
       "    <tr>\n",
       "      <th>1240</th>\n",
       "      <td>224900</td>\n",
       "      <td>166571.869490</td>\n",
       "    </tr>\n",
       "    <tr>\n",
       "      <th>690</th>\n",
       "      <td>141000</td>\n",
       "      <td>168356.692336</td>\n",
       "    </tr>\n",
       "    <tr>\n",
       "      <th>706</th>\n",
       "      <td>302000</td>\n",
       "      <td>149207.762129</td>\n",
       "    </tr>\n",
       "    <tr>\n",
       "      <th>208</th>\n",
       "      <td>277000</td>\n",
       "      <td>169859.534880</td>\n",
       "    </tr>\n",
       "  </tbody>\n",
       "</table>\n",
       "</div>"
      ],
      "text/plain": [
       "      SalePrice      predicted\n",
       "1291     119500  182512.212828\n",
       "1240     224900  166571.869490\n",
       "690      141000  168356.692336\n",
       "706      302000  149207.762129\n",
       "208      277000  169859.534880"
      ]
     },
     "execution_count": 162,
     "metadata": {},
     "output_type": "execute_result"
    }
   ],
   "source": [
    "svr_predicted = svr_model.predict(X_test_pca)\n",
    "svr_pred = y_test.copy()\n",
    "svr_pred[\"predicted\"] = svr_predicted\n",
    "svr_pred.head()"
   ]
  },
  {
   "cell_type": "markdown",
   "metadata": {},
   "source": [
    "# Hyperparameter Tuning"
   ]
  },
  {
   "cell_type": "code",
   "execution_count": 163,
   "metadata": {},
   "outputs": [],
   "source": [
    "#This takes time (~2mins)\n",
    "def tune_hyperparameters():\n",
    "    adaboost_param_tuning = pd.DataFrame(columns=['parameter', 'rmse'])\n",
    "    xgb_param_tuning = pd.DataFrame(columns=['parameter', 'rmse'])    \n",
    "    svr_param_tuning = pd.DataFrame(columns=['parameter', 'rmse'])    \n",
    "\n",
    "    #Tuning n estimators parameter for boosting algorithms\n",
    "    for i in range(25,200,25):\n",
    "        print(\"Boosting: \" + str(i))\n",
    "        adaBoost = AdaBoostRegressor(n_estimators=i)\n",
    "        print(adaBoost)\n",
    "        k_fold_z, k_fold_mse, k_fold_rmse, bootstrapping_z, bootstrapping_mse, bootstrapping_rmse = evaluate_model(adaBoost, f, X_pca, Y.values.ravel(), k=5, B=5)\n",
    "        adaboost_param_tuning = adaboost_param_tuning.append({'parameter': i, 'rmse': k_fold_rmse}, ignore_index=True)\n",
    "        xgb = XGBRegressor(max_depth=3, learning_rate=0.2, booster='gbtree', n_estimators=i)\n",
    "        k_fold_z, k_fold_mse, k_fold_rmse, bootstrapping_z, bootstrapping_mse, bootstrapping_rmse = evaluate_model(xgb, f, X_pca, Y.values.ravel(), k=5, B=5)\n",
    "        xgb_param_tuning = xgb_param_tuning.append({'parameter': i, 'rmse': k_fold_rmse}, ignore_index=True)\n",
    "        \n",
    "    #for i in range(25,200,25):\n",
    "    c_vals = [0.01, 0.1, 10, 100]\n",
    "    for i in c_vals:\n",
    "        print(\"C: \" + str(i))\n",
    "        svr_model = svm.SVR(kernel=\"poly\", coef0=-3500, gamma=\"auto\", C=i)\n",
    "        k_fold_z, k_fold_mse, k_fold_rmse, bootstrapping_z, bootstrapping_mse, bootstrapping_rmse = evaluate_model(svr_model, f, X_pca, Y.values.ravel(), k=5, B=5)\n",
    "        svr_param_tuning = svr_param_tuning.append({'parameter': i, 'rmse': k_fold_rmse}, ignore_index=True)\n",
    "\n",
    "    return xgb_param_tuning, adaboost_param_tuning, svr_param_tuning"
   ]
  },
  {
   "cell_type": "code",
   "execution_count": 164,
   "metadata": {},
   "outputs": [
    {
     "name": "stdout",
     "output_type": "stream",
     "text": [
      "========== Hyper-Parameter Tuning ==========\n",
      "\n",
      "Boosting: 25\n",
      "AdaBoostRegressor(base_estimator=None, learning_rate=1.0, loss='linear',\n",
      "         n_estimators=25, random_state=None)\n",
      "Evaluating K-fold with 5 folds.\n",
      "K-fold Mean Squared log Error:  0.12399349589016047\n",
      "K-fold Square Root Mean Squared log Error:  0.35212710189668794\n",
      "Time elapsed for k-fold:  1.5105579999999463\n",
      "\n",
      "\n",
      "Evaluating bootstrapping with 5 bootstraps.\n",
      "Bootstrapping Mean Squared Error:  4269602067.879049\n",
      "Time elapsed for bootstrapping:  1.6587749999998778\n",
      "Evaluating K-fold with 5 folds.\n",
      "K-fold Mean Squared log Error:  0.08543503581660142\n",
      "K-fold Square Root Mean Squared log Error:  0.29229272282525515\n",
      "Time elapsed for k-fold:  0.689209000000119\n",
      "\n",
      "\n",
      "Evaluating bootstrapping with 5 bootstraps.\n",
      "Bootstrapping Mean Squared Error:  2843607348.7152886\n",
      "Time elapsed for bootstrapping:  0.740802000000258\n",
      "Boosting: 50\n",
      "AdaBoostRegressor(base_estimator=None, learning_rate=1.0, loss='linear',\n",
      "         n_estimators=50, random_state=None)\n",
      "Evaluating K-fold with 5 folds.\n",
      "K-fold Mean Squared log Error:  0.12196848555059965\n",
      "K-fold Square Root Mean Squared log Error:  0.3492398682146694\n",
      "Time elapsed for k-fold:  2.4572629999993296\n",
      "\n",
      "\n",
      "Evaluating bootstrapping with 5 bootstraps.\n",
      "Bootstrapping Mean Squared Error:  3967022519.2921724\n",
      "Time elapsed for bootstrapping:  2.7682690000001458\n",
      "Evaluating K-fold with 5 folds.\n",
      "K-fold Mean Squared log Error:  0.07543873217516897\n",
      "K-fold Square Root Mean Squared log Error:  0.2746611224312043\n",
      "Time elapsed for k-fold:  1.1184290000001056\n",
      "\n",
      "\n",
      "Evaluating bootstrapping with 5 bootstraps.\n",
      "Bootstrapping Mean Squared Error:  2988765886.461564\n",
      "Time elapsed for bootstrapping:  1.185986999999841\n",
      "Boosting: 75\n",
      "AdaBoostRegressor(base_estimator=None, learning_rate=1.0, loss='linear',\n",
      "         n_estimators=75, random_state=None)\n",
      "Evaluating K-fold with 5 folds.\n",
      "K-fold Mean Squared log Error:  0.12488730494015914\n",
      "K-fold Square Root Mean Squared log Error:  0.3533939797735088\n",
      "Time elapsed for k-fold:  3.2348289999999906\n",
      "\n",
      "\n",
      "Evaluating bootstrapping with 5 bootstraps.\n",
      "Bootstrapping Mean Squared Error:  3775103305.900585\n",
      "Time elapsed for bootstrapping:  3.474796999999853\n",
      "Evaluating K-fold with 5 folds.\n",
      "K-fold Mean Squared log Error:  0.07335626891351801\n",
      "K-fold Square Root Mean Squared log Error:  0.27084362446533244\n",
      "Time elapsed for k-fold:  1.423399000000245\n",
      "\n",
      "\n",
      "Evaluating bootstrapping with 5 bootstraps.\n",
      "Bootstrapping Mean Squared Error:  2624875552.947541\n",
      "Time elapsed for bootstrapping:  1.6333560000002763\n",
      "Boosting: 100\n",
      "AdaBoostRegressor(base_estimator=None, learning_rate=1.0, loss='linear',\n",
      "         n_estimators=100, random_state=None)\n",
      "Evaluating K-fold with 5 folds.\n",
      "K-fold Mean Squared log Error:  0.1262031778818949\n",
      "K-fold Square Root Mean Squared log Error:  0.35525086612406015\n",
      "Time elapsed for k-fold:  3.9771979999995892\n",
      "\n",
      "\n",
      "Evaluating bootstrapping with 5 bootstraps.\n",
      "Bootstrapping Mean Squared Error:  3951573938.790016\n",
      "Time elapsed for bootstrapping:  4.4094969999996465\n",
      "Evaluating K-fold with 5 folds.\n",
      "K-fold Mean Squared log Error:  0.07642429144796956\n",
      "K-fold Square Root Mean Squared log Error:  0.276449437416627\n",
      "Time elapsed for k-fold:  1.7897769999999582\n",
      "\n",
      "\n",
      "Evaluating bootstrapping with 5 bootstraps.\n",
      "Bootstrapping Mean Squared Error:  2458959823.704068\n",
      "Time elapsed for bootstrapping:  2.088101999999708\n",
      "Boosting: 125\n",
      "AdaBoostRegressor(base_estimator=None, learning_rate=1.0, loss='linear',\n",
      "         n_estimators=125, random_state=None)\n",
      "Evaluating K-fold with 5 folds.\n",
      "K-fold Mean Squared log Error:  0.12604485254221057\n",
      "K-fold Square Root Mean Squared log Error:  0.35502796022596667\n",
      "Time elapsed for k-fold:  4.730413000000226\n",
      "\n",
      "\n",
      "Evaluating bootstrapping with 5 bootstraps.\n",
      "Bootstrapping Mean Squared Error:  4025573340.0712495\n",
      "Time elapsed for bootstrapping:  5.244510999999875\n",
      "Evaluating K-fold with 5 folds.\n",
      "K-fold Mean Squared log Error:  nan\n",
      "K-fold Square Root Mean Squared log Error:  nan\n",
      "Time elapsed for k-fold:  2.1511129999998957\n",
      "\n",
      "\n",
      "Evaluating bootstrapping with 5 bootstraps.\n",
      "Bootstrapping Mean Squared Error:  2676201049.515422\n",
      "Time elapsed for bootstrapping:  2.5575000000008004\n",
      "Boosting: 150\n",
      "AdaBoostRegressor(base_estimator=None, learning_rate=1.0, loss='linear',\n",
      "         n_estimators=150, random_state=None)\n",
      "Evaluating K-fold with 5 folds.\n",
      "K-fold Mean Squared log Error:  0.12608647759243627\n",
      "K-fold Square Root Mean Squared log Error:  0.35508657760106377\n",
      "Time elapsed for k-fold:  5.564682999999604\n",
      "\n",
      "\n",
      "Evaluating bootstrapping with 5 bootstraps.\n",
      "Bootstrapping Mean Squared Error:  4109453496.460406\n",
      "Time elapsed for bootstrapping:  6.19398799999999\n",
      "Evaluating K-fold with 5 folds.\n",
      "K-fold Mean Squared log Error:  nan\n",
      "K-fold Square Root Mean Squared log Error:  nan\n",
      "Time elapsed for k-fold:  2.537247999999636\n",
      "\n",
      "\n",
      "Evaluating bootstrapping with 5 bootstraps.\n",
      "Bootstrapping Mean Squared Error:  2559187108.793521\n",
      "Time elapsed for bootstrapping:  3.0289300000004005\n",
      "Boosting: 175\n",
      "AdaBoostRegressor(base_estimator=None, learning_rate=1.0, loss='linear',\n",
      "         n_estimators=175, random_state=None)\n",
      "Evaluating K-fold with 5 folds.\n",
      "K-fold Mean Squared log Error:  0.12322584082596337\n",
      "K-fold Square Root Mean Squared log Error:  0.35103538400845485\n",
      "Time elapsed for k-fold:  6.224623999999494\n",
      "\n",
      "\n",
      "Evaluating bootstrapping with 5 bootstraps.\n",
      "Bootstrapping Mean Squared Error:  4034524324.311288\n",
      "Time elapsed for bootstrapping:  6.838649999999689\n",
      "Evaluating K-fold with 5 folds.\n",
      "K-fold Mean Squared log Error:  nan\n",
      "K-fold Square Root Mean Squared log Error:  nan\n",
      "Time elapsed for k-fold:  2.894390999999814\n",
      "\n",
      "\n",
      "Evaluating bootstrapping with 5 bootstraps.\n",
      "Bootstrapping Mean Squared Error:  2420261075.9416385\n",
      "Time elapsed for bootstrapping:  3.5377370000005612\n",
      "C: 0.01\n",
      "Evaluating K-fold with 5 folds.\n",
      "K-fold Mean Squared log Error:  0.13873954541536326\n",
      "K-fold Square Root Mean Squared log Error:  0.3724775770638593\n",
      "Time elapsed for k-fold:  0.9281280000004699\n",
      "\n",
      "\n",
      "Evaluating bootstrapping with 5 bootstraps.\n",
      "Bootstrapping Mean Squared Error:  6026376989.643591\n",
      "Time elapsed for bootstrapping:  1.3875729999999749\n",
      "C: 0.1\n",
      "Evaluating K-fold with 5 folds.\n",
      "K-fold Mean Squared log Error:  0.06569656683419603\n",
      "K-fold Square Root Mean Squared log Error:  0.2563134152442982\n",
      "Time elapsed for k-fold:  1.0229269999999815\n",
      "\n",
      "\n",
      "Evaluating bootstrapping with 5 bootstraps.\n",
      "Bootstrapping Mean Squared Error:  3354918076.0583143\n",
      "Time elapsed for bootstrapping:  1.4309549999998126\n",
      "C: 10\n",
      "Evaluating K-fold with 5 folds.\n",
      "K-fold Mean Squared log Error:  nan\n",
      "K-fold Square Root Mean Squared log Error:  nan\n",
      "Time elapsed for k-fold:  1.308614999999918\n",
      "\n",
      "\n",
      "Evaluating bootstrapping with 5 bootstraps.\n",
      "Bootstrapping Mean Squared Error:  60820061806.76634\n",
      "Time elapsed for bootstrapping:  1.6034929999996166\n",
      "C: 100\n",
      "Evaluating K-fold with 5 folds.\n",
      "K-fold Mean Squared log Error:  nan\n",
      "K-fold Square Root Mean Squared log Error:  nan\n",
      "Time elapsed for k-fold:  1.229844999999841\n",
      "\n",
      "\n",
      "Evaluating bootstrapping with 5 bootstraps.\n",
      "Bootstrapping Mean Squared Error:  5352170326447.1875\n",
      "Time elapsed for bootstrapping:  1.7614599999997154\n",
      "\n",
      "*** Hyper-parameter Tuning Complete! ***\n",
      "\n"
     ]
    }
   ],
   "source": [
    "print()\n",
    "print(\"========== Hyper-Parameter Tuning ==========\")\n",
    "print()\n",
    "\n",
    "xgb_params, adaboost_params, svm_params = tune_hyperparameters()\n",
    "\n",
    "print()\n",
    "print(\"*** Hyper-parameter Tuning Complete! ***\")\n",
    "print()"
   ]
  },
  {
   "cell_type": "markdown",
   "metadata": {},
   "source": [
    "# Plots"
   ]
  },
  {
   "cell_type": "markdown",
   "metadata": {},
   "source": [
    "## PCA Plot"
   ]
  },
  {
   "cell_type": "code",
   "execution_count": 176,
   "metadata": {},
   "outputs": [],
   "source": [
    "# This takes time to run (~5mins)\n",
    "def pca_tuning(F, X, Y, X_train, y_train, X_test, y_test):\n",
    "    \n",
    "    pca_ada_frame = pd.DataFrame(columns=['pca', 'rmse'])\n",
    "    pca_xg_frame = pd.DataFrame(columns=['pca', 'rmse'])\n",
    "    pca_svr_frame = pd.DataFrame(columns=['pca', 'rmse'])\n",
    "    \n",
    "    for f in F:\n",
    "        print(\"\\nPCA %d\" % f)\n",
    "\n",
    "        X_mu, X_Z = pca(f, X.values)\n",
    "        X_pca = pca_proj(X.values, X_mu, X_Z)\n",
    "        X_train_mu, X_train_Z = pca(f, X_train.values)\n",
    "        X_train_pca = pca_proj(X_train.values, X_train_mu, X_train_Z)\n",
    "        X_test_pca = pca_proj(X_test.values, X_train_mu, X_train_Z)\n",
    "\n",
    "        # AdaBoost\n",
    "        print(\"\\n\")\n",
    "        from sklearn.ensemble import AdaBoostRegressor\n",
    "        adaBoost = AdaBoostRegressor()\n",
    "        k_z, k_mse, k_rmse, b_z, b_mse, b_rmse = evaluate_model(adaBoost, f, X.values, Y.values.ravel(), k=5, B=5)\n",
    "        pca_ada_frame = pca_ada_frame.append({'pca': f, 'rmse': k_rmse}, ignore_index=True)\n",
    "\n",
    "\n",
    "        # XGBoost Regressor\n",
    "        print(\"\\nXGBoost\")\n",
    "        from xgboost import XGBRegressor\n",
    "\n",
    "        xgb = XGBRegressor(max_depth=3, learning_rate=0.2, booster='gbtree', n_estimators=70)\n",
    "\n",
    "        k_z, k_mse, k_rmse, b_z, b_mse, b_rmse = evaluate_model(xgb, f, X.values, Y.values.ravel(), k=5, B=5)\n",
    "        pca_xg_frame = pca_xg_frame.append({'pca': f, 'rmse': k_rmse}, ignore_index=True)\n",
    "\n",
    "        \n",
    "        # SVM (SVR)\n",
    "        print(\"\\nSVR\")\n",
    "        from sklearn import svm\n",
    "\n",
    "        svr_model = svm.SVR(kernel=\"poly\", coef0=-3500, gamma='scale')\n",
    "        # coef0 only works with poly and sigmoid kernels\n",
    "        # it just puts that value instead of the column of 1's\n",
    "\n",
    "        # without it, this model breaks for some reason\n",
    "\n",
    "        k_z, k_mse, k_rmse, b_z, b_mse, b_rmse = evaluate_model(svr_model, f, X.values, Y.values.ravel(), k=5, B=5)\n",
    "        pca_svr_frame = pca_svr_frame.append({'pca': f, 'rmse': k_rmse}, ignore_index=True)\n",
    "        \n",
    "    return (pca_ada_frame, pca_xg_frame, pca_svr_frame)"
   ]
  },
  {
   "cell_type": "code",
   "execution_count": 177,
   "metadata": {},
   "outputs": [],
   "source": [
    "def plot_pca_tuning(ada_data, xg_data, svr_data):\n",
    "    plt.title(\"RMSE vs PCA Values across models\")\n",
    "    plt.xlabel(\"PCA Values\")\n",
    "    plt.ylabel(\"RMSE\")\n",
    "    plt.grid()\n",
    "    plt.plot(ada_data['pca'], ada_data['rmse'], marker='o', color='r', label=\"Adaboost\")\n",
    "    plt.plot(xg_data['pca'], xg_data['rmse'], marker='o', color='g', label=\"XgBoost\")\n",
    "    plt.plot(svr_data['pca'], svr_data['rmse'], marker='o', color='b', label=\"SVR\")\n",
    "    \n",
    "    plt.legend(loc='best')\n",
    "    plt.show()"
   ]
  },
  {
   "cell_type": "code",
   "execution_count": 180,
   "metadata": {},
   "outputs": [
    {
     "name": "stdout",
     "output_type": "stream",
     "text": [
      "\n",
      "========== PCA Selection Plot ==========\n",
      "\n",
      "\n",
      "PCA 30\n",
      "\n",
      "\n",
      "Evaluating K-fold with 5 folds.\n",
      "K-fold Mean Squared log Error:  0.08356505958445701\n",
      "K-fold Square Root Mean Squared log Error:  0.28907621760438373\n",
      "Time elapsed for k-fold:  1.7269599999999627\n",
      "\n",
      "\n",
      "Evaluating bootstrapping with 5 bootstraps.\n",
      "Bootstrapping Mean Squared Error:  2728313323.2066407\n",
      "Time elapsed for bootstrapping:  1.971107999999731\n",
      "\n",
      "XGBoost\n",
      "Evaluating K-fold with 5 folds.\n",
      "K-fold Mean Squared log Error:  0.04960620274631141\n",
      "K-fold Square Root Mean Squared log Error:  0.22272449965441926\n",
      "Time elapsed for k-fold:  1.1874360000001616\n",
      "\n",
      "\n",
      "Evaluating bootstrapping with 5 bootstraps.\n",
      "Bootstrapping Mean Squared Error:  2211091614.663331\n",
      "Time elapsed for bootstrapping:  1.4101410000002943\n",
      "\n",
      "SVR\n",
      "Evaluating K-fold with 5 folds.\n",
      "K-fold Mean Squared log Error:  0.06040814962542087\n",
      "K-fold Square Root Mean Squared log Error:  0.24578069416742412\n",
      "Time elapsed for k-fold:  4.008955999999671\n",
      "\n",
      "\n",
      "Evaluating bootstrapping with 5 bootstraps.\n",
      "Bootstrapping Mean Squared Error:  2647714792.609973\n",
      "Time elapsed for bootstrapping:  5.077035000000251\n",
      "\n",
      "PCA 35\n",
      "\n",
      "\n",
      "Evaluating K-fold with 5 folds.\n",
      "K-fold Mean Squared log Error:  0.08293954473863033\n",
      "K-fold Square Root Mean Squared log Error:  0.2879922650673631\n",
      "Time elapsed for k-fold:  2.0019439999996393\n",
      "\n",
      "\n",
      "Evaluating bootstrapping with 5 bootstraps.\n",
      "Bootstrapping Mean Squared Error:  2912946505.0007453\n",
      "Time elapsed for bootstrapping:  2.382846000000427\n",
      "\n",
      "XGBoost\n",
      "Evaluating K-fold with 5 folds.\n",
      "K-fold Mean Squared log Error:  0.04776092824984716\n",
      "K-fold Square Root Mean Squared log Error:  0.2185427378108162\n",
      "Time elapsed for k-fold:  1.3597939999999653\n",
      "\n",
      "\n",
      "Evaluating bootstrapping with 5 bootstraps.\n",
      "Bootstrapping Mean Squared Error:  2066697604.1159477\n",
      "Time elapsed for bootstrapping:  1.5918540000002395\n",
      "\n",
      "SVR\n",
      "Evaluating K-fold with 5 folds.\n",
      "K-fold Mean Squared log Error:  0.05868758579965864\n",
      "K-fold Square Root Mean Squared log Error:  0.24225520799284922\n",
      "Time elapsed for k-fold:  4.283793000000514\n",
      "\n",
      "\n",
      "Evaluating bootstrapping with 5 bootstraps.\n",
      "Bootstrapping Mean Squared Error:  2542566845.5856075\n",
      "Time elapsed for bootstrapping:  5.735921999999846\n",
      "\n",
      "PCA 40\n",
      "\n",
      "\n",
      "Evaluating K-fold with 5 folds.\n",
      "K-fold Mean Squared log Error:  0.08315853379589543\n",
      "K-fold Square Root Mean Squared log Error:  0.28837221398029217\n",
      "Time elapsed for k-fold:  2.164702000000034\n",
      "\n",
      "\n",
      "Evaluating bootstrapping with 5 bootstraps.\n",
      "Bootstrapping Mean Squared Error:  2770419269.991873\n",
      "Time elapsed for bootstrapping:  2.5146770000001197\n",
      "\n",
      "XGBoost\n",
      "Evaluating K-fold with 5 folds.\n",
      "K-fold Mean Squared log Error:  0.04933860499189867\n",
      "K-fold Square Root Mean Squared log Error:  0.222122950169267\n",
      "Time elapsed for k-fold:  1.4708419999997204\n",
      "\n",
      "\n",
      "Evaluating bootstrapping with 5 bootstraps.\n",
      "Bootstrapping Mean Squared Error:  2311103085.382848\n",
      "Time elapsed for bootstrapping:  1.7364970000007816\n",
      "\n",
      "SVR\n",
      "Evaluating K-fold with 5 folds.\n",
      "K-fold Mean Squared log Error:  0.060073815332635186\n",
      "K-fold Square Root Mean Squared log Error:  0.245099602881431\n",
      "Time elapsed for k-fold:  5.4156339999999545\n",
      "\n",
      "\n",
      "Evaluating bootstrapping with 5 bootstraps.\n",
      "Bootstrapping Mean Squared Error:  2682229156.595441\n",
      "Time elapsed for bootstrapping:  9.071256999999605\n",
      "\n",
      "PCA 45\n",
      "\n",
      "\n",
      "Evaluating K-fold with 5 folds.\n",
      "K-fold Mean Squared log Error:  0.08754981091874485\n",
      "K-fold Square Root Mean Squared log Error:  0.2958881729957195\n",
      "Time elapsed for k-fold:  2.304385000000366\n",
      "\n",
      "\n",
      "Evaluating bootstrapping with 5 bootstraps.\n",
      "Bootstrapping Mean Squared Error:  2763352390.416014\n",
      "Time elapsed for bootstrapping:  2.6070049999998446\n",
      "\n",
      "XGBoost\n",
      "Evaluating K-fold with 5 folds.\n",
      "K-fold Mean Squared log Error:  0.04833924712011242\n",
      "K-fold Square Root Mean Squared log Error:  0.2198618819170627\n",
      "Time elapsed for k-fold:  1.522979000000305\n",
      "\n",
      "\n",
      "Evaluating bootstrapping with 5 bootstraps.\n",
      "Bootstrapping Mean Squared Error:  2025246725.6388295\n",
      "Time elapsed for bootstrapping:  1.8494300000002113\n",
      "\n",
      "SVR\n",
      "Evaluating K-fold with 5 folds.\n",
      "K-fold Mean Squared log Error:  0.056869945857319394\n",
      "K-fold Square Root Mean Squared log Error:  0.23847420375654763\n",
      "Time elapsed for k-fold:  5.115241000000424\n",
      "\n",
      "\n",
      "Evaluating bootstrapping with 5 bootstraps.\n",
      "Bootstrapping Mean Squared Error:  3006007388.8803244\n",
      "Time elapsed for bootstrapping:  7.837297999999464\n",
      "\n",
      "PCA 50\n",
      "\n",
      "\n",
      "Evaluating K-fold with 5 folds.\n",
      "K-fold Mean Squared log Error:  0.08680075487357097\n",
      "K-fold Square Root Mean Squared log Error:  0.29461967835426567\n",
      "Time elapsed for k-fold:  2.8316610000001674\n",
      "\n",
      "\n",
      "Evaluating bootstrapping with 5 bootstraps.\n",
      "Bootstrapping Mean Squared Error:  2889788620.618062\n",
      "Time elapsed for bootstrapping:  3.5074500000000626\n",
      "\n",
      "XGBoost\n",
      "Evaluating K-fold with 5 folds.\n",
      "K-fold Mean Squared log Error:  0.04850286442373754\n",
      "K-fold Square Root Mean Squared log Error:  0.22023365869852304\n",
      "Time elapsed for k-fold:  1.6612649999997302\n",
      "\n",
      "\n",
      "Evaluating bootstrapping with 5 bootstraps.\n",
      "Bootstrapping Mean Squared Error:  2150861094.5034223\n",
      "Time elapsed for bootstrapping:  2.019254999999248\n",
      "\n",
      "SVR\n",
      "Evaluating K-fold with 5 folds.\n",
      "K-fold Mean Squared log Error:  0.05620342922002788\n",
      "K-fold Square Root Mean Squared log Error:  0.2370726243580812\n",
      "Time elapsed for k-fold:  7.939405000000079\n",
      "\n",
      "\n",
      "Evaluating bootstrapping with 5 bootstraps.\n",
      "Bootstrapping Mean Squared Error:  2625550736.8228064\n",
      "Time elapsed for bootstrapping:  11.193786000000728\n",
      "\n",
      "PCA 55\n",
      "\n",
      "\n",
      "Evaluating K-fold with 5 folds.\n",
      "K-fold Mean Squared log Error:  0.08625163627297598\n",
      "K-fold Square Root Mean Squared log Error:  0.2936862888746698\n",
      "Time elapsed for k-fold:  2.85740000000078\n",
      "\n",
      "\n",
      "Evaluating bootstrapping with 5 bootstraps.\n",
      "Bootstrapping Mean Squared Error:  2858690262.244239\n",
      "Time elapsed for bootstrapping:  3.4416799999999057\n",
      "\n",
      "XGBoost\n",
      "Evaluating K-fold with 5 folds.\n",
      "K-fold Mean Squared log Error:  0.04853025061249616\n",
      "K-fold Square Root Mean Squared log Error:  0.22029582522711627\n",
      "Time elapsed for k-fold:  1.7552169999999023\n",
      "\n",
      "\n",
      "Evaluating bootstrapping with 5 bootstraps.\n",
      "Bootstrapping Mean Squared Error:  2370282582.2055235\n",
      "Time elapsed for bootstrapping:  2.203030000000581\n",
      "\n",
      "SVR\n",
      "Evaluating K-fold with 5 folds.\n",
      "K-fold Mean Squared log Error:  0.06014240237916153\n",
      "K-fold Square Root Mean Squared log Error:  0.2452394796503237\n",
      "Time elapsed for k-fold:  8.311588000000484\n",
      "\n",
      "\n",
      "Evaluating bootstrapping with 5 bootstraps.\n",
      "Bootstrapping Mean Squared Error:  2570027431.849568\n",
      "Time elapsed for bootstrapping:  10.28977599999962\n"
     ]
    },
    {
     "ename": "TypeError",
     "evalue": "'NoneType' object is not iterable",
     "output_type": "error",
     "traceback": [
      "\u001b[0;31m---------------------------------------------------------------------------\u001b[0m",
      "\u001b[0;31mTypeError\u001b[0m                                 Traceback (most recent call last)",
      "\u001b[0;32m<ipython-input-180-a801e5d23075>\u001b[0m in \u001b[0;36m<module>\u001b[0;34m\u001b[0m\n\u001b[1;32m      3\u001b[0m \u001b[0mprint\u001b[0m\u001b[0;34m(\u001b[0m\u001b[0;34m)\u001b[0m\u001b[0;34m\u001b[0m\u001b[0m\n\u001b[1;32m      4\u001b[0m \u001b[0;34m\u001b[0m\u001b[0m\n\u001b[0;32m----> 5\u001b[0;31m \u001b[0mpca_ada_frame\u001b[0m\u001b[0;34m,\u001b[0m \u001b[0mpca_xg_frame\u001b[0m\u001b[0;34m,\u001b[0m \u001b[0mpca_svr_frame\u001b[0m \u001b[0;34m=\u001b[0m \u001b[0mpca_plot\u001b[0m\u001b[0;34m(\u001b[0m\u001b[0;34m[\u001b[0m\u001b[0;36m30\u001b[0m\u001b[0;34m,\u001b[0m\u001b[0;36m35\u001b[0m\u001b[0;34m,\u001b[0m\u001b[0;36m40\u001b[0m\u001b[0;34m,\u001b[0m\u001b[0;36m45\u001b[0m\u001b[0;34m,\u001b[0m\u001b[0;36m50\u001b[0m\u001b[0;34m,\u001b[0m\u001b[0;36m55\u001b[0m\u001b[0;34m]\u001b[0m\u001b[0;34m,\u001b[0m \u001b[0mX\u001b[0m\u001b[0;34m,\u001b[0m \u001b[0mY\u001b[0m\u001b[0;34m,\u001b[0m \u001b[0mX_train\u001b[0m\u001b[0;34m,\u001b[0m \u001b[0my_train\u001b[0m\u001b[0;34m,\u001b[0m \u001b[0mX_test\u001b[0m\u001b[0;34m,\u001b[0m \u001b[0my_test\u001b[0m\u001b[0;34m)\u001b[0m\u001b[0;34m\u001b[0m\u001b[0m\n\u001b[0m\u001b[1;32m      6\u001b[0m \u001b[0;34m\u001b[0m\u001b[0m\n\u001b[1;32m      7\u001b[0m \u001b[0mprint\u001b[0m\u001b[0;34m(\u001b[0m\u001b[0;34m)\u001b[0m\u001b[0;34m\u001b[0m\u001b[0m\n",
      "\u001b[0;31mTypeError\u001b[0m: 'NoneType' object is not iterable"
     ]
    }
   ],
   "source": [
    "print()\n",
    "print(\"========== PCA Selection Plot ==========\")\n",
    "print()\n",
    "\n",
    "pca_ada_frame, pca_xg_frame, pca_svr_frame = pca_tuning([30,35,40,45,50,55,60,6570], X, Y, X_train, y_train, X_test, y_test)\n",
    "\n",
    "print()\n",
    "print(\"*** PCA Selection Plot Complete! ***\")\n",
    "print()\n",
    "\n",
    "plot_pca_tuning(pca_ada_frame, pca_xg_frame, pca_svr_frame)"
   ]
  },
  {
   "cell_type": "markdown",
   "metadata": {},
   "source": [
    "## Learning Curves"
   ]
  },
  {
   "cell_type": "code",
   "execution_count": 165,
   "metadata": {},
   "outputs": [],
   "source": [
    "def plot_learning_curve(estimator, title, X, y, ylim=None, cv=None,\n",
    "                        n_jobs=None, train_sizes=np.linspace(.1, 1.0, 5)):\n",
    "    plt.figure()\n",
    "    plt.title(title)\n",
    "    if ylim is not None:\n",
    "        plt.ylim(*ylim)\n",
    "    plt.xlabel(\"Training examples\")\n",
    "    plt.ylabel(\"Score\")\n",
    "    train_sizes, train_scores, test_scores = learning_curve(\n",
    "        estimator, X, y, cv=cv, n_jobs=n_jobs, train_sizes=train_sizes)\n",
    "    train_scores_mean = np.mean(train_scores, axis=1)\n",
    "    train_scores_std = np.std(train_scores, axis=1)\n",
    "    test_scores_mean = np.mean(test_scores, axis=1)\n",
    "    test_scores_std = np.std(test_scores, axis=1)\n",
    "    plt.grid()\n",
    "\n",
    "    plt.fill_between(train_sizes, train_scores_mean - train_scores_std,\n",
    "                     train_scores_mean + train_scores_std, alpha=0.1,\n",
    "                     color=\"r\")\n",
    "    plt.fill_between(train_sizes, test_scores_mean - test_scores_std,\n",
    "                     test_scores_mean + test_scores_std, alpha=0.1, color=\"g\")\n",
    "    plt.plot(train_sizes, train_scores_mean, 'o-', color=\"r\",\n",
    "             label=\"Training score\")\n",
    "    plt.plot(train_sizes, test_scores_mean, 'o-', color=\"g\",\n",
    "             label=\"Cross-validation score\")\n",
    "\n",
    "    plt.legend(loc=\"best\")\n",
    "    plt.show()\n"
   ]
  },
  {
   "cell_type": "code",
   "execution_count": 166,
   "metadata": {},
   "outputs": [
    {
     "data": {
      "image/png": "[encoded data removed]",
      "text/plain": [
       "<Figure size 432x288 with 1 Axes>"
      ]
     },
     "metadata": {
      "needs_background": "light"
     },
     "output_type": "display_data"
    },
    {
     "data": {
      "image/png": "[encoded data removed]",
      "text/plain": [
       "<Figure size 432x288 with 1 Axes>"
      ]
     },
     "metadata": {
      "needs_background": "light"
     },
     "output_type": "display_data"
    },
    {
     "data": {
      "image/png": "[encoded data removed]",
      "text/plain": [
       "<Figure size 432x288 with 1 Axes>"
      ]
     },
     "metadata": {
      "needs_background": "light"
     },
     "output_type": "display_data"
    }
   ],
   "source": [
    "print()\n",
    "print(\"========== Learning Curves ==========\")\n",
    "print()\n",
    "plot_learning_curve(estimator=adaBoost, title=\"Learning Curves (AdaBoost)\", X=X_train_pca, y=y_train, ylim=None, cv=None,\n",
    "                        n_jobs=None, train_sizes=np.linspace(.1, 1.0, 5))\n",
    "plot_learning_curve(estimator=xgb, title=\"Learning Curves (XgBoost)\", X=X_train_pca, y=y_train, ylim=None, cv=None,\n",
    "                        n_jobs=None, train_sizes=np.linspace(.1, 1.0, 5))\n",
    "plot_learning_curve(estimator=svr_model, title=\"Learning Curves (SVR)\", X=X_train_pca, y=y_train, ylim=None, cv=None,\n",
    "                        n_jobs=None, train_sizes=np.linspace(.1, 1.0, 5))"
   ]
  },
  {
   "cell_type": "markdown",
   "metadata": {},
   "source": [
    "## Scatter Plots"
   ]
  },
  {
   "cell_type": "code",
   "execution_count": 167,
   "metadata": {},
   "outputs": [],
   "source": [
    "def plotScatter(predicted, name):\n",
    "    colors = [\"r\", \"b\"]\n",
    "    plt.title(name + \" Predicted vs Actual Sale Price\")\n",
    "    plt.xlabel(\"Actual Sale Price\")\n",
    "    plt.ylabel(\"Predicted Sale Price\")\n",
    "    red_patch = mpatches.Patch(color='red', label='Actual Sale Price')\n",
    "    blue_patch = mpatches.Patch(color='blue', label='Predicted Sale Price')\n",
    "    plt.scatter(predicted['SalePrice'], predicted['predicted'], color=\"r\", alpha=0.5)\n",
    "    plt.show()"
   ]
  },
  {
   "cell_type": "code",
   "execution_count": 168,
   "metadata": {},
   "outputs": [
    {
     "data": {
      "image/png": "[encoded data removed]",
      "text/plain": [
       "<Figure size 432x288 with 1 Axes>"
      ]
     },
     "metadata": {
      "needs_background": "light"
     },
     "output_type": "display_data"
    },
    {
     "data": {
      "image/png": "[encoded data removed]",
      "text/plain": [
       "<Figure size 432x288 with 1 Axes>"
      ]
     },
     "metadata": {
      "needs_background": "light"
     },
     "output_type": "display_data"
    },
    {
     "data": {
      "image/png": "[encoded data removed]",
      "text/plain": [
       "<Figure size 432x288 with 1 Axes>"
      ]
     },
     "metadata": {
      "needs_background": "light"
     },
     "output_type": "display_data"
    }
   ],
   "source": [
    "print()\n",
    "print(\"========== Prediction Scatter Plots Across Models ==========\")\n",
    "print()\n",
    "\n",
    "plotScatter(ada_pred, \"AdaBoost\")\n",
    "plotScatter(xgb_pred, \"XgBoost\")\n",
    "plotScatter(svr_pred, \"SVM\")"
   ]
  },
  {
   "cell_type": "markdown",
   "metadata": {},
   "source": [
    "## Parameter Tuning"
   ]
  },
  {
   "cell_type": "code",
   "execution_count": 169,
   "metadata": {},
   "outputs": [],
   "source": [
    "def plot_param_tuning(xgb_params, adaboost_params, svm_params):\n",
    "    plt.plot(adaboost_params['parameter'], adaboost_params['rmse'], marker='o', color='b')\n",
    "    plt.title(\"Adaboost RMSE vs n_estimators\")\n",
    "    plt.xlabel(\"n_estimators\")\n",
    "    plt.ylabel(\"RMSE\")\n",
    "    plt.show()\n",
    "    \n",
    "    plt.plot(xgb_params['parameter'], xgb_params['rmse'], marker='o', color='b')\n",
    "    plt.title(\"XgBoost RMSE vs n_estimators\")\n",
    "    plt.xlabel(\"n_estimators\")\n",
    "    plt.ylabel(\"RMSE\")\n",
    "    plt.show()\n",
    "    \n",
    "    plt.plot(svm_params['parameter'], svm_params['rmse'], marker='o', color='b')\n",
    "    plt.title(\"SVM RMSE vs C\")\n",
    "    plt.xlabel(\"C\")\n",
    "    plt.ylabel(\"RMSE\")\n",
    "    plt.show()"
   ]
  },
  {
   "cell_type": "code",
   "execution_count": 170,
   "metadata": {},
   "outputs": [
    {
     "data": {
      "image/png": "[encoded data removed]",
      "text/plain": [
       "<Figure size 432x288 with 1 Axes>"
      ]
     },
     "metadata": {
      "needs_background": "light"
     },
     "output_type": "display_data"
    },
    {
     "data": {
      "image/png": "[encoded data removed]",
      "text/plain": [
       "<Figure size 432x288 with 1 Axes>"
      ]
     },
     "metadata": {
      "needs_background": "light"
     },
     "output_type": "display_data"
    },
    {
     "data": {
      "image/png": "[encoded data removed]",
      "text/plain": [
       "<Figure size 432x288 with 1 Axes>"
      ]
     },
     "metadata": {
      "needs_background": "light"
     },
     "output_type": "display_data"
    }
   ],
   "source": [
    "print()\n",
    "print(\"========== Parameter Tuning Plots ==========\")\n",
    "print()\n",
    "\n",
    "plot_param_tuning(xgb_params, adaboost_params, svm_params)"
   ]
  },
  {
   "cell_type": "code",
   "execution_count": null,
   "metadata": {},
   "outputs": [],
   "source": []
  }
 ],
 "metadata": {
  "kernelspec": {
   "display_name": "Python 3",
   "language": "python",
   "name": "python3"
  },
  "language_info": {
   "codemirror_mode": {
    "name": "ipython",
    "version": 3
   },
   "file_extension": ".py",
   "mimetype": "text/x-python",
   "name": "python",
   "nbconvert_exporter": "python",
   "pygments_lexer": "ipython3",
   "version": "3.5.2"
  }
 },
 "nbformat": 4,
 "nbformat_minor": 2
}
