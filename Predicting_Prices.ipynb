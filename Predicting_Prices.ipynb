{
 "cells": [
  {
   "cell_type": "code",
   "execution_count": 139,
   "metadata": {},
   "outputs": [],
   "source": [
    "import pandas as pd\n",
    "import numpy as np\n",
    "import numpy.linalg as la\n",
    "from sklearn.model_selection import train_test_split\n",
    "from sklearn.model_selection import learning_curve\n",
    "from sklearn.base import clone\n",
    "import timeit\n",
    "import math\n",
    "import matplotlib.pyplot as plt\n",
    "import matplotlib.patches as mpatches\n",
    "import warnings\n",
    "warnings.filterwarnings('ignore')"
   ]
  },
  {
   "cell_type": "code",
   "execution_count": 140,
   "metadata": {},
   "outputs": [],
   "source": [
    "def pca(F, X):\n",
    "    n, d = X.shape\n",
    "    mu = np.zeros((d, 1))\n",
    "    Z = np.zeros((d, F))\n",
    "    for i in range(d):\n",
    "        mu[i] = (1. / n) * np.sum(X[:, [i]])\n",
    "    X = X - mu.T\n",
    "    U, s, Vt = la.svd(X, False)\n",
    "    g = s[:F]\n",
    "    for i in range(F):\n",
    "        g[i] = 1. / g[i]\n",
    "    W = Vt[:F]\n",
    "    Z = np.dot(W.T, np.diag(g))\n",
    "    return (mu, Z)\n",
    "\n",
    "def pca_proj(X,mu,Z):\n",
    "    n, d = X.shape\n",
    "    X = X - mu.T\n",
    "    return np.dot(X, Z)"
   ]
  },
  {
   "cell_type": "code",
   "execution_count": 141,
   "metadata": {},
   "outputs": [],
   "source": [
    "def k_fold(k, model, f, X, y, error_type=\"mse\"):\n",
    "    n, d = X.shape\n",
    "    z = np.zeros((k, 1))\n",
    "    for i in range(k):\n",
    "        T = list(range(int((i * n) / k), int((n * (i + 1) / k))))\n",
    "        S = [j for j in range(n) if j not in T]\n",
    "        curr_model = clone(model)\n",
    "\n",
    "        training_mu, training_Z = pca(f, X[S])\n",
    "        training_X = pca_proj(X[S], training_mu, training_Z)\n",
    "\n",
    "        curr_model.fit(training_X, y[S])\n",
    "\n",
    "        test_X = pca_proj(X[T], training_mu, training_Z)\n",
    "\n",
    "        # y[T] will be len(T) by 1\n",
    "        # X[T] will be len(T) by d\n",
    "        if error_type == \"mse\":\n",
    "            z[i] = (1. / len(T)) * np.sum((y[T] - curr_model.predict(test_X)) ** 2)\n",
    "        elif error_type == \"log_mse\":\n",
    "            z[i] = (1. / len(T)) * np.sum((np.log(y[T] + 1) - np.log(curr_model.predict(test_X) + 1)) ** 2)\n",
    "    return z"
   ]
  },
  {
   "cell_type": "code",
   "execution_count": 142,
   "metadata": {},
   "outputs": [],
   "source": [
    "def bootstrapping(B, model, f, X, y, error_type=\"mse\"):\n",
    "    n, d = X.shape\n",
    "    z = np.zeros((B, 1))\n",
    "    for i in range(B):\n",
    "        u = np.random.choice(n, n, replace=True)\n",
    "        S = np.unique(u)\n",
    "        T = np.setdiff1d(np.arange(n), S, assume_unique=True)\n",
    "        curr_model = clone(model)\n",
    "\n",
    "        training_mu, training_Z = pca(f, X[u])\n",
    "        training_X = pca_proj(X[u], training_mu, training_Z)\n",
    "\n",
    "        curr_model.fit(training_X, y[u])\n",
    "\n",
    "        test_X = pca_proj(X[T], training_mu, training_Z)\n",
    "\n",
    "        # y[T] will be len(T) by 1\n",
    "        # X[T] will be len(T) by d\n",
    "        # theta_hat will be d by 1\n",
    "        if error_type == \"mse\":\n",
    "            z[i] = (1. / len(T)) * np.sum((y[T] - curr_model.predict(test_X)) ** 2)\n",
    "        elif error_type == \"log_mse\":\n",
    "            z[i] = (1. / len(T)) * np.sum((np.log(y[T] + 1) - np.log(curr_model.predict(test_X) + 1)) ** 2)\n",
    "    return z"
   ]
  },
  {
   "cell_type": "code",
   "execution_count": 143,
   "metadata": {},
   "outputs": [],
   "source": [
    "def evaluate_model(model, f, X, y, k=5, B=5):\n",
    "    ######################## KFOLD ###################\n",
    "    print('Evaluating K-fold with %d folds.' % k)\n",
    "    start_time = timeit.default_timer()\n",
    "    k_fold_z = k_fold(k, model, f, X, y, error_type=\"log_mse\")\n",
    "    elapsed = timeit.default_timer() - start_time\n",
    "    \n",
    "    k_fold_mse = np.mean(k_fold_z)\n",
    "    print('K-fold Mean Squared log Error: ', k_fold_mse)\n",
    "    \n",
    "    k_fold_rmse = math.sqrt(k_fold_mse)\n",
    "    print('K-fold Square Root Mean Squared log Error: ', k_fold_rmse)\n",
    "\n",
    "    print(\"Time elapsed for k-fold: \", elapsed)\n",
    "\n",
    "    print()\n",
    "    print()\n",
    "    \n",
    "    ################### BOOTSTRAPPING ################\n",
    "    print('Evaluating bootstrapping with %d bootstraps.' % B)\n",
    "    start_time = timeit.default_timer()\n",
    "    bootstrapping_z = bootstrapping(B, model, f, X, y)\n",
    "    elapsed = timeit.default_timer() - start_time\n",
    "\n",
    "    bootstrapping_mse = np.mean(bootstrapping_z)\n",
    "    print('Bootstrapping Mean Squared Error: ', bootstrapping_mse)\n",
    "\n",
    "    bootstrapping_rmse = math.sqrt(bootstrapping_mse)\n",
    "    print(\"Time elapsed for bootstrapping: \", elapsed)\n",
    "    \n",
    "    return (k_fold_z, k_fold_mse, k_fold_rmse, bootstrapping_z, bootstrapping_mse, bootstrapping_rmse)"
   ]
  },
  {
   "cell_type": "markdown",
   "metadata": {},
   "source": [
    "# Data Processing"
   ]
  },
  {
   "cell_type": "code",
   "execution_count": 52,
   "metadata": {},
   "outputs": [
    {
     "data": {
      "text/plain": [
       "Int64Index([   1,    2,    3,    4,    5,    6,    7,    8,    9,   10,\n",
       "            ...\n",
       "            1451, 1452, 1453, 1454, 1455, 1456, 1457, 1458, 1459, 1460],\n",
       "           dtype='int64', length=2920)"
      ]
     },
     "execution_count": 52,
     "metadata": {},
     "output_type": "execute_result"
    }
   ],
   "source": [
    "data.append(data).index + 1"
   ]
  },
  {
   "cell_type": "code",
   "execution_count": 6,
   "metadata": {},
   "outputs": [
    {
     "name": "stdout",
     "output_type": "stream",
     "text": [
      "(1460, 81)\n",
      "(1460, 80)\n",
      "(1460, 1)\n"
     ]
    }
   ],
   "source": [
    "\n",
    "data_train = pd.read_csv(\"train.csv\", header=0)\n",
    "data_test = pd.read_csv(\"train.csv\", header=0)\n",
    "\n",
    "print(data.shape)\n",
    "\n",
    "X = data.iloc[:,:-1]\n",
    "Y = data.iloc[:,-1:]\n",
    "\n",
    "print(X.shape)\n",
    "print(Y.shape)"
   ]
  },
  {
   "cell_type": "code",
   "execution_count": 146,
   "metadata": {},
   "outputs": [
    {
     "name": "stdout",
     "output_type": "stream",
     "text": [
      "Print features with null values:\n",
      "Alley\n",
      "PoolQC\n",
      "Fence\n",
      "MiscFeature\n"
     ]
    }
   ],
   "source": [
    "print(\"Print features with null values:\")\n",
    "# this just sums up how many nulls per feature and divides to find percentage of nulls per feature\n",
    "# if over 50% null then print the feature\n",
    "data_keys = X.keys()\n",
    "for i, b in enumerate((X.isnull().sum() / X.shape[0]) > 0.5):\n",
    "    if b:\n",
    "        print(data_keys[i])"
   ]
  },
  {
   "cell_type": "code",
   "execution_count": null,
   "metadata": {
    "collapsed": true
   },
   "outputs": [],
   "source": [
    "# data = data.drop(['Alley', 'MiscFeature', 'Fence', 'PoolQC'], axis=1)"
   ]
  },
  {
   "cell_type": "code",
   "execution_count": null,

   "metadata": {},
   "outputs": [
    {
     "name": "stdout",
     "output_type": "stream",
     "text": [
      "Replace categorical Values with numerical scale:\n",
      "\n"
     ]
    },
    {
     "data": {
      "text/html": [
       "<div>\n",
       "<style scoped>\n",
       "    .dataframe tbody tr th:only-of-type {\n",
       "        vertical-align: middle;\n",
       "    }\n",
       "\n",
       "    .dataframe tbody tr th {\n",
       "        vertical-align: top;\n",
       "    }\n",
       "\n",
       "    .dataframe thead th {\n",
       "        text-align: right;\n",
       "    }\n",
       "</style>\n",
       "<table border=\"1\" class=\"dataframe\">\n",
       "  <thead>\n",
       "    <tr style=\"text-align: right;\">\n",
       "      <th></th>\n",
       "      <th>ExterQual</th>\n",
       "      <th>ExterCond</th>\n",
       "      <th>BsmtQual</th>\n",
       "      <th>BsmtCond</th>\n",
       "      <th>HeatingQC</th>\n",
       "      <th>KitchenQual</th>\n",
       "      <th>FireplaceQu</th>\n",
       "      <th>GarageQual</th>\n",
       "      <th>GarageCond</th>\n",
       "    </tr>\n",
       "  </thead>\n",
       "  <tbody>\n",
       "    <tr>\n",
       "      <th>0</th>\n",
       "      <td>4</td>\n",
       "      <td>3</td>\n",
       "      <td>4.0</td>\n",
       "      <td>3.0</td>\n",
       "      <td>5</td>\n",
       "      <td>4</td>\n",
       "      <td>NaN</td>\n",
       "      <td>3.0</td>\n",
       "      <td>3.0</td>\n",
       "    </tr>\n",
       "    <tr>\n",
       "      <th>1</th>\n",
       "      <td>3</td>\n",
       "      <td>3</td>\n",
       "      <td>4.0</td>\n",
       "      <td>3.0</td>\n",
       "      <td>5</td>\n",
       "      <td>3</td>\n",
       "      <td>3.0</td>\n",
       "      <td>3.0</td>\n",
       "      <td>3.0</td>\n",
       "    </tr>\n",
       "    <tr>\n",
       "      <th>2</th>\n",
       "      <td>4</td>\n",
       "      <td>3</td>\n",
       "      <td>4.0</td>\n",
       "      <td>3.0</td>\n",
       "      <td>5</td>\n",
       "      <td>4</td>\n",
       "      <td>3.0</td>\n",
       "      <td>3.0</td>\n",
       "      <td>3.0</td>\n",
       "    </tr>\n",
       "    <tr>\n",
       "      <th>3</th>\n",
       "      <td>3</td>\n",
       "      <td>3</td>\n",
       "      <td>3.0</td>\n",
       "      <td>4.0</td>\n",
       "      <td>4</td>\n",
       "      <td>4</td>\n",
       "      <td>4.0</td>\n",
       "      <td>3.0</td>\n",
       "      <td>3.0</td>\n",
       "    </tr>\n",
       "    <tr>\n",
       "      <th>4</th>\n",
       "      <td>4</td>\n",
       "      <td>3</td>\n",
       "      <td>4.0</td>\n",
       "      <td>3.0</td>\n",
       "      <td>5</td>\n",
       "      <td>4</td>\n",
       "      <td>3.0</td>\n",
       "      <td>3.0</td>\n",
       "      <td>3.0</td>\n",
       "    </tr>\n",
       "  </tbody>\n",
       "</table>\n",
       "</div>"
      ],
      "text/plain": [
       "   ExterQual  ExterCond  BsmtQual  BsmtCond  HeatingQC  KitchenQual  \\\n",
       "0          4          3       4.0       3.0          5            4   \n",
       "1          3          3       4.0       3.0          5            3   \n",
       "2          4          3       4.0       3.0          5            4   \n",
       "3          3          3       3.0       4.0          4            4   \n",
       "4          4          3       4.0       3.0          5            4   \n",
       "\n",
       "   FireplaceQu  GarageQual  GarageCond  \n",
       "0          NaN         3.0         3.0  \n",
       "1          3.0         3.0         3.0  \n",
       "2          3.0         3.0         3.0  \n",
       "3          4.0         3.0         3.0  \n",
       "4          3.0         3.0         3.0  "
      ]
     },
     "execution_count": 147,
     "metadata": {},
     "output_type": "execute_result"
    }
   ],
   "source": [
    "print(\"Replace categorical Values with numerical scale:\\n\")\n",
    "# Replaces categorical value in Quality columns with numerical scale\n",
    "qualityCols = ['ExterQual', 'ExterCond', 'BsmtQual', 'BsmtCond', 'HeatingQC',\n",
    "              'KitchenQual', 'FireplaceQu', 'GarageQual', 'GarageCond']\n",
    "\n",
    "data[qualityCols].head()\n",
    "\n",
    "for col in qualityCols:\n",
    "    # NA is never used since all NA's got converted to NaN objects when pandas read in the csv\n",
    "    data[col] = data[col].map({'Ex': 5, 'Gd': 4, 'TA': 3, 'Fa': 2, 'Po':1, 'NA': 0})\n",
    "\n",
    "data[qualityCols].head()"
   ]
  },
  {
   "cell_type": "code",

   "execution_count": 8,
   "metadata": {},
   "outputs": [
    {
     "name": "stdout",
     "output_type": "stream",
     "text": [
      "{'PoolQC', 'Heating', 'LandSlope', 'SaleType', 'GarageQual', 'ExterCond', 'Utilities', 'MSZoning', 'ExterQual', 'BsmtFinType2', 'BsmtFinType1', 'Alley', 'Exterior2nd', 'GarageCond', 'BsmtQual', 'BldgType', 'Neighborhood', 'Exterior1st', 'RoofStyle', 'PavedDrive', 'BsmtExposure', 'Fence', 'MiscFeature', 'SaleCondition', 'Functional', 'Condition2', 'Foundation', 'GarageType', 'FireplaceQu', 'LandContour', 'BsmtCond', 'LotShape', 'HeatingQC', 'MasVnrType', 'KitchenQual', 'HouseStyle', 'GarageFinish', 'Street', 'RoofMatl', 'Electrical', 'CentralAir', 'LotConfig', 'Condition1'}\n"
     ]
    }
   ],
   "source": [
    "# categorical columns\n",
    "catCols = set(list(X))-set(list(X._get_numeric_data()))\n",
    "print(catCols)\n",
    "\n",
    "#Fill Categorical Column Null values with 0\n",
    "for col in catCols:\n",
    "    data[col].fillna(0, inplace=True)\n",
    "\n",
    "#Fill numerical column null values with mean of column\n",
    "data = data.fillna(data.mean())"
   ]
  },
  {
   "cell_type": "code",
   "execution_count": 9,
   "metadata": {},
   "outputs": [
    {
     "data": {
      "text/plain": [
       "43"
      ]
     },
     "execution_count": 9,
     "metadata": {},
     "output_type": "execute_result"
    }
   ],
   "source": [
    "len(catCols)"
   ]
  },
  {
   "cell_type": "code",
   "execution_count": 10,
   "metadata": {
    "collapsed": true
   },

   "outputs": [],
   "source": [
    "#Perform one hot encoding on all categorical columns\n",
    "frames = []\n",
    "for col in catCols:\n",
    "    oneHot_encoded = pd.get_dummies(X[col])\n",
    "    oneHot_encoded = oneHot_encoded.add_prefix(col + '_is_')\n",
    "    frames.append(oneHot_encoded)\n",
    "\n",
    "X = X.drop(catCols, axis=1)\n",
    "\n",
    "X = pd.concat(frames, axis=1)"
   ]
  },
  {
   "cell_type": "code",
   "execution_count": 11,

   "metadata": {},
   "outputs": [
    {
     "data": {
      "text/plain": [
       "Index(['PoolQC_is_Ex', 'PoolQC_is_Fa', 'PoolQC_is_Gd', 'Heating_is_Floor',\n",
       "       'Heating_is_GasA', 'Heating_is_GasW', 'Heating_is_Grav',\n",
       "       'Heating_is_OthW', 'Heating_is_Wall', 'LandSlope_is_Gtl',\n",
       "       ...\n",
       "       'LotConfig_is_Inside', 'Condition1_is_Artery', 'Condition1_is_Feedr',\n",
       "       'Condition1_is_Norm', 'Condition1_is_PosA', 'Condition1_is_PosN',\n",
       "       'Condition1_is_RRAe', 'Condition1_is_RRAn', 'Condition1_is_RRNe',\n",
       "       'Condition1_is_RRNn'],\n",
       "      dtype='object', length=252)"
      ]
     },
     "execution_count": 11,
     "metadata": {},
     "output_type": "execute_result"
    }
   ],
   "source": [
    "X.keys()"
   ]
  },
  {
   "cell_type": "code",
   "execution_count": 12,
   "metadata": {},
   "outputs": [
    {
     "data": {
      "text/plain": [
       "False"
      ]
     },
     "execution_count": 12,
     "metadata": {},
     "output_type": "execute_result"
    }
   ],
   "source": [
    "X.isnull().values.any()"
   ]
  },
  {
   "cell_type": "code",
   "execution_count": null,
   "metadata": {
    "collapsed": true
   },
   "outputs": [],
   "source": [
    "# 80:20 train test ratio\n",
    "test_size = 0.2\n",
    "# This function splits the training and target sets into random train and test subsets.\n",
    "# X_train and X_test are subsets of the training data\n",
    "# y_train and y_test are subsets the the target data\n",
    "X_train, X_test, y_train, y_test = train_test_split(X, Y, test_size=test_size)"
   ]
  },
  {
   "cell_type": "markdown",
   "metadata": {},
   "source": [
    "# PCA Feature Selection"
   ]
  },
  {
   "cell_type": "code",
   "execution_count": 13,
   "metadata": {
    "collapsed": true
   },
   "outputs": [],
   "source": [
    "# This value was determined based on the PCA Plots generated below\n",
    "F = 50\n",
    "f = 50"
   ]
  },
  {
   "cell_type": "code",
   "execution_count": 14,
   "metadata": {
    "collapsed": true
   },
   "outputs": [],
   "source": [
    "X_mu, X_Z = pca(F, X.values)\n",
    "X_pca = pca_proj(X.values, X_mu, X_Z)"
   ]
  },
  {
   "cell_type": "code",
   "execution_count": 15,
   "metadata": {},
   "outputs": [
    {
     "name": "stdout",
     "output_type": "stream",
     "text": [
      "(252, 1)\n",
      "(252, 50)\n",
      "(1460, 50)\n"
     ]
    }
   ],
   "source": [
    "print(X_mu.shape)\n",
    "print(X_Z.shape)\n",
    "print(X_pca.shape)"
   ]
  },
  {
   "cell_type": "code",
   "execution_count": 16,
   "metadata": {},
   "outputs": [
    {
     "ename": "NameError",
     "evalue": "name 'X_train' is not defined",
     "output_type": "error",
     "traceback": [
      "\u001b[1;31m---------------------------------------------------------------------------\u001b[0m",
      "\u001b[1;31mNameError\u001b[0m                                 Traceback (most recent call last)",
      "\u001b[1;32m<ipython-input-16-dc5d5406f7a3>\u001b[0m in \u001b[0;36m<module>\u001b[1;34m()\u001b[0m\n\u001b[1;32m----> 1\u001b[1;33m \u001b[0mX_train_mu\u001b[0m\u001b[1;33m,\u001b[0m \u001b[0mX_train_Z\u001b[0m \u001b[1;33m=\u001b[0m \u001b[0mpca\u001b[0m\u001b[1;33m(\u001b[0m\u001b[0mF\u001b[0m\u001b[1;33m,\u001b[0m \u001b[0mX_train\u001b[0m\u001b[1;33m.\u001b[0m\u001b[0mvalues\u001b[0m\u001b[1;33m)\u001b[0m\u001b[1;33m\u001b[0m\u001b[1;33m\u001b[0m\u001b[0m\n\u001b[0m",
      "\u001b[1;31mNameError\u001b[0m: name 'X_train' is not defined"
     ]
    }
   ],
   "source": [
    "X_train_mu, X_train_Z = pca(F, X_train.values)"
   ]
  },
  {
   "cell_type": "code",
   "execution_count": null,
   "metadata": {},
   "outputs": [],
   "source": [
    "print(X_train_mu.shape)\n",
    "print(X_train_Z.shape)"
   ]
  },
  {
   "cell_type": "code",
   "execution_count": null,
   "metadata": {},
   "outputs": [],
   "source": [
    "X_train_pca = pca_proj(X_train.values, X_train_mu, X_train_Z)\n",
    "print(X_train_pca.shape)\n",
    "\n",
    "X_test_pca = pca_proj(X_test.values, X_train_mu, X_train_Z)\n",
    "print(X_test_pca.shape)"
   ]
  },
  {
   "cell_type": "markdown",
   "metadata": {},
   "source": [
    "# AdaBoost"
   ]
  },
  {
   "cell_type": "code",
   "execution_count": null,
   "metadata": {},
   "outputs": [],
   "source": [
    "print()\n",
    "print(\"========== AdaBoost ==========\")\n",
    "print()\n",
    "from sklearn.ensemble import AdaBoostRegressor\n",
    "adaBoost = AdaBoostRegressor()\n",
    "k_z, k_mse, k_rmse, b_z, b_mse, b_rmse = evaluate_model(adaBoost, f, X.values, Y.values.ravel(), k=5, B=5)\n",
    "\n",
    "adaBoost = AdaBoostRegressor(n_estimators=25)\n",
    "adaBoost.fit(X_train_pca, y_train.values.ravel())\n",
    "adaBoost.score(X_test_pca, y_test.values.ravel())"
   ]
  },
  {
   "cell_type": "code",
   "execution_count": null,
   "metadata": {},
   "outputs": [],

   "source": [
    "#View Predicted values\n",
    "predicted = adaBoost.predict(X_test_pca)\n",
    "ada_pred = y_test.copy()\n",
    "ada_pred['predicted'] = predicted\n",
    "ada_pred.head()"
   ]
  },
  {
   "cell_type": "markdown",
   "metadata": {},
   "source": [
    "# XGBoost Regressor"
   ]
  },
  {
   "cell_type": "code",
   "execution_count": null,
   "metadata": {
    "collapsed": true
   },
   "outputs": [],
   "source": [
    "#!pip3 install xgboost"
   ]
  },
  {
   "cell_type": "code",
   "execution_count": null,
   "metadata": {},
   "outputs": [],
   "source": [
    "print()\n",
    "print(\"========== XgBoost ==========\")\n",
    "print()\n",
    "\n",
    "from xgboost import XGBRegressor\n",
    "xgb = XGBRegressor(max_depth=3, learning_rate=0.2, booster='gbtree', n_estimators=70)\n",
    "k_z, k_mse, k_rmse, b_z, b_mse, b_rmse = evaluate_model(xgb, f, X.values, Y.values.ravel(), k=5, B=5)\n",
    "\n",
    "xgb.fit(X_train_pca, y_train)\n",
    "xgb.score(X_test_pca, y_test.values.ravel())"
   ]
  },
  {
   "cell_type": "code",
   "execution_count": null,
   "metadata": {},
   "outputs": [],
   "source": [
    "predicted = xgb.predict(X_test_pca)\n",
    "xgb_pred = y_test.copy()\n",
    "xgb_pred['predicted'] = predicted\n",
    "xgb_pred.head()"
   ]
  },
  {
   "cell_type": "markdown",
   "metadata": {},
   "source": [
    "# SVM (SVR)"
   ]
  },
  {
   "cell_type": "code",
   "execution_count": null,
   "metadata": {},
   "outputs": [],
   "source": [
    "print()\n",
    "print(\"========== SVR ==========\")\n",
    "print()\n",
    "\n",
    "from sklearn import svm\n",
    "svr_model = svm.SVR(kernel=\"poly\", coef0=-3500, gamma=\"auto\")\n",
    "# coef0 only works with poly and sigmoid kernels\n",
    "# it just puts that value instead of the column of 1's\n",
    "\n",
    "# without it, this model breaks for some reason\n",
    "\n",
    "k_z, k_mse, k_rmse, b_z, b_mse, b_rmse = evaluate_model(svr_model, f, X.values, Y.values.ravel(), k=5, B=5)\n",
    "\n",
    "# epsilon, degree\n",
    "svr_model.fit(X_train_pca, y_train.values.ravel())\n",
    "svr_model.score(X_test_pca, y_test.values.ravel())"
   ]
  },
  {
   "cell_type": "code",
   "execution_count": null,
   "metadata": {},
   "outputs": [],
   "source": [
    "svr_predicted = svr_model.predict(X_test_pca)\n",
    "svr_pred = y_test.copy()\n",
    "svr_pred[\"predicted\"] = svr_predicted\n",
    "svr_pred.head()"
   ]
  },
  {
   "cell_type": "markdown",
   "metadata": {},
   "source": [
    "# Hyperparameter Tuning"
   ]
  },
  {
   "cell_type": "code",
   "execution_count": 163,
   "metadata": {},
   "outputs": [],
   "source": [
    "#This takes time (~2mins)\n",
    "def tune_hyperparameters():\n",
    "    adaboost_param_tuning = pd.DataFrame(columns=['parameter', 'rmse'])\n",
    "    xgb_param_tuning = pd.DataFrame(columns=['parameter', 'rmse'])    \n",
    "    svr_param_tuning = pd.DataFrame(columns=['parameter', 'rmse'])    \n",
    "\n",
    "    #Tuning n estimators parameter for boosting algorithms\n",
    "    for i in range(25,200,25):\n",
    "        print(\"Boosting: \" + str(i))\n",
    "        adaBoost = AdaBoostRegressor(n_estimators=i)\n",
    "        print(adaBoost)\n",
    "        k_fold_z, k_fold_mse, k_fold_rmse, bootstrapping_z, bootstrapping_mse, bootstrapping_rmse = evaluate_model(adaBoost, f, X_pca, Y.values.ravel(), k=5, B=5)\n",
    "        adaboost_param_tuning = adaboost_param_tuning.append({'parameter': i, 'rmse': k_fold_rmse}, ignore_index=True)\n",
    "        xgb = XGBRegressor(max_depth=3, learning_rate=0.2, booster='gbtree', n_estimators=i)\n",
    "        k_fold_z, k_fold_mse, k_fold_rmse, bootstrapping_z, bootstrapping_mse, bootstrapping_rmse = evaluate_model(xgb, f, X_pca, Y.values.ravel(), k=5, B=5)\n",
    "        xgb_param_tuning = xgb_param_tuning.append({'parameter': i, 'rmse': k_fold_rmse}, ignore_index=True)\n",
    "        \n",
    "    #for i in range(25,200,25):\n",
    "    c_vals = [0.01, 0.1, 10, 100]\n",
    "    for i in c_vals:\n",
    "        print(\"C: \" + str(i))\n",
    "        svr_model = svm.SVR(kernel=\"poly\", coef0=-3500, gamma=\"auto\", C=i)\n",
    "        k_fold_z, k_fold_mse, k_fold_rmse, bootstrapping_z, bootstrapping_mse, bootstrapping_rmse = evaluate_model(svr_model, f, X_pca, Y.values.ravel(), k=5, B=5)\n",
    "        svr_param_tuning = svr_param_tuning.append({'parameter': i, 'rmse': k_fold_rmse}, ignore_index=True)\n",
    "\n",
    "    return xgb_param_tuning, adaboost_param_tuning, svr_param_tuning"
   ]
  },
  {
   "cell_type": "code",
   "execution_count": 40,
   "metadata": {},
   "outputs": [
    {
     "name": "stdout",
     "output_type": "stream",
     "text": [
      "========== Hyper-Parameter Tuning ==========\n",
      "\n",
      "Boosting: 25\n",
      "AdaBoostRegressor(base_estimator=None, learning_rate=1.0, loss='linear',\n",
      "         n_estimators=25, random_state=None)\n",
      "Evaluating K-fold with 5 folds.\n",
      "K-fold Mean Squared log Error:  0.12399349589016047\n",
      "K-fold Square Root Mean Squared log Error:  0.35212710189668794\n",
      "Time elapsed for k-fold:  1.5105579999999463\n",
      "\n",
      "\n",
      "Evaluating bootstrapping with 5 bootstraps.\n",
      "Bootstrapping Mean Squared Error:  4269602067.879049\n",
      "Time elapsed for bootstrapping:  1.6587749999998778\n",
      "Evaluating K-fold with 5 folds.\n",
      "K-fold Mean Squared log Error:  0.08543503581660142\n",
      "K-fold Square Root Mean Squared log Error:  0.29229272282525515\n",
      "Time elapsed for k-fold:  0.689209000000119\n",
      "\n",
      "\n",
      "Evaluating bootstrapping with 5 bootstraps.\n",
      "Bootstrapping Mean Squared Error:  2843607348.7152886\n",
      "Time elapsed for bootstrapping:  0.740802000000258\n",
      "Boosting: 50\n",
      "AdaBoostRegressor(base_estimator=None, learning_rate=1.0, loss='linear',\n",
      "         n_estimators=50, random_state=None)\n",
      "Evaluating K-fold with 5 folds.\n",
      "K-fold Mean Squared log Error:  0.12196848555059965\n",
      "K-fold Square Root Mean Squared log Error:  0.3492398682146694\n",
      "Time elapsed for k-fold:  2.4572629999993296\n",
      "\n",
      "\n",
      "Evaluating bootstrapping with 5 bootstraps.\n",
      "Bootstrapping Mean Squared Error:  3967022519.2921724\n",
      "Time elapsed for bootstrapping:  2.7682690000001458\n",
      "Evaluating K-fold with 5 folds.\n",
      "K-fold Mean Squared log Error:  0.07543873217516897\n",
      "K-fold Square Root Mean Squared log Error:  0.2746611224312043\n",
      "Time elapsed for k-fold:  1.1184290000001056\n",
      "\n",
      "\n",
      "Evaluating bootstrapping with 5 bootstraps.\n",
      "Bootstrapping Mean Squared Error:  2988765886.461564\n",
      "Time elapsed for bootstrapping:  1.185986999999841\n",
      "Boosting: 75\n",
      "AdaBoostRegressor(base_estimator=None, learning_rate=1.0, loss='linear',\n",
      "         n_estimators=75, random_state=None)\n",
      "Evaluating K-fold with 5 folds.\n",
      "K-fold Mean Squared log Error:  0.12488730494015914\n",
      "K-fold Square Root Mean Squared log Error:  0.3533939797735088\n",
      "Time elapsed for k-fold:  3.2348289999999906\n",
      "\n",
      "\n",
      "Evaluating bootstrapping with 5 bootstraps.\n",
      "Bootstrapping Mean Squared Error:  3775103305.900585\n",
      "Time elapsed for bootstrapping:  3.474796999999853\n",
      "Evaluating K-fold with 5 folds.\n",
      "K-fold Mean Squared log Error:  0.07335626891351801\n",
      "K-fold Square Root Mean Squared log Error:  0.27084362446533244\n",
      "Time elapsed for k-fold:  1.423399000000245\n",
      "\n",
      "\n",
      "Evaluating bootstrapping with 5 bootstraps.\n",
      "Bootstrapping Mean Squared Error:  2624875552.947541\n",
      "Time elapsed for bootstrapping:  1.6333560000002763\n",
      "Boosting: 100\n",
      "AdaBoostRegressor(base_estimator=None, learning_rate=1.0, loss='linear',\n",
      "         n_estimators=100, random_state=None)\n",
      "Evaluating K-fold with 5 folds.\n",
      "K-fold Mean Squared log Error:  0.1262031778818949\n",
      "K-fold Square Root Mean Squared log Error:  0.35525086612406015\n",
      "Time elapsed for k-fold:  3.9771979999995892\n",
      "\n",
      "\n",
      "Evaluating bootstrapping with 5 bootstraps.\n",
      "Bootstrapping Mean Squared Error:  3951573938.790016\n",
      "Time elapsed for bootstrapping:  4.4094969999996465\n",
      "Evaluating K-fold with 5 folds.\n",
      "K-fold Mean Squared log Error:  0.07642429144796956\n",
      "K-fold Square Root Mean Squared log Error:  0.276449437416627\n",
      "Time elapsed for k-fold:  1.7897769999999582\n",
      "\n",
      "\n",
      "Evaluating bootstrapping with 5 bootstraps.\n",
      "Bootstrapping Mean Squared Error:  2458959823.704068\n",
      "Time elapsed for bootstrapping:  2.088101999999708\n",
      "Boosting: 125\n",
      "AdaBoostRegressor(base_estimator=None, learning_rate=1.0, loss='linear',\n",
      "         n_estimators=125, random_state=None)\n",
      "Evaluating K-fold with 5 folds.\n",
      "K-fold Mean Squared log Error:  0.12604485254221057\n",
      "K-fold Square Root Mean Squared log Error:  0.35502796022596667\n",
      "Time elapsed for k-fold:  4.730413000000226\n",
      "\n",
      "\n",
      "Evaluating bootstrapping with 5 bootstraps.\n",
      "Bootstrapping Mean Squared Error:  4025573340.0712495\n",
      "Time elapsed for bootstrapping:  5.244510999999875\n",
      "Evaluating K-fold with 5 folds.\n",
      "K-fold Mean Squared log Error:  nan\n",
      "K-fold Square Root Mean Squared log Error:  nan\n",
      "Time elapsed for k-fold:  2.1511129999998957\n",
      "\n",
      "\n",
      "Evaluating bootstrapping with 5 bootstraps.\n",
      "Bootstrapping Mean Squared Error:  2676201049.515422\n",
      "Time elapsed for bootstrapping:  2.5575000000008004\n",
      "Boosting: 150\n",
      "AdaBoostRegressor(base_estimator=None, learning_rate=1.0, loss='linear',\n",
      "         n_estimators=150, random_state=None)\n",
      "Evaluating K-fold with 5 folds.\n",
      "K-fold Mean Squared log Error:  0.12608647759243627\n",
      "K-fold Square Root Mean Squared log Error:  0.35508657760106377\n",
      "Time elapsed for k-fold:  5.564682999999604\n",
      "\n",
      "\n",
      "Evaluating bootstrapping with 5 bootstraps.\n",
      "Bootstrapping Mean Squared Error:  4109453496.460406\n",
      "Time elapsed for bootstrapping:  6.19398799999999\n",
      "Evaluating K-fold with 5 folds.\n",
      "K-fold Mean Squared log Error:  nan\n",
      "K-fold Square Root Mean Squared log Error:  nan\n",
      "Time elapsed for k-fold:  2.537247999999636\n",
      "\n",
      "\n",
      "Evaluating bootstrapping with 5 bootstraps.\n",
      "Bootstrapping Mean Squared Error:  2559187108.793521\n",
      "Time elapsed for bootstrapping:  3.0289300000004005\n",
      "Boosting: 175\n",
      "AdaBoostRegressor(base_estimator=None, learning_rate=1.0, loss='linear',\n",
      "         n_estimators=175, random_state=None)\n",
      "Evaluating K-fold with 5 folds.\n",
      "K-fold Mean Squared log Error:  0.12322584082596337\n",
      "K-fold Square Root Mean Squared log Error:  0.35103538400845485\n",
      "Time elapsed for k-fold:  6.224623999999494\n",
      "\n",
      "\n",
      "Evaluating bootstrapping with 5 bootstraps.\n",
      "Bootstrapping Mean Squared Error:  4034524324.311288\n",
      "Time elapsed for bootstrapping:  6.838649999999689\n",
      "Evaluating K-fold with 5 folds.\n",
      "K-fold Mean Squared log Error:  nan\n",
      "K-fold Square Root Mean Squared log Error:  nan\n",
      "Time elapsed for k-fold:  2.894390999999814\n",
      "\n",
      "\n",
      "Evaluating bootstrapping with 5 bootstraps.\n",
      "Bootstrapping Mean Squared Error:  2420261075.9416385\n",
      "Time elapsed for bootstrapping:  3.5377370000005612\n",
      "C: 0.01\n",
      "Evaluating K-fold with 5 folds.\n",
      "K-fold Mean Squared log Error:  0.13873954541536326\n",
      "K-fold Square Root Mean Squared log Error:  0.3724775770638593\n",
      "Time elapsed for k-fold:  0.9281280000004699\n",
      "\n",
      "\n",
      "Evaluating bootstrapping with 5 bootstraps.\n",
      "Bootstrapping Mean Squared Error:  6026376989.643591\n",
      "Time elapsed for bootstrapping:  1.3875729999999749\n",
      "C: 0.1\n",
      "Evaluating K-fold with 5 folds.\n",
      "K-fold Mean Squared log Error:  0.06569656683419603\n",
      "K-fold Square Root Mean Squared log Error:  0.2563134152442982\n",
      "Time elapsed for k-fold:  1.0229269999999815\n",
      "\n",
      "\n",
      "Evaluating bootstrapping with 5 bootstraps.\n",
      "Bootstrapping Mean Squared Error:  3354918076.0583143\n",
      "Time elapsed for bootstrapping:  1.4309549999998126\n",
      "C: 10\n",
      "Evaluating K-fold with 5 folds.\n",
      "K-fold Mean Squared log Error:  nan\n",
      "K-fold Square Root Mean Squared log Error:  nan\n",
      "Time elapsed for k-fold:  1.308614999999918\n",
      "\n",
      "\n",
      "Evaluating bootstrapping with 5 bootstraps.\n",
      "Bootstrapping Mean Squared Error:  60820061806.76634\n",
      "Time elapsed for bootstrapping:  1.6034929999996166\n",
      "C: 100\n",
      "Evaluating K-fold with 5 folds.\n",
      "K-fold Mean Squared log Error:  nan\n",
      "K-fold Square Root Mean Squared log Error:  nan\n",
      "Time elapsed for k-fold:  1.229844999999841\n",
      "\n",
      "\n",
      "Evaluating bootstrapping with 5 bootstraps.\n",
      "Bootstrapping Mean Squared Error:  5352170326447.1875\n",
      "Time elapsed for bootstrapping:  1.7614599999997154\n",
      "\n",
      "*** Hyper-parameter Tuning Complete! ***\n",
      "\n"
     ]
    },
    {
     "data": {
      "text/plain": [
       "(1459, 80)"
      ]
     },
     "execution_count": 40,
     "metadata": {},
     "output_type": "execute_result"
    }
   ],
   "source": [
    "print()\n",
    "print(\"========== Hyper-Parameter Tuning ==========\")\n",
    "print()\n",
    "\n",
    "xgb_params, adaboost_params, svm_params = tune_hyperparameters()\n",
    "\n",
    "print()\n",
    "print(\"*** Hyper-parameter Tuning Complete! ***\")\n",
    "print()"
   ]
  },
  {
   "cell_type": "code",
   "execution_count": 42,
   "metadata": {},
   "outputs": [],
   "source": [
    "#Perform one hot encoding on all categorical columns\n",
    "frames_kaggle = []\n",
    "for col in catCols:\n",
    "    oneHot_encoded_kaggle = pd.get_dummies(X_kaggle_test[col])\n",
    "    oneHot_encoded_kaggle = oneHot_encoded_kaggle.add_prefix(col + '_is_')\n",
    "    frames_kaggle.append(oneHot_encoded_kaggle)\n",
    "\n",
    "X_kaggle_test = X_kaggle_test.drop(catCols, axis=1)\n",
    "\n",
    "X_kaggle_test = pd.concat(frames_kaggle, axis=1)"
   ]
  },
  {
   "cell_type": "markdown",
   "metadata": {},
   "source": [
    "X_kaggle_test.isnull().values.any()"
   ]
  },
  {
   "cell_type": "code",
   "execution_count": null,
   "metadata": {
    "collapsed": true
   },
   "outputs": [],
   "source": [
    "X_kaggle_test_pca = pca_proj(X_kaggle_test.values, X_mu, X_Z)"
   ]
  },
  {
   "cell_type": "code",
   "execution_count": 168,
   "metadata": {},
   "outputs": [
    {
     "data": {
      "image/png": "[encoded data removed]",
      "text/plain": [
       "<Figure size 432x288 with 1 Axes>"
      ]
     },
     "metadata": {
      "needs_background": "light"
     },
     "output_type": "display_data"
    },
    {
     "data": {
      "image/png": "[encoded data removed]",
      "text/plain": [
       "<Figure size 432x288 with 1 Axes>"
      ]
     },
     "metadata": {
      "needs_background": "light"
     },
     "output_type": "display_data"
    },
    {
     "data": {
      "image/png": "[encoded data removed]",
      "text/plain": [
       "<Figure size 432x288 with 1 Axes>"
      ]
     },
     "metadata": {
      "needs_background": "light"
     },
     "output_type": "display_data"
    }
   ],
   "source": [
    "from xgboost import XGBRegressor\n",
    "xgb = XGBRegressor(max_depth=3, learning_rate=0.2, booster='gbtree', n_estimators=70)\n",
    "xgb.fit(X_pca, Y.values.ravel())"
   ]
  },
  {
   "cell_type": "code",
   "execution_count": null,
   "metadata": {},
   "outputs": [],
   "source": [
    "predicted = xgb.predict(X_kaggle_test_pca)"

   ]
  },
  {
   "cell_type": "code",
   "execution_count": null,
   "metadata": {},
   "outputs": [],
   "source": []
  }
 ],
 "metadata": {
  "kernelspec": {
   "display_name": "Python 3",
   "language": "python",
   "name": "python3"
  },
  "language_info": {
   "codemirror_mode": {
    "name": "ipython",
    "version": 3
   },
   "file_extension": ".py",
   "mimetype": "text/x-python",
   "name": "python",
   "nbconvert_exporter": "python",
   "pygments_lexer": "ipython3",
   "version": "3.5.2"
  }
 },
 "nbformat": 4,
 "nbformat_minor": 2
}
