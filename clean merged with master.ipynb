{
 "cells": [
  {
   "cell_type": "code",
   "execution_count": 23,
   "metadata": {
    "collapsed": true
   },
   "outputs": [],
   "source": [
    "import pandas as pd\n",
    "import numpy as np\n",
    "import numpy.linalg as la\n",
    "from sklearn.model_selection import train_test_split\n",
    "from sklearn.model_selection import learning_curve\n",
    "from sklearn.base import clone\n",
    "import timeit\n",
    "import math\n",
    "import matplotlib.pyplot as plt\n",
    "import matplotlib.patches as mpatches\n",
    "import warnings"
   ]
  },
  {
   "cell_type": "code",
   "execution_count": 24,
   "metadata": {
    "collapsed": true
   },
   "outputs": [],
   "source": [
    "def pca(F, X):\n",
    "    n, d = X.shape\n",
    "    mu = np.zeros((d, 1))\n",
    "    Z = np.zeros((d, F))\n",
    "    for i in range(d):\n",
    "        mu[i] = (1. / n) * np.sum(X[:, [i]])\n",
    "    X = X - mu.T\n",
    "    U, s, Vt = la.svd(X, False)\n",
    "    g = s[:F]\n",
    "    for i in range(F):\n",
    "        g[i] = 1. / g[i]\n",
    "    W = Vt[:F]\n",
    "    Z = np.dot(W.T, np.diag(g))\n",
    "    return (mu, Z)\n",
    "\n",
    "def pca_proj(X,mu,Z):\n",
    "    n, d = X.shape\n",
    "    X = X - mu.T\n",
    "    return np.dot(X, Z)"
   ]
  },
  {
   "cell_type": "code",
   "execution_count": 25,
   "metadata": {
    "collapsed": true
   },
   "outputs": [],
   "source": [
    "def k_fold(k, model, f, X, y, error_type=\"mse\"):\n",
    "    n, d = X.shape\n",
    "    z = np.zeros((k, 1))\n",
    "    for i in range(k):\n",
    "        T = list(range(int((i * n) / k), int((n * (i + 1) / k))))\n",
    "        S = [j for j in range(n) if j not in T]\n",
    "        curr_model = clone(model)\n",
    "\n",
    "        training_mu, training_Z = pca(f, X[S])\n",
    "        training_X = pca_proj(X[S], training_mu, training_Z)\n",
    "\n",
    "        curr_model.fit(training_X, y[S])\n",
    "\n",
    "        test_X = pca_proj(X[T], training_mu, training_Z)\n",
    "\n",
    "        # y[T] will be len(T) by 1\n",
    "        # X[T] will be len(T) by d\n",
    "        if error_type == \"mse\":\n",
    "            z[i] = (1. / len(T)) * np.sum((y[T] - curr_model.predict(test_X)) ** 2)\n",
    "        elif error_type == \"log_mse\":\n",
    "            z[i] = (1. / len(T)) * np.sum((np.log(y[T] + 1) - np.log(curr_model.predict(test_X) + 1)) ** 2)\n",
    "    return z"
   ]
  },
  {
   "cell_type": "code",
   "execution_count": 26,
   "metadata": {
    "collapsed": true
   },
   "outputs": [],
   "source": [
    "def bootstrapping(B, model, f, X, y, error_type=\"mse\"):\n",
    "    n, d = X.shape\n",
    "    z = np.zeros((B, 1))\n",
    "    for i in range(B):\n",
    "        u = np.random.choice(n, n, replace=True)\n",
    "        S = np.unique(u)\n",
    "        T = np.setdiff1d(np.arange(n), S, assume_unique=True)\n",
    "        curr_model = clone(model)\n",
    "\n",
    "        training_mu, training_Z = pca(f, X[u])\n",
    "        training_X = pca_proj(X[u], training_mu, training_Z)\n",
    "\n",
    "        curr_model.fit(training_X, y[u])\n",
    "\n",
    "        test_X = pca_proj(X[T], training_mu, training_Z)\n",
    "\n",
    "        # y[T] will be len(T) by 1\n",
    "        # X[T] will be len(T) by d\n",
    "        # theta_hat will be d by 1\n",
    "        if error_type == \"mse\":\n",
    "            z[i] = (1. / len(T)) * np.sum((y[T] - curr_model.predict(test_X)) ** 2)\n",
    "        elif error_type == \"log_mse\":\n",
    "            z[i] = (1. / len(T)) * np.sum((np.log(y[T] + 1) - np.log(curr_model.predict(test_X) + 1)) ** 2)\n",
    "    return z"
   ]
  },
  {
   "cell_type": "code",
   "execution_count": 27,
   "metadata": {
    "collapsed": true
   },
   "outputs": [],
   "source": [
    "def evaluate_model(model, f, X, y, k=5, B=5, error = \"mse\"):\n",
    "    ########################KFOLD###################\n",
    "    print('Evaluating K-fold with %d folds.' % k)\n",
    "    start_time = timeit.default_timer()\n",
    "    k_fold_z = k_fold(k, model, f, X, y, error_type=error)\n",
    "    elapsed = timeit.default_timer() - start_time\n",
    "    \n",
    "    k_fold_mse = np.mean(k_fold_z)\n",
    "    print('K-fold %s: ' % error, k_fold_mse)\n",
    "    \n",
    "    k_fold_rmse = math.sqrt(k_fold_mse)\n",
    "    print('K-fold Square Root %s: ' % error, k_fold_rmse)\n",
    "\n",
    "    print(\"Time elapsed for k-fold: \", elapsed)\n",
    "    \n",
    "    print()\n",
    "    print()\n",
    "    ###################BOOTSTRAPPING################\n",
    "    print('Evaluating bootstrapping with %d bootstraps.' % B)\n",
    "    start_time = timeit.default_timer()\n",
    "    bootstrapping_z = bootstrapping(B, model, f, X, y)\n",
    "    elapsed = timeit.default_timer() - start_time\n",
    "    \n",
    "    bootstrapping_mse = np.mean(bootstrapping_z)\n",
    "    print('Bootstrapping Mean Squared Error: ', bootstrapping_mse)\n",
    "    \n",
    "    bootstrapping_rmse = math.sqrt(bootstrapping_mse)\n",
    "    print('Bootstrapping Square Root Mean Squared Error: ', bootstrapping_rmse)\n",
    "\n",
    "    print(\"Time elapsed for bootstrapping: \", elapsed)\n",
    "    \n",
    "    return (k_fold_z, k_fold_mse, k_fold_rmse, bootstrapping_z, bootstrapping_mse, bootstrapping_rmse)"
   ]
  },
  {
   "cell_type": "markdown",
   "metadata": {},
   "source": [
    "# Loading and Processing Data"
   ]
  },
  {
   "cell_type": "code",
   "execution_count": 28,
   "metadata": {},
   "outputs": [
    {
     "name": "stdout",
     "output_type": "stream",
     "text": [
      "(1460, 80)\n",
      "(1460, 1)\n",
      "(1459, 80)\n"
     ]
    }
   ],
   "source": [
    "kaggle_train = pd.read_csv(\"train.csv\", header=0)\n",
    "kaggle_test = pd.read_csv(\"test.csv\", header=0)\n",
    "\n",
    "kaggle_train_X = kaggle_train.iloc[:,:-1]\n",
    "kaggle_train_y = kaggle_train.iloc[:,-1:]\n",
    "\n",
    "print(kaggle_train_X.shape)\n",
    "print(kaggle_train_y.shape)\n",
    "print(kaggle_test.shape)"
   ]
  },
  {
   "cell_type": "markdown",
   "metadata": {},
   "source": [
    "## Joins Kaggle Train and Test data together so we can encode at once."
   ]
  },
  {
   "cell_type": "code",
   "execution_count": 29,
   "metadata": {
    "collapsed": true
   },
   "outputs": [],
   "source": [
    "X_full = kaggle_train_X.append(kaggle_test, ignore_index=True)"
   ]
  },
  {
   "cell_type": "markdown",
   "metadata": {},
   "source": [
    "## Drops columns that have more than 40% null values."
   ]
  },
  {
   "cell_type": "code",
   "execution_count": 30,
   "metadata": {
    "collapsed": true
   },
   "outputs": [],
   "source": [
    "cols_to_drop = []\n",
    "data_keys = X_full.keys()\n",
    "for i, b in enumerate((X_full.isnull().sum() / X_full.shape[0]) > 0.4):\n",
    "    if b:\n",
    "        cols_to_drop.append(data_keys[i])\n",
    "\n",
    "X_full_dropped = X_full.drop(cols_to_drop, axis=1)"
   ]
  },
  {
   "cell_type": "code",
   "execution_count": 31,
   "metadata": {},
   "outputs": [
    {
     "data": {
      "text/plain": [
       "['Alley', 'FireplaceQu', 'PoolQC', 'Fence', 'MiscFeature']"
      ]
     },
     "execution_count": 31,
     "metadata": {},
     "output_type": "execute_result"
    }
   ],
   "source": [
    "cols_to_drop"
   ]
  },
  {
   "cell_type": "markdown",
   "metadata": {},
   "source": [
    "## Runs one hot encoding for categorical columns."
   ]
  },
  {
   "cell_type": "code",
   "execution_count": 32,
   "metadata": {
    "collapsed": true
   },
   "outputs": [],
   "source": [
    "catCols = set(X_full_dropped.select_dtypes(include=['object']))"
   ]
  },
  {
   "cell_type": "code",
   "execution_count": 33,
   "metadata": {
    "collapsed": true
   },
   "outputs": [],
   "source": [
    "frames = []\n",
    "for col in catCols:\n",
    "    oneHot_encoded = pd.get_dummies(X_full_dropped[col])\n",
    "    oneHot_encoded = oneHot_encoded.add_prefix(col + '_is_')\n",
    "    frames.append(oneHot_encoded)\n",
    "\n",
    "X_full_ohe = X_full_dropped.drop(catCols, axis=1)\n",
    "X_full_ohe = pd.concat([X_full_ohe, pd.concat(frames, axis=1)], axis=1)"
   ]
  },
  {
   "cell_type": "markdown",
   "metadata": {},
   "source": [
    "## Splits data back into Kaggle Train and Kaggle Test."
   ]
  },
  {
   "cell_type": "code",
   "execution_count": 34,
   "metadata": {
    "collapsed": true
   },
   "outputs": [],
   "source": [
    "kaggle_train_X_psplit = X_full_ohe.loc[X_full_ohe[\"Id\"].between(1,1460)]\n",
    "kaggle_test_X_psplit = X_full_ohe.loc[X_full_ohe[\"Id\"].between(1461, 1460+1459)]"
   ]
  },
  {
   "cell_type": "markdown",
   "metadata": {},
   "source": [
    "## Checks for null values and counts for both rows/columns."
   ]
  },
  {
   "cell_type": "code",
   "execution_count": 35,
   "metadata": {},
   "outputs": [
    {
     "name": "stdout",
     "output_type": "stream",
     "text": [
      "3\n",
      "11\n",
      "339\n",
      "313\n"
     ]
    }
   ],
   "source": [
    "# cols\n",
    "print(kaggle_train_X_psplit.loc[:, kaggle_train_X_psplit.isnull().any()].shape[1])\n",
    "print(kaggle_test_X_psplit.loc[:, kaggle_test_X_psplit.isnull().any()].shape[1])\n",
    "\n",
    "# rows\n",
    "print(kaggle_train_X_psplit.loc[kaggle_train_X_psplit.isnull().any(axis=1)].shape[0])\n",
    "print(kaggle_test_X_psplit.loc[kaggle_test_X_psplit.isnull().any(axis=1)].shape[0])"
   ]
  },
  {
   "cell_type": "markdown",
   "metadata": {},
   "source": [
    "## Replaces null values with medians of columns."
   ]
  },
  {
   "cell_type": "code",
   "execution_count": 36,
   "metadata": {
    "collapsed": true
   },
   "outputs": [],
   "source": [
    "kaggle_train_X_processed = kaggle_train_X_psplit.fillna(kaggle_train_X_psplit.median())\n",
    "kaggle_test_X_processed = kaggle_test_X_psplit.fillna(kaggle_test_X_psplit.median())"
   ]
  },
  {
   "cell_type": "markdown",
   "metadata": {},
   "source": [
    "## Checks for null values and counts for both rows/columns once more."
   ]
  },
  {
   "cell_type": "code",
   "execution_count": 37,
   "metadata": {},
   "outputs": [
    {
     "name": "stdout",
     "output_type": "stream",
     "text": [
      "0\n",
      "0\n",
      "0\n",
      "0\n"
     ]
    }
   ],
   "source": [
    "# cols\n",
    "print(kaggle_train_X_processed.loc[:, kaggle_train_X_processed.isnull().any()].shape[1])\n",
    "print(kaggle_test_X_processed.loc[:, kaggle_test_X_processed.isnull().any()].shape[1])\n",
    "\n",
    "# rows\n",
    "print(kaggle_train_X_processed.loc[kaggle_train_X_processed.isnull().any(axis=1)].shape[0])\n",
    "print(kaggle_test_X_processed.loc[kaggle_test_X_processed.isnull().any(axis=1)].shape[0])"
   ]
  },
  {
   "cell_type": "markdown",
   "metadata": {},
   "source": [
    "## Split Kaggle Training into Train/Test since Kaggle Test has no response variables."
   ]
  },
  {
   "cell_type": "code",
   "execution_count": 38,
   "metadata": {
    "collapsed": true
   },
   "outputs": [],
   "source": [
    "# 80:20 train test ratio\n",
    "test_size = 0.2\n",
    "# This function splits the training and target sets into random train and test subsets.\n",
    "# X_train and X_test are subsets of the training data\n",
    "# y_train and y_test are subsets the the target data\n",
    "X_train, X_test, y_train, y_test = train_test_split(kaggle_train_X_processed, kaggle_train_y, test_size=test_size)"
   ]
  },
  {
   "cell_type": "markdown",
   "metadata": {},
   "source": [
    "# PCA Feature Selection"
   ]
  },
  {
   "cell_type": "markdown",
   "metadata": {},
   "source": [
    "## Selects 50 features."
   ]
  },
  {
   "cell_type": "code",
   "execution_count": 39,
   "metadata": {
    "collapsed": true
   },
   "outputs": [],
   "source": [
    "F = 50\n",
    "f = F"
   ]
  },
  {
   "cell_type": "markdown",
   "metadata": {},
   "source": [
    "##  Runs PCA for 50 features on Kaggle train."
   ]
  },
  {
   "cell_type": "code",
   "execution_count": 40,
   "metadata": {
    "collapsed": true
   },
   "outputs": [],
   "source": [
    "X_kaggle_train_mu, X_kaggle_train_Z = pca(F, kaggle_train_X_processed.values)\n",
    "X_kaggle_train_pca = pca_proj(kaggle_train_X_processed.values, X_kaggle_train_mu, X_kaggle_train_Z)"
   ]
  },
  {
   "cell_type": "markdown",
   "metadata": {},
   "source": [
    "##  Projects PCA for Kaggle Test onto Kaggle Train."
   ]
  },
  {
   "cell_type": "code",
   "execution_count": 41,
   "metadata": {
    "collapsed": true
   },
   "outputs": [],
   "source": [
    "X_kaggle_test_pca = pca_proj(kaggle_test_X_processed.values, X_kaggle_train_mu, X_kaggle_train_Z)"
   ]
  },
  {
   "cell_type": "markdown",
   "metadata": {},
   "source": [
    "##  Runs PCA for 50 features on the train split of Kaggle train."
   ]
  },
  {
   "cell_type": "code",
   "execution_count": 42,
   "metadata": {
    "collapsed": true
   },
   "outputs": [],
   "source": [
    "X_train_mu, X_train_Z = pca(F, X_train.values)\n",
    "X_train_pca = pca_proj(X_train.values, X_train_mu, X_train_Z)"
   ]
  },
  {
   "cell_type": "markdown",
   "metadata": {},
   "source": [
    "##  Projects PCA for test split onto train split of Kaggle train."
   ]
  },
  {
   "cell_type": "code",
   "execution_count": 43,
   "metadata": {
    "collapsed": true
   },
   "outputs": [],
   "source": [
    "X_test_pca = pca_proj(X_test.values, X_train_mu, X_train_Z)"
   ]
  },
  {
   "cell_type": "markdown",
   "metadata": {},
   "source": [
    "# ADABoost"
   ]
  },
  {
   "cell_type": "code",
   "execution_count": 25,
   "metadata": {},
   "outputs": [
    {
     "name": "stdout",
     "output_type": "stream",
     "text": [
      "Evaluating K-fold with 5 folds.\n",
      "K-fold mse:  1797026901.2816124\n",
      "K-fold Square Root mse:  42391.354086436215\n",
      "Time elapsed for k-fold:  2.7465115919999903\n",
      "\n",
      "\n",
      "Evaluating bootstrapping with 5 bootstraps.\n",
      "Bootstrapping Mean Squared Error:  1830001730.750833\n",
      "Bootstrapping Square Root Mean Squared Error:  42778.5195016241\n",
      "Time elapsed for bootstrapping:  3.1126271050000014\n"
     ]
    },
    {
     "data": {
      "text/plain": [
       "0.695436901044652"
      ]
     },
     "execution_count": 25,
     "metadata": {},
     "output_type": "execute_result"
    }
   ],
   "source": [
    "from sklearn.ensemble import AdaBoostRegressor\n",
    "adaBoost = AdaBoostRegressor(n_estimators=70)\n",
    "ada_k_z, ada_k_mse, ada_k_rmse, ada_b_z, ada_b_mse, ada_b_rmse = evaluate_model(adaBoost, f, kaggle_train_X_processed.values, kaggle_train_y.values.ravel(), k=5, B=5)\n",
    "\n",
    "adaBoost.fit(X_train_pca, y_train.values.ravel())\n",
    "adaBoost.score(X_test_pca, y_test.values.ravel())"
   ]
  },
  {
   "cell_type": "code",
   "execution_count": 26,
   "metadata": {},
   "outputs": [
    {
     "data": {
      "text/html": [
       "<div>\n",
       "<style scoped>\n",
       "    .dataframe tbody tr th:only-of-type {\n",
       "        vertical-align: middle;\n",
       "    }\n",
       "\n",
       "    .dataframe tbody tr th {\n",
       "        vertical-align: top;\n",
       "    }\n",
       "\n",
       "    .dataframe thead th {\n",
       "        text-align: right;\n",
       "    }\n",
       "</style>\n",
       "<table border=\"1\" class=\"dataframe\">\n",
       "  <thead>\n",
       "    <tr style=\"text-align: right;\">\n",
       "      <th></th>\n",
       "      <th>SalePrice</th>\n",
       "      <th>predicted</th>\n",
       "    </tr>\n",
       "  </thead>\n",
       "  <tbody>\n",
       "    <tr>\n",
       "      <th>526</th>\n",
       "      <td>132000</td>\n",
       "      <td>177581.769231</td>\n",
       "    </tr>\n",
       "    <tr>\n",
       "      <th>434</th>\n",
       "      <td>81000</td>\n",
       "      <td>139431.965909</td>\n",
       "    </tr>\n",
       "    <tr>\n",
       "      <th>944</th>\n",
       "      <td>137500</td>\n",
       "      <td>182238.184466</td>\n",
       "    </tr>\n",
       "    <tr>\n",
       "      <th>140</th>\n",
       "      <td>115000</td>\n",
       "      <td>143501.142487</td>\n",
       "    </tr>\n",
       "    <tr>\n",
       "      <th>48</th>\n",
       "      <td>113000</td>\n",
       "      <td>139431.965909</td>\n",
       "    </tr>\n",
       "  </tbody>\n",
       "</table>\n",
       "</div>"
      ],
      "text/plain": [
       "     SalePrice      predicted\n",
       "526     132000  177581.769231\n",
       "434      81000  139431.965909\n",
       "944     137500  182238.184466\n",
       "140     115000  143501.142487\n",
       "48      113000  139431.965909"
      ]
     },
     "execution_count": 26,
     "metadata": {},
     "output_type": "execute_result"
    }
   ],
   "source": [
    "#View Predicted values\n",
    "predicted = adaBoost.predict(X_test_pca)\n",
    "ada_pred = y_test.copy()\n",
    "ada_pred['predicted'] = predicted\n",
    "ada_pred.head()"
   ]
  },
  {
   "cell_type": "markdown",
   "metadata": {},
   "source": [
    "# XGBoost"
   ]
  },
  {
   "cell_type": "code",
   "execution_count": 57,
   "metadata": {},
   "outputs": [
    {
     "name": "stdout",
     "output_type": "stream",
     "text": [
      "Evaluating K-fold with 5 folds.\n",
      "K-fold mse:  1214630433.62\n",
      "K-fold Square Root mse:  34851.54851110491\n",
      "Time elapsed for k-fold:  2.3187133\n",
      "\n",
      "\n",
      "Evaluating bootstrapping with 5 bootstraps.\n",
      "Bootstrapping Mean Squared Error:  1453238191.54\n",
      "Bootstrapping Square Root Mean Squared Error:  38121.36135476288\n",
      "Time elapsed for bootstrapping:  3.0470248999999994\n"
     ]
    },
    {
     "data": {
      "text/plain": [
       "0.83249936122107382"
      ]
     },
     "execution_count": 57,
     "metadata": {},
     "output_type": "execute_result"
    }
   ],
   "source": [
    "from xgboost import XGBRegressor\n",
    "xgb = XGBRegressor(max_depth=3, learning_rate=0.2, booster='gbtree', n_estimators=70)\n",
    "xg_k_z, xg_k_mse, xg_k_rmse, xg_b_z, xg_b_mse, xg_b_rmse = evaluate_model(xgb, f, kaggle_train_X_processed.values, kaggle_train_y.values.ravel(), k=5, B=5)\n",
    "\n",
    "xgb.fit(X_train_pca, y_train)\n",
    "xgb.score(X_test_pca, y_test.values.ravel())"
   ]
  },
  {
   "cell_type": "code",
   "execution_count": 28,
   "metadata": {},
   "outputs": [
    {
     "data": {
      "text/html": [
       "<div>\n",
       "<style scoped>\n",
       "    .dataframe tbody tr th:only-of-type {\n",
       "        vertical-align: middle;\n",
       "    }\n",
       "\n",
       "    .dataframe tbody tr th {\n",
       "        vertical-align: top;\n",
       "    }\n",
       "\n",
       "    .dataframe thead th {\n",
       "        text-align: right;\n",
       "    }\n",
       "</style>\n",
       "<table border=\"1\" class=\"dataframe\">\n",
       "  <thead>\n",
       "    <tr style=\"text-align: right;\">\n",
       "      <th></th>\n",
       "      <th>SalePrice</th>\n",
       "      <th>predicted</th>\n",
       "    </tr>\n",
       "  </thead>\n",
       "  <tbody>\n",
       "    <tr>\n",
       "      <th>526</th>\n",
       "      <td>132000</td>\n",
       "      <td>136673.640625</td>\n",
       "    </tr>\n",
       "    <tr>\n",
       "      <th>434</th>\n",
       "      <td>81000</td>\n",
       "      <td>93778.289062</td>\n",
       "    </tr>\n",
       "    <tr>\n",
       "      <th>944</th>\n",
       "      <td>137500</td>\n",
       "      <td>179993.375000</td>\n",
       "    </tr>\n",
       "    <tr>\n",
       "      <th>140</th>\n",
       "      <td>115000</td>\n",
       "      <td>105223.710938</td>\n",
       "    </tr>\n",
       "    <tr>\n",
       "      <th>48</th>\n",
       "      <td>113000</td>\n",
       "      <td>107274.398438</td>\n",
       "    </tr>\n",
       "  </tbody>\n",
       "</table>\n",
       "</div>"
      ],
      "text/plain": [
       "     SalePrice      predicted\n",
       "526     132000  136673.640625\n",
       "434      81000   93778.289062\n",
       "944     137500  179993.375000\n",
       "140     115000  105223.710938\n",
       "48      113000  107274.398438"
      ]
     },
     "execution_count": 28,
     "metadata": {},
     "output_type": "execute_result"
    }
   ],
   "source": [
    "predicted = xgb.predict(X_test_pca)\n",
    "xgb_pred = y_test.copy()\n",
    "xgb_pred['predicted'] = predicted\n",
    "xgb_pred.head()"
   ]
  },
  {
   "cell_type": "markdown",
   "metadata": {},
   "source": [
    "# SVM (SVR)"
   ]
  },
  {
   "cell_type": "code",
   "execution_count": 86,
   "metadata": {},
   "outputs": [
    {
     "name": "stdout",
     "output_type": "stream",
     "text": [
      "Evaluating K-fold with 5 folds.\n",
      "K-fold mse:  1258139352.23\n",
      "K-fold Square Root mse:  35470.260109358496\n",
      "Time elapsed for k-fold:  1.6540849000000435\n",
      "\n",
      "\n",
      "Evaluating bootstrapping with 5 bootstraps.\n",
      "Bootstrapping Mean Squared Error:  1151827481.0\n",
      "Bootstrapping Square Root Mean Squared Error:  33938.583956876144\n",
      "Time elapsed for bootstrapping:  2.309278899999981\n"
     ]
    },
    {
     "data": {
      "text/plain": [
       "0.85029737089539748"
      ]
     },
     "execution_count": 86,
     "metadata": {},
     "output_type": "execute_result"
    }
   ],
   "source": [
    "from sklearn import svm\n",
    "svr_model = svm.SVR(kernel=\"poly\", coef0=-2500, gamma=\"auto\")\n",
    "# coef0 only works with poly and sigmoid kernels\n",
    "# it just puts that value instead of the column of 1's\n",
    "\n",
    "# without it, this model breaks for some reason\n",
    "\n",
    "svr_k_z, svr_k_mse, svr_k_rmse, svr_b_z, svr_b_mse, svr_b_rmse = evaluate_model(svr_model, f, kaggle_train_X_processed.values, kaggle_train_y.values.ravel(), k=5, B=5)\n",
    "\n",
    "# epsilon, degree\n",
    "svr_model.fit(X_train_pca, y_train.values.ravel())\n",
    "svr_model.score(X_test_pca, y_test.values.ravel())"
   ]
  },
  {
   "cell_type": "code",
   "execution_count": 30,
   "metadata": {
    "scrolled": true
   },
   "outputs": [
    {
     "data": {
      "text/html": [
       "<div>\n",
       "<style scoped>\n",
       "    .dataframe tbody tr th:only-of-type {\n",
       "        vertical-align: middle;\n",
       "    }\n",
       "\n",
       "    .dataframe tbody tr th {\n",
       "        vertical-align: top;\n",
       "    }\n",
       "\n",
       "    .dataframe thead th {\n",
       "        text-align: right;\n",
       "    }\n",
       "</style>\n",
       "<table border=\"1\" class=\"dataframe\">\n",
       "  <thead>\n",
       "    <tr style=\"text-align: right;\">\n",
       "      <th></th>\n",
       "      <th>SalePrice</th>\n",
       "      <th>predicted</th>\n",
       "    </tr>\n",
       "  </thead>\n",
       "  <tbody>\n",
       "    <tr>\n",
       "      <th>526</th>\n",
       "      <td>132000</td>\n",
       "      <td>127193.381039</td>\n",
       "    </tr>\n",
       "    <tr>\n",
       "      <th>434</th>\n",
       "      <td>81000</td>\n",
       "      <td>75677.231404</td>\n",
       "    </tr>\n",
       "    <tr>\n",
       "      <th>944</th>\n",
       "      <td>137500</td>\n",
       "      <td>176922.935768</td>\n",
       "    </tr>\n",
       "    <tr>\n",
       "      <th>140</th>\n",
       "      <td>115000</td>\n",
       "      <td>101864.470980</td>\n",
       "    </tr>\n",
       "    <tr>\n",
       "      <th>48</th>\n",
       "      <td>113000</td>\n",
       "      <td>89187.964192</td>\n",
       "    </tr>\n",
       "  </tbody>\n",
       "</table>\n",
       "</div>"
      ],
      "text/plain": [
       "     SalePrice      predicted\n",
       "526     132000  127193.381039\n",
       "434      81000   75677.231404\n",
       "944     137500  176922.935768\n",
       "140     115000  101864.470980\n",
       "48      113000   89187.964192"
      ]
     },
     "execution_count": 30,
     "metadata": {},
     "output_type": "execute_result"
    }
   ],
   "source": [
    "svr_predicted = svr_model.predict(X_test_pca)\n",
    "svr_pred = y_test.copy()\n",
    "svr_pred[\"predicted\"] = svr_predicted\n",
    "svr_pred.head()"
   ]
  },
  {
   "cell_type": "markdown",
   "metadata": {},
   "source": [
    "# Neural Network"
   ]
  },
  {
   "cell_type": "code",
   "execution_count": 44,
   "metadata": {},
   "outputs": [],
   "source": [
    "from sklearn.neural_network import MLPRegressor\n",
    "import copy\n",
    "\n",
    "def nnRMSE(nn, X, y, X_test, y_test):\n",
    "    train_pred = nn.predict(X)\n",
    "    test_pred = nn.predict(X_test)\n",
    "    \n",
    "    trainSE = 0\n",
    "    for i in range(len(train_pred)):\n",
    "        trainSE += (train_pred[i]-y[i])**2\n",
    "    \n",
    "    testSE = 0\n",
    "    for i in range(len(test_pred)):\n",
    "        testSE += (test_pred[i]-y_test[i])**2\n",
    "    \n",
    "    trainRMSE = np.sqrt(trainSE / len(train_pred))\n",
    "    testRMSE = np.sqrt(testSE / len(test_pred))\n",
    "    \n",
    "    return [trainRMSE, testRMSE]\n",
    "\n",
    "# Based on Early Stopping\n",
    "def nn_setBestWeights(nn, cvErrors, models):\n",
    "    model_idx = np.argmin(cvErrors)\n",
    "    nn.coefs_ = models[model_idx][0]\n",
    "    nn.intercepts_ = models[model_idx][1]\n",
    "    print(\"Loaded nn with weights of lowest model.\")\n",
    "\n",
    "# 80/20 training / cross_val split\n",
    "train_size = int(len(X_kaggle_train_pca) * .8)\n",
    "nn_X_train_pca = X_kaggle_train_pca[:train_size]\n",
    "nn_X_test_pca = X_kaggle_train_pca[train_size:]\n",
    "nn_y_train_pca = kaggle_train_y.values.ravel()[:train_size]\n",
    "nn_y_test_pca = kaggle_train_y.values.ravel()[train_size:]\n"
   ]
  },
  {
   "cell_type": "code",
   "execution_count": 45,
   "metadata": {
    "collapsed": true
   },
   "outputs": [],
   "source": [
    "def NeuralNet(nn_X_train_pca, nn_y_train_pca, nn_X_test_pca, nn_y_test_pca):\n",
    "    # Early Stopping Routine\n",
    "    nn = MLPRegressor(\n",
    "                        hidden_layer_sizes=(24,24,24,),\n",
    "                        activation='relu',\n",
    "                        solver='adam',\n",
    "                        learning_rate='adaptive',\n",
    "                        warm_start=True,\n",
    "                        max_iter=1,\n",
    "                        learning_rate_init=0.01,\n",
    "                        alpha=0.01)\n",
    "\n",
    "    max_iters = 500\n",
    "    errors = []\n",
    "    models = []\n",
    "    for i in range(max_iters):\n",
    "        nn.fit(nn_X_train_pca, nn_y_train_pca)\n",
    "        if i % 10 == 0:\n",
    "            error = nnRMSE(nn, nn_X_train_pca, nn_y_train_pca, nn_X_test_pca, nn_y_test_pca)\n",
    "            if i % 100 == 0 :\n",
    "                print(f\"(Train, test): {error}\")\n",
    "            models.append((copy.deepcopy(nn.coefs_), copy.deepcopy(nn.intercepts_)))\n",
    "            errors.append(error)\n",
    "\n",
    "    train_error = []\n",
    "    test_error = []\n",
    "    for e in errors:\n",
    "        train_error.append(e[0])\n",
    "        test_error.append(e[1])\n",
    "\n",
    "    nn_setBestWeights(nn, test_error, models)\n",
    "    error = nnRMSE(nn, nn_X_train_pca, nn_y_train_pca, nn_X_test_pca, nn_y_test_pca)\n",
    "    print(f\"RMSE: (Train, test): {error}\")\n",
    "    \n",
    "    return nn"
   ]
  },
  {
   "cell_type": "code",
   "execution_count": 148,
   "metadata": {},
   "outputs": [
    {
     "name": "stderr",
     "output_type": "stream",
     "text": [
      "/usr/local/lib/python3.7/site-packages/sklearn/neural_network/multilayer_perceptron.py:562: ConvergenceWarning: Stochastic Optimizer: Maximum iterations (1) reached and the optimization hasn't converged yet.\n",
      "  % self.max_iter, ConvergenceWarning)\n"
     ]
    },
    {
     "name": "stdout",
     "output_type": "stream",
     "text": [
      "(Train, test): [197025.37869962942, 199795.17383505835]\n",
      "(Train, test): [44157.499717778715, 65260.16039943563]\n",
      "(Train, test): [27694.702281240192, 54103.69870163684]\n",
      "(Train, test): [24874.45874658353, 49787.667528999606]\n",
      "(Train, test): [23274.264758242785, 46621.18410378291]\n",
      "(Train, test): [22422.450286219966, 45763.04773726212]\n",
      "(Train, test): [21736.51846668295, 45642.6177514801]\n",
      "(Train, test): [21085.290891249944, 45788.252465641526]\n",
      "(Train, test): [20588.061390369734, 46142.02070740105]\n",
      "(Train, test): [20100.81739302838, 46472.76864736848]\n",
      "Loaded nn with weights of lowest model.\n",
      "RMSE: (Train, test): [22072.751159362997, 45231.30017724539]\n"
     ]
    },
    {
     "data": {
      "text/html": [
       "<div>\n",
       "<style scoped>\n",
       "    .dataframe tbody tr th:only-of-type {\n",
       "        vertical-align: middle;\n",
       "    }\n",
       "\n",
       "    .dataframe tbody tr th {\n",
       "        vertical-align: top;\n",
       "    }\n",
       "\n",
       "    .dataframe thead th {\n",
       "        text-align: right;\n",
       "    }\n",
       "</style>\n",
       "<table border=\"1\" class=\"dataframe\">\n",
       "  <thead>\n",
       "    <tr style=\"text-align: right;\">\n",
       "      <th></th>\n",
       "      <th>SalePrice</th>\n",
       "      <th>predicted</th>\n",
       "    </tr>\n",
       "  </thead>\n",
       "  <tbody>\n",
       "    <tr>\n",
       "      <th>526</th>\n",
       "      <td>132000</td>\n",
       "      <td>86754.920880</td>\n",
       "    </tr>\n",
       "    <tr>\n",
       "      <th>434</th>\n",
       "      <td>81000</td>\n",
       "      <td>113908.282670</td>\n",
       "    </tr>\n",
       "    <tr>\n",
       "      <th>944</th>\n",
       "      <td>137500</td>\n",
       "      <td>210664.378517</td>\n",
       "    </tr>\n",
       "    <tr>\n",
       "      <th>140</th>\n",
       "      <td>115000</td>\n",
       "      <td>118975.604130</td>\n",
       "    </tr>\n",
       "    <tr>\n",
       "      <th>48</th>\n",
       "      <td>113000</td>\n",
       "      <td>124264.802321</td>\n",
       "    </tr>\n",
       "  </tbody>\n",
       "</table>\n",
       "</div>"
      ],
      "text/plain": [
       "     SalePrice      predicted\n",
       "526     132000   86754.920880\n",
       "434      81000  113908.282670\n",
       "944     137500  210664.378517\n",
       "140     115000  118975.604130\n",
       "48      113000  124264.802321"
      ]
     },
     "execution_count": 148,
     "metadata": {},
     "output_type": "execute_result"
    }
   ],
   "source": [
    "nn = NeuralNet(nn_X_train_pca, nn_y_train_pca, nn_X_test_pca, nn_y_test_pca)\n",
    "epochs = [i for i in range(1,len(errors)+1)]\n",
    "nn_predicted = nn.predict(X_test_pca)\n",
    "nn_pred = y_test.copy()\n",
    "nn_pred[\"predicted\"] = nn_predicted\n",
    "nn_pred.head()"
   ]
  },
  {
   "cell_type": "code",
   "execution_count": 105,
   "metadata": {},
   "outputs": [
    {
     "data": {
      "text/plain": [
       "<matplotlib.legend.Legend at 0x11cb6dcf8>"
      ]
     },
     "execution_count": 105,
     "metadata": {},
     "output_type": "execute_result"
    },
    {
     "data": {
      "image/png": "[encoded data removed]",
      "text/plain": [
       "<Figure size 432x288 with 1 Axes>"
      ]
     },
     "metadata": {
      "needs_background": "light"
     },
     "output_type": "display_data"
    }
   ],
   "source": [
    "train_line = plt.plot(epochs,train_error, color='red', label='Train')\n",
    "test_line = plt.plot(epochs,test_error, color='green', label='Test')\n",
    "plt.title('Neural Network: Error vs Epochs Trained')\n",
    "plt.ylabel('RMSE')\n",
    "plt.xlabel('Epoch Number')\n",
    "model_idx = np.argmin(test_error)\n",
    "plt.axvline(x=model_idx)\n",
    "plt.legend()"
   ]
  },
  {
   "cell_type": "code",
   "execution_count": 170,
   "metadata": {
    "collapsed": true
   },
   "outputs": [],
   "source": [
    "# PCA Tuning\n",
    "def PCANN(X,y,k,f):\n",
    "    n, d = X.shape\n",
    "    z = np.zeros((k, 1))\n",
    "    totalMSE = 0\n",
    "    for i in range(k):\n",
    "        T = list(range(int((i * n) / k), int((n * (i + 1) / k))))\n",
    "        S = [j for j in range(n) if j not in T]\n",
    "\n",
    "        training_mu, training_Z = pca(f, X[S])\n",
    "        training_X = pca_proj(X[S], training_mu, training_Z)\n",
    "        test_X = pca_proj(X[T], training_mu, training_Z)\n",
    "        curr_model = NeuralNet(training_X, y[S], test_X, y[T])\n",
    "\n",
    "\n",
    "        test_pred = curr_model.predict(test_X)\n",
    "        testSE = 0\n",
    "        for i in range(len(test_pred)):\n",
    "            testSE += (test_pred[i]-y[T][i])**2\n",
    "            \n",
    "        totalMSE += testSE / n\n",
    "        print(nnRMSE(curr_model, training_X, y[S], test_X, y[T]))\n",
    "    \n",
    "    return np.sqrt(totalMSE)"
   ]
  },
  {
   "cell_type": "code",
   "execution_count": 154,
   "metadata": {},
   "outputs": [
    {
     "name": "stderr",
     "output_type": "stream",
     "text": [
      "/usr/local/lib/python3.7/site-packages/sklearn/neural_network/multilayer_perceptron.py:562: ConvergenceWarning: Stochastic Optimizer: Maximum iterations (1) reached and the optimization hasn't converged yet.\n",
      "  % self.max_iter, ConvergenceWarning)\n"
     ]
    },
    {
     "name": "stdout",
     "output_type": "stream",
     "text": [
      "(Train, test): [197884.5423145701, 196368.7558922504]\n",
      "(Train, test): [53642.942794972434, 46764.75865150105]\n",
      "(Train, test): [33592.3807148364, 26738.501051410163]\n",
      "(Train, test): [31986.599150390506, 24724.30308937568]\n",
      "(Train, test): [30278.027456117532, 25757.577359547096]\n",
      "(Train, test): [29034.753313053156, 25662.115080011303]\n",
      "(Train, test): [28235.457700395815, 26389.271760384305]\n",
      "(Train, test): [27269.59916000672, 26916.9781498753]\n",
      "(Train, test): [26460.05351513796, 27930.46248904474]\n",
      "(Train, test): [25733.17115277814, 29866.13852725656]\n",
      "Loaded nn with weights of lowest model.\n",
      "RMSE: (Train, test): [32192.63149083544, 24583.04385653187]\n",
      "[32192.63149083544, 24583.04385653187]\n",
      "(Train, test): [196941.77995472908, 200126.05054694906]\n"
     ]
    },
    {
     "name": "stderr",
     "output_type": "stream",
     "text": [
      "/usr/local/lib/python3.7/site-packages/sklearn/neural_network/multilayer_perceptron.py:562: ConvergenceWarning: Stochastic Optimizer: Maximum iterations (1) reached and the optimization hasn't converged yet.\n",
      "  % self.max_iter, ConvergenceWarning)\n"
     ]
    },
    {
     "name": "stdout",
     "output_type": "stream",
     "text": [
      "(Train, test): [47024.559043276124, 53058.58599882492]\n",
      "(Train, test): [30725.999299519823, 34898.71883281797]\n",
      "(Train, test): [28675.667742472477, 35988.867581932995]\n",
      "(Train, test): [27125.815376747058, 37018.83062411032]\n",
      "(Train, test): [26302.328809341874, 38811.13427882708]\n",
      "(Train, test): [25532.124160044452, 39842.317877720234]\n",
      "(Train, test): [24241.115459928566, 40680.56823108942]\n",
      "(Train, test): [23178.10742499687, 42320.02759620249]\n",
      "(Train, test): [22001.384530916977, 45386.5040955922]\n",
      "Loaded nn with weights of lowest model.\n",
      "RMSE: (Train, test): [30822.795956649657, 34897.02186719866]\n",
      "[30822.795956649657, 34897.02186719866]\n",
      "(Train, test): [195926.288416514, 204073.17012156843]\n"
     ]
    },
    {
     "name": "stderr",
     "output_type": "stream",
     "text": [
      "/usr/local/lib/python3.7/site-packages/sklearn/neural_network/multilayer_perceptron.py:562: ConvergenceWarning: Stochastic Optimizer: Maximum iterations (1) reached and the optimization hasn't converged yet.\n",
      "  % self.max_iter, ConvergenceWarning)\n"
     ]
    },
    {
     "name": "stdout",
     "output_type": "stream",
     "text": [
      "(Train, test): [52071.67816160626, 59851.12982476003]\n",
      "(Train, test): [31910.23077061433, 33644.7935065587]\n",
      "(Train, test): [31990.852252147044, 32789.13419639343]\n",
      "(Train, test): [30719.016052669456, 32089.0303913313]\n",
      "(Train, test): [29646.543966931913, 32632.33292080565]\n",
      "(Train, test): [28490.12892950563, 31303.53723469338]\n",
      "(Train, test): [27637.847453932074, 29890.277810219628]\n",
      "(Train, test): [26735.609861361037, 30080.044801479446]\n",
      "(Train, test): [25683.457626482053, 29182.040755483784]\n",
      "Loaded nn with weights of lowest model.\n",
      "RMSE: (Train, test): [26133.379189717896, 28438.233363448766]\n",
      "[26133.379189717896, 28438.233363448766]\n",
      "(Train, test): [200109.53326074415, 187134.1502016508]\n"
     ]
    },
    {
     "name": "stderr",
     "output_type": "stream",
     "text": [
      "/usr/local/lib/python3.7/site-packages/sklearn/neural_network/multilayer_perceptron.py:562: ConvergenceWarning: Stochastic Optimizer: Maximum iterations (1) reached and the optimization hasn't converged yet.\n",
      "  % self.max_iter, ConvergenceWarning)\n"
     ]
    },
    {
     "name": "stdout",
     "output_type": "stream",
     "text": [
      "(Train, test): [53381.830296868946, 45445.64189720608]\n",
      "(Train, test): [33242.65103938732, 24739.87917383662]\n",
      "(Train, test): [31287.781807865053, 23572.73857932773]\n",
      "(Train, test): [30185.07639422056, 23729.333079977125]\n",
      "(Train, test): [29230.84371193379, 24257.213954452392]\n",
      "(Train, test): [28500.53295957571, 24218.123165493966]\n",
      "(Train, test): [28148.69976168341, 24576.063519671283]\n",
      "(Train, test): [27898.737300833352, 24712.78226396785]\n",
      "(Train, test): [27366.125193320437, 25171.859034570272]\n",
      "Loaded nn with weights of lowest model.\n",
      "RMSE: (Train, test): [31360.425178276568, 23041.742321576523]\n",
      "[31360.425178276568, 23041.742321576523]\n",
      "(Train, test): [197024.5580473739, 199794.3597533664]\n"
     ]
    },
    {
     "name": "stderr",
     "output_type": "stream",
     "text": [
      "/usr/local/lib/python3.7/site-packages/sklearn/neural_network/multilayer_perceptron.py:562: ConvergenceWarning: Stochastic Optimizer: Maximum iterations (1) reached and the optimization hasn't converged yet.\n",
      "  % self.max_iter, ConvergenceWarning)\n"
     ]
    },
    {
     "name": "stdout",
     "output_type": "stream",
     "text": [
      "(Train, test): [47280.74756621325, 56714.86972916163]\n",
      "(Train, test): [27063.00431635981, 48265.6746928446]\n",
      "(Train, test): [26164.899955551373, 47465.315181717924]\n",
      "(Train, test): [24669.31301855518, 45452.20896559848]\n",
      "(Train, test): [23364.265146834783, 45860.07189971143]\n",
      "(Train, test): [22276.40421065797, 46245.87946637407]\n",
      "(Train, test): [21760.291708020482, 47104.697894028184]\n",
      "(Train, test): [21484.670247697097, 46668.11774848017]\n",
      "(Train, test): [21326.666583942675, 46303.13878350637]\n",
      "Loaded nn with weights of lowest model.\n",
      "RMSE: (Train, test): [21029.889282990658, 45256.3160663985]\n",
      "[21029.889282990658, 45256.3160663985]\n"
     ]
    },
    {
     "data": {
      "text/plain": [
       "32279.768680712605"
      ]
     },
     "execution_count": 154,
     "metadata": {},
     "output_type": "execute_result"
    }
   ],
   "source": [
    "PCANN(kaggle_train_X_processed.values, kaggle_train_y.values.ravel(),5,50)"
   ]
  },
  {
   "cell_type": "markdown",
   "metadata": {},
   "source": [
    "# Scatter Plots of predictions for all 4 models."
   ]
  },
  {
   "cell_type": "code",
   "execution_count": 107,
   "metadata": {
    "collapsed": true
   },
   "outputs": [],
   "source": [
    "def plotScatter(predicted, name):\n",
    "    colors = [\"r\", \"b\"]\n",
    "    plt.title(name + \" Predicted vs Actual Sale Price\")\n",
    "    plt.xlabel(\"Actual Sale Price\")\n",
    "    plt.ylabel(\"Predicted Sale Price\")\n",
    "    red_patch = mpatches.Patch(color='red', label='Actual Sale Price')\n",
    "    blue_patch = mpatches.Patch(color='blue', label='Predicted Sale Price')\n",
    "    plt.scatter(predicted['SalePrice'], predicted['predicted'], color=\"r\", alpha=0.5)\n",
    "    plt.show()"
   ]
  },
  {
   "cell_type": "code",
   "execution_count": 111,
   "metadata": {},
   "outputs": [
    {
     "name": "stdout",
     "output_type": "stream",
     "text": [
      "\n",
      "========== Prediction Scatter Plots Across Models ==========\n",
      "\n"
     ]
    },
    {
     "data": {
      "image/png": "[encoded data removed]",
      "text/plain": [
       "<Figure size 432x288 with 1 Axes>"
      ]
     },
     "metadata": {
      "needs_background": "light"
     },
     "output_type": "display_data"
    },
    {
     "data": {
      "image/png": "[encoded data removed]",
      "text/plain": [
       "<Figure size 432x288 with 1 Axes>"
      ]
     },
     "metadata": {
      "needs_background": "light"
     },
     "output_type": "display_data"
    },
    {
     "data": {
      "image/png": "[encoded data removed]",
      "text/plain": [
       "<Figure size 432x288 with 1 Axes>"
      ]
     },
     "metadata": {
      "needs_background": "light"
     },
     "output_type": "display_data"
    },
    {
     "data": {
      "image/png": "[encoded data removed]",
      "text/plain": [
       "<Figure size 432x288 with 1 Axes>"
      ]
     },
     "metadata": {
      "needs_background": "light"
     },
     "output_type": "display_data"
    }
   ],
   "source": [
    "print()\n",
    "print(\"========== Prediction Scatter Plots Across Models ==========\")\n",
    "print()\n",
    "\n",
    "plotScatter(ada_pred, \"AdaBoost\")\n",
    "plotScatter(xgb_pred, \"XgBoost\")\n",
    "plotScatter(svr_pred, \"SVM\")\n",
    "plotScatter(nn_pred, \"Neural Network\")"
   ]
  },
  {
   "cell_type": "markdown",
   "metadata": {},
   "source": [
    "# Kaggle Submission"
   ]
  },
  {
   "cell_type": "code",
   "execution_count": 58,
   "metadata": {},
   "outputs": [
    {
     "data": {
      "text/plain": [
       "XGBRegressor(base_score=0.5, booster='gbtree', colsample_bylevel=1,\n",
       "       colsample_bytree=1, gamma=0, learning_rate=0.2, max_delta_step=0,\n",
       "       max_depth=3, min_child_weight=1, missing=None, n_estimators=70,\n",
       "       n_jobs=1, nthread=None, objective='reg:linear', random_state=0,\n",
       "       reg_alpha=0, reg_lambda=1, scale_pos_weight=1, seed=None,\n",
       "       silent=True, subsample=1)"
      ]
     },
     "execution_count": 58,
     "metadata": {},
     "output_type": "execute_result"
    }
   ],
   "source": [
    "kaggle_xgb = XGBRegressor(max_depth=3, learning_rate=0.2, booster='gbtree', n_estimators=70)\n",
    "\n",
    "kaggle_xgb.fit(X_kaggle_train_pca, kaggle_train_y)"
   ]
  },
  {
   "cell_type": "code",
   "execution_count": 59,
   "metadata": {
    "collapsed": true
   },
   "outputs": [],
   "source": [
    "kaggle_predicted = kaggle_xgb.predict(X_kaggle_test_pca)"
   ]
  },
  {
   "cell_type": "code",
   "execution_count": 60,
   "metadata": {
    "collapsed": true
   },
   "outputs": [],
   "source": [
    "kaggle_predicted_complete = pd.DataFrame({'Id': kaggle_test[\"Id\"], 'SalePrice': kaggle_predicted})"
   ]
  },
  {
   "cell_type": "code",
   "execution_count": 61,
   "metadata": {
    "collapsed": true
   },
   "outputs": [],
   "source": [
    "kaggle_predicted_complete.to_csv('kaggle_predicted.csv', index=False)"
   ]
  },
  {
   "cell_type": "markdown",
   "metadata": {},
   "source": [
    "# Kaggle Submission 2"
   ]
  },
  {
   "cell_type": "code",
   "execution_count": 87,
   "metadata": {},
   "outputs": [
    {
     "name": "stderr",
     "output_type": "stream",
     "text": [
      "C:\\ProgramData\\Anaconda3\\lib\\site-packages\\sklearn\\utils\\validation.py:547: DataConversionWarning: A column-vector y was passed when a 1d array was expected. Please change the shape of y to (n_samples, ), for example using ravel().\n",
      "  y = column_or_1d(y, warn=True)\n"
     ]
    },
    {
     "data": {
      "text/plain": [
       "SVR(C=1.0, cache_size=200, coef0=-2500, degree=3, epsilon=0.1, gamma='auto',\n",
       "  kernel='poly', max_iter=-1, shrinking=True, tol=0.001, verbose=False)"
      ]
     },
     "execution_count": 87,
     "metadata": {},
     "output_type": "execute_result"
    }
   ],
   "source": [
    "kaggle_svr = svm.SVR(kernel=\"poly\", coef0=-2500, gamma=\"auto\")\n",
    "kaggle_svr.fit(X_kaggle_train_pca, kaggle_train_y)"
   ]
  },
  {
   "cell_type": "code",
   "execution_count": 88,
   "metadata": {
    "collapsed": true
   },
   "outputs": [],
   "source": [
    "kaggle_svr_predicted = kaggle_svr.predict(X_kaggle_test_pca)"
   ]
  },
  {
   "cell_type": "code",
   "execution_count": 89,
   "metadata": {
    "collapsed": true
   },
   "outputs": [],
   "source": [
    "kaggle_svr_predicted_complete = pd.DataFrame({'Id': kaggle_test[\"Id\"], 'SalePrice': kaggle_svr_predicted})"
   ]
  },
  {
   "cell_type": "code",
   "execution_count": 94,
   "metadata": {
    "collapsed": true
   },
   "outputs": [],
   "source": [
    "kaggle_svr_predicted_complete.to_csv('kaggle_svr_predicted.csv', index=False)"
   ]
  },
  {
   "cell_type": "markdown",
   "metadata": {},
   "source": [
    "# Kaggle Submission 3"
   ]
  },
  {
   "cell_type": "code",
   "execution_count": 78,
   "metadata": {},
   "outputs": [
    {
     "name": "stderr",
     "output_type": "stream",
     "text": [
      "C:\\ProgramData\\Anaconda3\\lib\\site-packages\\sklearn\\neural_network\\multilayer_perceptron.py:1306: DataConversionWarning: A column-vector y was passed when a 1d array was expected. Please change the shape of y to (n_samples, ), for example using ravel().\n",
      "  y = column_or_1d(y, warn=True)\n",
      "C:\\ProgramData\\Anaconda3\\lib\\site-packages\\sklearn\\neural_network\\_base.py:194: RuntimeWarning: overflow encountered in square\n",
      "  return ((y_true - y_pred) ** 2).mean() / 2\n",
      "C:\\ProgramData\\Anaconda3\\lib\\site-packages\\sklearn\\neural_network\\multilayer_perceptron.py:564: ConvergenceWarning: Stochastic Optimizer: Maximum iterations (1000) reached and the optimization hasn't converged yet.\n",
      "  % self.max_iter, ConvergenceWarning)\n"
     ]
    },
    {
     "data": {
      "text/plain": [
       "MLPRegressor(activation='relu', alpha=0.01, batch_size='auto', beta_1=0.9,\n",
       "       beta_2=0.999, early_stopping=False, epsilon=1e-08,\n",
       "       hidden_layer_sizes=(48, 48, 48), learning_rate='adaptive',\n",
       "       learning_rate_init=0.01, max_iter=1000, momentum=0.9,\n",
       "       nesterovs_momentum=True, power_t=0.5, random_state=None,\n",
       "       shuffle=True, solver='sgd', tol=0.0001, validation_fraction=0.1,\n",
       "       verbose=False, warm_start=True)"
      ]
     },
     "execution_count": 78,
     "metadata": {},
     "output_type": "execute_result"
    }
   ],
   "source": [
    "kaggle_nn = MLPRegressor(\n",
    "                    hidden_layer_sizes=(48,48,48,),\n",
    "                    activation='relu',\n",
    "                    solver='sgd',\n",
    "                    learning_rate='adaptive',\n",
    "                    warm_start=True,\n",
    "                    max_iter=1000,\n",
    "                    learning_rate_init=0.01,\n",
    "                    alpha=0.01)\n",
    "\n",
    "kaggle_nn.fit(X_kaggle_train_pca, kaggle_train_y)"
   ]
  },
  {
   "cell_type": "code",
   "execution_count": 79,
   "metadata": {
    "collapsed": true
   },
   "outputs": [],
   "source": [
    "kaggle_nn_predicted = nn.predict(X_kaggle_test_pca)"
   ]
  },
  {
   "cell_type": "code",
   "execution_count": 80,
   "metadata": {
    "collapsed": true
   },
   "outputs": [],
   "source": [
    "kaggle_nn_predicted_complete = pd.DataFrame({'Id': kaggle_test[\"Id\"], 'SalePrice': kaggle_nn_predicted})"
   ]
  },
  {
   "cell_type": "code",
   "execution_count": 81,
   "metadata": {
    "collapsed": true
   },
   "outputs": [],
   "source": [
    "kaggle_nn_predicted_complete.to_csv('kaggle_nn_predicted.csv', index=False)"
   ]
  },
  {
   "cell_type": "markdown",
   "metadata": {},
   "source": [
    "# Comparing Submissions"
   ]
  },
  {
   "cell_type": "code",
   "execution_count": 90,
   "metadata": {},
   "outputs": [],
   "source": [
    "submissions_df = pd.DataFrame({'SalePriceXGB': kaggle_predicted, 'SalePriceNN': kaggle_nn_predicted, 'SalePriceSVR': kaggle_svr_predicted})"
   ]
  },
  {
   "cell_type": "code",
   "execution_count": 93,
   "metadata": {},
   "outputs": [
    {
     "data": {
      "image/png": "[encoded data removed]",
      "text/plain": [
       "<matplotlib.figure.Figure at 0x1fcbba4ae10>"
      ]
     },
     "metadata": {},
     "output_type": "display_data"
    }
   ],
   "source": [
    "plt.plot(submissions_df.index, submissions_df[\"SalePriceXGB\"], color='b')\n",
    "plt.plot(submissions_df.index, submissions_df[\"SalePriceNN\"], color='r')\n",
    "plt.plot(submissions_df.index, submissions_df[\"SalePriceSVR\"], color='green')\n",
    "plt.xlabel(\"index\")\n",
    "plt.ylabel(\"SalePrice\")\n",
    "plt.show()"
   ]
  },
  {
   "cell_type": "markdown",
   "metadata": {},
   "source": [
    "# Tuning Hyperparameters"
   ]
  },
  {
   "cell_type": "markdown",
   "metadata": {},
   "source": [
    "## Tunes AdaBoost/XGBoost n_estimators and SVR's C parameters."
   ]
  },
  {
   "cell_type": "code",
   "execution_count": null,
   "metadata": {
    "collapsed": true
   },
   "outputs": [],
   "source": [
    "#This takes time (~2mins)\n",
    "def tune_hyperparameters(X, Y, f):\n",
    "    adaboost_param_tuning = pd.DataFrame(columns=['parameter', 'rmse'])\n",
    "    xgb_param_tuning = pd.DataFrame(columns=['parameter', 'rmse'])    \n",
    "    svr_param_tuning = pd.DataFrame(columns=['parameter', 'rmse'])    \n",
    "\n",
    "    #Tuning n estimators parameter for boosting algorithms\n",
    "    for i in range(25,200,25):\n",
    "        print(\"Boosting: \" + str(i))\n",
    "        print()\n",
    "        adaBoost = AdaBoostRegressor(n_estimators=i)\n",
    "        print(adaBoost)\n",
    "        k_fold_z, k_fold_mse, k_fold_rmse, bootstrapping_z, bootstrapping_mse, bootstrapping_rmse = evaluate_model(adaBoost, f, X, Y.values.ravel(), k=5, B=5)\n",
    "        adaboost_param_tuning = adaboost_param_tuning.append({'parameter': i, 'rmse': k_fold_rmse}, ignore_index=True)\n",
    "        print()\n",
    "        \n",
    "        xgb = XGBRegressor(max_depth=3, learning_rate=0.2, booster='gbtree', n_estimators=i)\n",
    "        print(xgb)\n",
    "        k_fold_z, k_fold_mse, k_fold_rmse, bootstrapping_z, bootstrapping_mse, bootstrapping_rmse = evaluate_model(xgb, f, X, Y.values.ravel(), k=5, B=5)\n",
    "        xgb_param_tuning = xgb_param_tuning.append({'parameter': i, 'rmse': k_fold_rmse}, ignore_index=True)\n",
    "        print()\n",
    "        \n",
    "    #for i in range(25,200,25):\n",
    "    c_vals = [0.01, 0.1, 10, 100]\n",
    "    for i in c_vals:\n",
    "        print(\"C: \" + str(i))\n",
    "        print()\n",
    "        svr_model = svm.SVR(kernel=\"poly\", coef0=-2500, gamma=\"auto\", C=i)\n",
    "        print(svr_model)\n",
    "        k_fold_z, k_fold_mse, k_fold_rmse, bootstrapping_z, bootstrapping_mse, bootstrapping_rmse = evaluate_model(svr_model, f, X, Y.values.ravel(), k=5, B=5)\n",
    "        svr_param_tuning = svr_param_tuning.append({'parameter': i, 'rmse': k_fold_rmse}, ignore_index=True)\n",
    "        print()\n",
    "\n",
    "    return xgb_param_tuning, adaboost_param_tuning, svr_param_tuning"
   ]
  },
  {
   "cell_type": "code",
   "execution_count": null,
   "metadata": {
    "collapsed": true
   },
   "outputs": [],
   "source": [
    "print()\n",
    "print(\"========== Hyper-Parameter Tuning ==========\")\n",
    "print()\n",
    "\n",
    "xgb_params, adaboost_params, svm_params = tune_hyperparameters(kaggle_train_X_processed.values, kaggle_train_y, f)\n",
    "\n",
    "print()\n",
    "print(\"*** Hyper-parameter Tuning Complete! ***\")\n",
    "print()"
   ]
  },
  {
   "cell_type": "markdown",
   "metadata": {},
   "source": [
    "### Plots how the changing of hyperparameters changes our models' root mean squared log errors."
   ]
  },
  {
   "cell_type": "code",
   "execution_count": 171,
   "metadata": {
    "collapsed": true
   },
   "outputs": [],
   "source": [
    "def plot_param_tuning(xgb_params, adaboost_params, svm_params):\n",
    "    plt.plot(adaboost_params['parameter'], adaboost_params['rmse'], marker='o', color='b')\n",
    "    plt.title(\"Adaboost RMSE vs n_estimators\")\n",
    "    plt.xlabel(\"n_estimators\")\n",
    "    plt.ylabel(\"RMSE\")\n",
    "    plt.show()\n",
    "    \n",
    "    plt.plot(xgb_params['parameter'], xgb_params['rmse'], marker='o', color='b')\n",
    "    plt.title(\"XgBoost RMSE vs n_estimators\")\n",
    "    plt.xlabel(\"n_estimators\")\n",
    "    plt.ylabel(\"RMSE\")\n",
    "    plt.show()\n",
    "    \n",
    "    plt.plot(svm_params['parameter'], svm_params['rmse'], marker='o', color='b')\n",
    "    plt.title(\"SVM RMSE vs C\")\n",
    "    plt.xlabel(\"C\")\n",
    "    plt.ylabel(\"RMSE\")\n",
    "    plt.show()"
   ]
  },
  {
   "cell_type": "code",
   "execution_count": 172,
   "metadata": {},
   "outputs": [
    {
     "name": "stdout",
     "output_type": "stream",
     "text": [
      "\n",
      "========== Parameter Tuning Plots ==========\n",
      "\n"
     ]
    },
    {
     "ename": "NameError",
     "evalue": "name 'xgb_params' is not defined",
     "output_type": "error",
     "traceback": [
      "\u001b[0;31m---------------------------------------------------------------------------\u001b[0m",
      "\u001b[0;31mNameError\u001b[0m                                 Traceback (most recent call last)",
      "\u001b[0;32m<ipython-input-172-0a772626fee4>\u001b[0m in \u001b[0;36m<module>\u001b[0;34m\u001b[0m\n\u001b[1;32m      3\u001b[0m \u001b[0mprint\u001b[0m\u001b[0;34m(\u001b[0m\u001b[0;34m)\u001b[0m\u001b[0;34m\u001b[0m\u001b[0;34m\u001b[0m\u001b[0m\n\u001b[1;32m      4\u001b[0m \u001b[0;34m\u001b[0m\u001b[0m\n\u001b[0;32m----> 5\u001b[0;31m \u001b[0mplot_param_tuning\u001b[0m\u001b[0;34m(\u001b[0m\u001b[0mxgb_params\u001b[0m\u001b[0;34m,\u001b[0m \u001b[0madaboost_params\u001b[0m\u001b[0;34m,\u001b[0m \u001b[0msvm_params\u001b[0m\u001b[0;34m)\u001b[0m\u001b[0;34m\u001b[0m\u001b[0;34m\u001b[0m\u001b[0m\n\u001b[0m",
      "\u001b[0;31mNameError\u001b[0m: name 'xgb_params' is not defined"
     ]
    }
   ],
   "source": [
    "print()\n",
    "print(\"========== Parameter Tuning Plots ==========\")\n",
    "print()\n",
    "\n",
    "plot_param_tuning(xgb_params, adaboost_params, svm_params)"
   ]
  },
  {
   "cell_type": "markdown",
   "metadata": {},
   "source": [
    "## Tunes how many features to use from PCA."
   ]
  },
  {
   "cell_type": "code",
   "execution_count": 173,
   "metadata": {
    "collapsed": true
   },
   "outputs": [],
   "source": [
    "# This takes time to run (~5mins)\n",
    "def pca_tuning(F, X, Y):\n",
    "    \n",
    "    pca_ada_frame = pd.DataFrame(columns=['pca', 'rmse'])\n",
    "    pca_xg_frame = pd.DataFrame(columns=['pca', 'rmse'])\n",
    "    pca_svr_frame = pd.DataFrame(columns=['pca', 'rmse'])\n",
    "    pca_nn_frame = []\n",
    "    for f in F:\n",
    "        print(\"\\nPCA %d\" % f)\n",
    "\n",
    "        # AdaBoost\n",
    "        print(\"\\n\")\n",
    "        from sklearn.ensemble import AdaBoostRegressor\n",
    "        adaBoost = AdaBoostRegressor()\n",
    "        k_z, k_mse, k_rmse, b_z, b_mse, b_rmse = evaluate_model(adaBoost, f, X.values, Y.values.ravel(), k=5, B=5)\n",
    "        pca_ada_frame = pca_ada_frame.append({'pca': f, 'rmse': k_rmse}, ignore_index=True)\n",
    "\n",
    "\n",
    "        # XGBoost Regressor\n",
    "        print(\"\\nXGBoost\")\n",
    "        from xgboost import XGBRegressor\n",
    "\n",
    "        xgb = XGBRegressor(max_depth=3, learning_rate=0.2, booster='gbtree', n_estimators=70)\n",
    "\n",
    "        k_z, k_mse, k_rmse, b_z, b_mse, b_rmse = evaluate_model(xgb, f, X.values, Y.values.ravel(), k=5, B=5)\n",
    "        pca_xg_frame = pca_xg_frame.append({'pca': f, 'rmse': k_rmse}, ignore_index=True)\n",
    "\n",
    "        \n",
    "        # SVM (SVR)\n",
    "        print(\"\\nSVR\")\n",
    "        from sklearn import svm\n",
    "\n",
    "        svr_model = svm.SVR(kernel=\"poly\", coef0=-3500, gamma='auto')\n",
    "        # coef0 only works with poly and sigmoid kernels\n",
    "        # it just puts that value instead of the column of 1's\n",
    "\n",
    "        # without it, this model breaks for some reason\n",
    "\n",
    "        k_z, k_mse, k_rmse, b_z, b_mse, b_rmse = evaluate_model(svr_model, f, X.values, Y.values.ravel(), k=5, B=5)\n",
    "        pca_svr_frame = pca_svr_frame.append({'pca': f, 'rmse': k_rmse}, ignore_index=True)\n",
    "        \n",
    "        pca_nn_frame.append(PCANN(X.values,Y.values.ravel(),5,f))\n",
    "\n",
    "        \n",
    "    return (pca_ada_frame, pca_xg_frame, pca_svr_frame,pca_nn_frame)"
   ]
  },
  {
   "cell_type": "markdown",
   "metadata": {},
   "source": [
    "### Plots how different amounts of PCA features affects our models' performances."
   ]
  },
  {
   "cell_type": "code",
   "execution_count": 177,
   "metadata": {
    "collapsed": true
   },
   "outputs": [],
   "source": [
    "def plot_pca_tuning(ada_data, xg_data, svr_data, pca_nn_data):\n",
    "    plt.title(\"RMSE vs PCA Values across models\")\n",
    "    plt.xlabel(\"PCA Values\")\n",
    "    plt.ylabel(\"RMSE\")\n",
    "    plt.grid()\n",
    "    plt.plot(ada_data['pca'], ada_data['rmse'], marker='o', color='r', label=\"Adaboost\")\n",
    "    plt.plot(xg_data['pca'], xg_data['rmse'], marker='o', color='g', label=\"XgBoost\")\n",
    "    plt.plot(svr_data['pca'], svr_data['rmse'], marker='o', color='b', label=\"SVR\")\n",
    "    plt.plot(svr_data['pca'], pca_nn_data, marker='o', color='black', label=\"Neural Net\")\n",
    "    plt.legend(loc='best')\n",
    "    plt.show()"
   ]
  },
  {
   "cell_type": "code",
   "execution_count": 175,
   "metadata": {},
   "outputs": [
    {
     "name": "stdout",
     "output_type": "stream",
     "text": [
      "\n",
      "========== PCA Tuning ==========\n",
      "\n",
      "\n",
      "PCA 30\n",
      "\n",
      "\n",
      "Evaluating K-fold with 5 folds.\n",
      "K-fold mse:  1766293724.6159267\n",
      "K-fold Square Root mse:  42027.29737463411\n",
      "Time elapsed for k-fold:  1.530888051999682\n",
      "\n",
      "\n",
      "Evaluating bootstrapping with 5 bootstraps.\n",
      "Bootstrapping Mean Squared Error:  1814674923.70713\n",
      "Bootstrapping Square Root Mean Squared Error:  42599.00144025831\n",
      "Time elapsed for bootstrapping:  1.710538457000439\n",
      "\n",
      "XGBoost\n",
      "Evaluating K-fold with 5 folds.\n",
      "K-fold mse:  1106301495.2430403\n",
      "K-fold Square Root mse:  33261.110854014485\n",
      "Time elapsed for k-fold:  1.2046190680002837\n",
      "\n",
      "\n",
      "Evaluating bootstrapping with 5 bootstraps.\n",
      "Bootstrapping Mean Squared Error:  1334950905.2494125\n",
      "Bootstrapping Square Root Mean Squared Error:  36536.97996892207\n",
      "Time elapsed for bootstrapping:  1.4045977790001416\n",
      "\n",
      "SVR\n",
      "Evaluating K-fold with 5 folds.\n",
      "K-fold mse:  1377700382.3395252\n",
      "K-fold Square Root mse:  37117.386523562316\n",
      "Time elapsed for k-fold:  0.6488363009993918\n",
      "\n",
      "\n",
      "Evaluating bootstrapping with 5 bootstraps.\n",
      "Bootstrapping Mean Squared Error:  1669182385.1098197\n",
      "Bootstrapping Square Root Mean Squared Error:  40855.62856094396\n",
      "Time elapsed for bootstrapping:  0.8264849850002065\n",
      "(Train, test): [197885.46749188507, 196369.70416842512]\n"
     ]
    },
    {
     "name": "stderr",
     "output_type": "stream",
     "text": [
      "/usr/local/lib/python3.7/site-packages/sklearn/neural_network/multilayer_perceptron.py:562: ConvergenceWarning: Stochastic Optimizer: Maximum iterations (1) reached and the optimization hasn't converged yet.\n",
      "  % self.max_iter, ConvergenceWarning)\n"
     ]
    },
    {
     "name": "stdout",
     "output_type": "stream",
     "text": [
      "(Train, test): [61409.74299314294, 54985.157828009775]\n",
      "(Train, test): [35240.12940520532, 28100.485167882256]\n",
      "(Train, test): [32793.342970986436, 24636.272504491266]\n",
      "(Train, test): [31123.157516001935, 24462.475623703165]\n",
      "Loaded nn with weights of lowest model.\n",
      "RMSE: (Train, test): [30917.512727915186, 24007.675744978063]\n",
      "[30917.512727915186, 24007.675744978063]\n",
      "(Train, test): [196941.40179044017, 200125.6692219423]\n"
     ]
    },
    {
     "name": "stderr",
     "output_type": "stream",
     "text": [
      "/usr/local/lib/python3.7/site-packages/sklearn/neural_network/multilayer_perceptron.py:562: ConvergenceWarning: Stochastic Optimizer: Maximum iterations (1) reached and the optimization hasn't converged yet.\n",
      "  % self.max_iter, ConvergenceWarning)\n"
     ]
    },
    {
     "name": "stdout",
     "output_type": "stream",
     "text": [
      "(Train, test): [45532.52228693082, 50373.4630578383]\n",
      "(Train, test): [30332.233510328755, 34236.84931549696]\n",
      "(Train, test): [28316.121857920236, 34951.236390708014]\n",
      "(Train, test): [27975.151409210728, 37008.553896351914]\n",
      "Loaded nn with weights of lowest model.\n",
      "RMSE: (Train, test): [29970.369570550476, 33611.38654246055]\n",
      "[29970.369570550476, 33611.38654246055]\n",
      "(Train, test): [195926.6132780026, 204073.49197621123]\n"
     ]
    },
    {
     "name": "stderr",
     "output_type": "stream",
     "text": [
      "/usr/local/lib/python3.7/site-packages/sklearn/neural_network/multilayer_perceptron.py:562: ConvergenceWarning: Stochastic Optimizer: Maximum iterations (1) reached and the optimization hasn't converged yet.\n",
      "  % self.max_iter, ConvergenceWarning)\n"
     ]
    },
    {
     "name": "stdout",
     "output_type": "stream",
     "text": [
      "(Train, test): [52133.25117175967, 59890.385177632736]\n",
      "(Train, test): [32159.531984777634, 31967.762288256923]\n",
      "(Train, test): [30651.67339378432, 30305.656605417702]\n",
      "(Train, test): [29514.206330441277, 30379.689659557112]\n",
      "Loaded nn with weights of lowest model.\n",
      "RMSE: (Train, test): [29505.652620978803, 28861.691379926535]\n",
      "[29505.652620978803, 28861.691379926535]\n",
      "(Train, test): [200109.4329381972, 187134.0497659782]\n"
     ]
    },
    {
     "name": "stderr",
     "output_type": "stream",
     "text": [
      "/usr/local/lib/python3.7/site-packages/sklearn/neural_network/multilayer_perceptron.py:562: ConvergenceWarning: Stochastic Optimizer: Maximum iterations (1) reached and the optimization hasn't converged yet.\n",
      "  % self.max_iter, ConvergenceWarning)\n"
     ]
    },
    {
     "name": "stdout",
     "output_type": "stream",
     "text": [
      "(Train, test): [53774.90678179869, 44785.929057622336]\n",
      "(Train, test): [34004.29358620942, 25802.386050739533]\n",
      "(Train, test): [32295.976367969637, 24576.630099167785]\n",
      "(Train, test): [30713.00837827089, 23363.18681816127]\n",
      "Loaded nn with weights of lowest model.\n",
      "RMSE: (Train, test): [30425.882779092393, 23172.386343951384]\n",
      "[30425.882779092393, 23172.386343951384]\n",
      "(Train, test): [197026.13007557878, 199795.9351351618]\n"
     ]
    },
    {
     "name": "stderr",
     "output_type": "stream",
     "text": [
      "/usr/local/lib/python3.7/site-packages/sklearn/neural_network/multilayer_perceptron.py:562: ConvergenceWarning: Stochastic Optimizer: Maximum iterations (1) reached and the optimization hasn't converged yet.\n",
      "  % self.max_iter, ConvergenceWarning)\n"
     ]
    },
    {
     "name": "stdout",
     "output_type": "stream",
     "text": [
      "(Train, test): [53128.86569268666, 60771.35536044403]\n",
      "(Train, test): [28130.223590135298, 49796.420503485795]\n",
      "(Train, test): [26443.800699922274, 47666.81170151047]\n",
      "(Train, test): [25589.486045195197, 43755.60779560423]\n",
      "Loaded nn with weights of lowest model.\n",
      "RMSE: (Train, test): [25101.83633180572, 42228.88662692734]\n",
      "[25101.83633180572, 42228.88662692734]\n",
      "\n",
      "PCA 35\n",
      "\n",
      "\n",
      "Evaluating K-fold with 5 folds.\n",
      "K-fold mse:  1886219019.5395012\n",
      "K-fold Square Root mse:  43430.62306183854\n",
      "Time elapsed for k-fold:  1.7032988590008245\n",
      "\n",
      "\n",
      "Evaluating bootstrapping with 5 bootstraps.\n",
      "Bootstrapping Mean Squared Error:  2091818070.4020686\n",
      "Bootstrapping Square Root Mean Squared Error:  45736.39765440724\n",
      "Time elapsed for bootstrapping:  2.023502987000029\n",
      "\n",
      "XGBoost\n",
      "Evaluating K-fold with 5 folds.\n",
      "K-fold mse:  1151476426.49412\n",
      "K-fold Square Root mse:  33933.411654210664\n",
      "Time elapsed for k-fold:  1.6611163810002836\n",
      "\n",
      "\n",
      "Evaluating bootstrapping with 5 bootstraps.\n",
      "Bootstrapping Mean Squared Error:  1150839336.4153056\n",
      "Bootstrapping Square Root Mean Squared Error:  33924.02299868495\n",
      "Time elapsed for bootstrapping:  1.8849746680007229\n",
      "\n",
      "SVR\n",
      "Evaluating K-fold with 5 folds.\n",
      "K-fold mse:  1431234763.0141664\n",
      "K-fold Square Root mse:  37831.66349784485\n",
      "Time elapsed for k-fold:  0.7946708769995894\n",
      "\n",
      "\n",
      "Evaluating bootstrapping with 5 bootstraps.\n",
      "Bootstrapping Mean Squared Error:  1984082846.0140789\n",
      "Bootstrapping Square Root Mean Squared Error:  44543.044866893404\n",
      "Time elapsed for bootstrapping:  1.077838084999712\n",
      "(Train, test): [197884.22737133995, 196368.45821446323]\n"
     ]
    },
    {
     "name": "stderr",
     "output_type": "stream",
     "text": [
      "/usr/local/lib/python3.7/site-packages/sklearn/neural_network/multilayer_perceptron.py:562: ConvergenceWarning: Stochastic Optimizer: Maximum iterations (1) reached and the optimization hasn't converged yet.\n",
      "  % self.max_iter, ConvergenceWarning)\n"
     ]
    },
    {
     "name": "stdout",
     "output_type": "stream",
     "text": [
      "(Train, test): [45197.19054660024, 39161.96991802132]\n",
      "(Train, test): [32730.204407219775, 25057.975552321164]\n",
      "(Train, test): [30568.71477018023, 24539.227929503304]\n",
      "(Train, test): [29241.618468240133, 25038.211167774065]\n",
      "Loaded nn with weights of lowest model.\n",
      "RMSE: (Train, test): [30610.946115601, 24254.436003745883]\n",
      "[30610.946115601, 24254.436003745883]\n",
      "(Train, test): [196941.98446425766, 200126.25526342524]\n"
     ]
    },
    {
     "name": "stderr",
     "output_type": "stream",
     "text": [
      "/usr/local/lib/python3.7/site-packages/sklearn/neural_network/multilayer_perceptron.py:562: ConvergenceWarning: Stochastic Optimizer: Maximum iterations (1) reached and the optimization hasn't converged yet.\n",
      "  % self.max_iter, ConvergenceWarning)\n"
     ]
    },
    {
     "name": "stdout",
     "output_type": "stream",
     "text": [
      "(Train, test): [41256.502064023756, 47046.33899658533]\n",
      "(Train, test): [31834.081533369743, 34859.616323508264]\n",
      "(Train, test): [29286.601158115223, 35006.90995290276]\n",
      "(Train, test): [27969.563962371394, 36756.02557647586]\n",
      "Loaded nn with weights of lowest model.\n",
      "RMSE: (Train, test): [31533.430138142245, 34062.76021857937]\n",
      "[31533.430138142245, 34062.76021857937]\n",
      "(Train, test): [195925.95681971847, 204072.84985106686]\n"
     ]
    },
    {
     "name": "stderr",
     "output_type": "stream",
     "text": [
      "/usr/local/lib/python3.7/site-packages/sklearn/neural_network/multilayer_perceptron.py:562: ConvergenceWarning: Stochastic Optimizer: Maximum iterations (1) reached and the optimization hasn't converged yet.\n",
      "  % self.max_iter, ConvergenceWarning)\n"
     ]
    },
    {
     "name": "stdout",
     "output_type": "stream",
     "text": [
      "(Train, test): [47854.61844977661, 54918.79715439438]\n",
      "(Train, test): [32880.16404170724, 33665.022945589175]\n",
      "(Train, test): [31374.310173800375, 32659.77484077527]\n",
      "(Train, test): [30013.642132393936, 31327.82462471268]\n",
      "Loaded nn with weights of lowest model.\n",
      "RMSE: (Train, test): [29067.65710300746, 29529.86566455064]\n",
      "[29067.65710300746, 29529.86566455064]\n",
      "(Train, test): [200110.18449037205, 187134.80889656677]\n"
     ]
    },
    {
     "name": "stderr",
     "output_type": "stream",
     "text": [
      "/usr/local/lib/python3.7/site-packages/sklearn/neural_network/multilayer_perceptron.py:562: ConvergenceWarning: Stochastic Optimizer: Maximum iterations (1) reached and the optimization hasn't converged yet.\n",
      "  % self.max_iter, ConvergenceWarning)\n"
     ]
    },
    {
     "name": "stdout",
     "output_type": "stream",
     "text": [
      "(Train, test): [52803.664067812635, 43726.766394856226]\n",
      "(Train, test): [33466.33136086976, 25587.183507905425]\n",
      "(Train, test): [31790.402174417984, 23521.013563401815]\n",
      "(Train, test): [30499.370745865526, 22381.31884933187]\n",
      "Loaded nn with weights of lowest model.\n",
      "RMSE: (Train, test): [30499.370745865526, 22381.31884933187]\n",
      "[30499.370745865526, 22381.31884933187]\n",
      "(Train, test): [197024.8325157813, 199794.61093923668]\n"
     ]
    },
    {
     "name": "stderr",
     "output_type": "stream",
     "text": [
      "/usr/local/lib/python3.7/site-packages/sklearn/neural_network/multilayer_perceptron.py:562: ConvergenceWarning: Stochastic Optimizer: Maximum iterations (1) reached and the optimization hasn't converged yet.\n",
      "  % self.max_iter, ConvergenceWarning)\n"
     ]
    },
    {
     "name": "stdout",
     "output_type": "stream",
     "text": [
      "(Train, test): [45300.74300278568, 54077.23547037207]\n",
      "(Train, test): [26323.655914188643, 48056.58066310526]\n",
      "(Train, test): [25202.628897106813, 45266.64963739357]\n",
      "(Train, test): [24451.85065559593, 44736.474942334775]\n",
      "Loaded nn with weights of lowest model.\n",
      "RMSE: (Train, test): [23909.61927451756, 43302.80475444612]\n",
      "[23909.61927451756, 43302.80475444612]\n",
      "\n",
      "PCA 40\n",
      "\n",
      "\n",
      "Evaluating K-fold with 5 folds.\n",
      "K-fold mse:  1942259358.0277061\n",
      "K-fold Square Root mse:  44071.07166870016\n",
      "Time elapsed for k-fold:  1.8575382619992524\n",
      "\n",
      "\n",
      "Evaluating bootstrapping with 5 bootstraps.\n",
      "Bootstrapping Mean Squared Error:  2008139222.5885825\n",
      "Bootstrapping Square Root Mean Squared Error:  44812.26642994731\n",
      "Time elapsed for bootstrapping:  2.085747602999618\n",
      "\n",
      "XGBoost\n",
      "Evaluating K-fold with 5 folds.\n",
      "K-fold mse:  1230195393.0068004\n",
      "K-fold Square Root mse:  35074.14137233869\n",
      "Time elapsed for k-fold:  1.6123494869998467\n",
      "\n",
      "\n",
      "Evaluating bootstrapping with 5 bootstraps.\n",
      "Bootstrapping Mean Squared Error:  1220863264.5733223\n",
      "Bootstrapping Square Root Mean Squared Error:  34940.85380429795\n",
      "Time elapsed for bootstrapping:  1.8366770009997708\n",
      "\n",
      "SVR\n",
      "Evaluating K-fold with 5 folds.\n",
      "K-fold mse:  1395138445.1894183\n",
      "K-fold Square Root mse:  37351.55211218696\n",
      "Time elapsed for k-fold:  0.7670529219994933\n",
      "\n",
      "\n",
      "Evaluating bootstrapping with 5 bootstraps.\n",
      "Bootstrapping Mean Squared Error:  1763871799.147324\n",
      "Bootstrapping Square Root Mean Squared Error:  41998.473771642275\n",
      "Time elapsed for bootstrapping:  1.0423981550002281\n",
      "(Train, test): [197884.39593929952, 196368.61824731383]\n"
     ]
    },
    {
     "name": "stderr",
     "output_type": "stream",
     "text": [
      "/usr/local/lib/python3.7/site-packages/sklearn/neural_network/multilayer_perceptron.py:562: ConvergenceWarning: Stochastic Optimizer: Maximum iterations (1) reached and the optimization hasn't converged yet.\n",
      "  % self.max_iter, ConvergenceWarning)\n"
     ]
    },
    {
     "name": "stdout",
     "output_type": "stream",
     "text": [
      "(Train, test): [55407.274228665374, 48447.744793358586]\n",
      "(Train, test): [33787.459785131956, 25987.29765688879]\n",
      "(Train, test): [31693.20616160873, 24907.262889597674]\n",
      "(Train, test): [30399.498735847585, 24606.70391517492]\n",
      "Loaded nn with weights of lowest model.\n",
      "RMSE: (Train, test): [30399.498735847585, 24606.70391517492]\n",
      "[30399.498735847585, 24606.70391517492]\n",
      "(Train, test): [196940.352566863, 200124.6176836943]\n"
     ]
    },
    {
     "name": "stderr",
     "output_type": "stream",
     "text": [
      "/usr/local/lib/python3.7/site-packages/sklearn/neural_network/multilayer_perceptron.py:562: ConvergenceWarning: Stochastic Optimizer: Maximum iterations (1) reached and the optimization hasn't converged yet.\n",
      "  % self.max_iter, ConvergenceWarning)\n"
     ]
    },
    {
     "name": "stdout",
     "output_type": "stream",
     "text": [
      "(Train, test): [50518.579419577196, 55452.831198749]\n",
      "(Train, test): [32422.566581856154, 35024.03506203918]\n",
      "(Train, test): [31239.015009041443, 35127.56255825014]\n",
      "(Train, test): [29427.052584261415, 35756.16243508529]\n",
      "Loaded nn with weights of lowest model.\n",
      "RMSE: (Train, test): [32144.146742742458, 34756.16305217933]\n",
      "[32144.146742742458, 34756.16305217933]\n",
      "(Train, test): [195924.71635827643, 204071.61990422301]\n"
     ]
    },
    {
     "name": "stderr",
     "output_type": "stream",
     "text": [
      "/usr/local/lib/python3.7/site-packages/sklearn/neural_network/multilayer_perceptron.py:562: ConvergenceWarning: Stochastic Optimizer: Maximum iterations (1) reached and the optimization hasn't converged yet.\n",
      "  % self.max_iter, ConvergenceWarning)\n"
     ]
    },
    {
     "name": "stdout",
     "output_type": "stream",
     "text": [
      "(Train, test): [41898.25273979818, 47913.07664173379]\n",
      "(Train, test): [31470.378866712967, 33048.93278732082]\n",
      "(Train, test): [29682.360595788494, 31046.336893149764]\n",
      "(Train, test): [29032.74612928174, 29446.455948620565]\n",
      "Loaded nn with weights of lowest model.\n",
      "RMSE: (Train, test): [28162.426752152332, 29072.569907336943]\n",
      "[28162.426752152332, 29072.569907336943]\n",
      "(Train, test): [200109.43699328715, 187134.05018148685]\n"
     ]
    },
    {
     "name": "stderr",
     "output_type": "stream",
     "text": [
      "/usr/local/lib/python3.7/site-packages/sklearn/neural_network/multilayer_perceptron.py:562: ConvergenceWarning: Stochastic Optimizer: Maximum iterations (1) reached and the optimization hasn't converged yet.\n",
      "  % self.max_iter, ConvergenceWarning)\n"
     ]
    },
    {
     "name": "stdout",
     "output_type": "stream",
     "text": [
      "(Train, test): [56694.64909101541, 48317.3434802729]\n",
      "(Train, test): [32978.720731636, 25811.185361709842]\n",
      "(Train, test): [31447.383450789945, 24159.670828789447]\n",
      "(Train, test): [30161.495790602334, 24048.063442988903]\n",
      "Loaded nn with weights of lowest model.\n",
      "RMSE: (Train, test): [31187.64469768496, 23378.73013671539]\n",
      "[31187.64469768496, 23378.73013671539]\n",
      "(Train, test): [197025.20386824783, 199795.01171323084]\n"
     ]
    },
    {
     "name": "stderr",
     "output_type": "stream",
     "text": [
      "/usr/local/lib/python3.7/site-packages/sklearn/neural_network/multilayer_perceptron.py:562: ConvergenceWarning: Stochastic Optimizer: Maximum iterations (1) reached and the optimization hasn't converged yet.\n",
      "  % self.max_iter, ConvergenceWarning)\n"
     ]
    },
    {
     "name": "stdout",
     "output_type": "stream",
     "text": [
      "(Train, test): [47976.08791298912, 56422.028022381215]\n",
      "(Train, test): [28039.54122967349, 49495.92831092052]\n",
      "(Train, test): [25791.66286759169, 48582.82934259314]\n",
      "(Train, test): [24865.96915570772, 44774.16833073777]\n",
      "Loaded nn with weights of lowest model.\n",
      "RMSE: (Train, test): [24459.676017762875, 44645.57042572473]\n",
      "[24459.676017762875, 44645.57042572473]\n",
      "\n",
      "PCA 45\n",
      "\n",
      "\n",
      "Evaluating K-fold with 5 folds.\n",
      "K-fold mse:  1887904900.4934337\n",
      "K-fold Square Root mse:  43450.02762362106\n",
      "Time elapsed for k-fold:  1.9964812469997923\n",
      "\n",
      "\n",
      "Evaluating bootstrapping with 5 bootstraps.\n",
      "Bootstrapping Mean Squared Error:  2092205827.2183602\n",
      "Bootstrapping Square Root Mean Squared Error:  45740.63649773973\n",
      "Time elapsed for bootstrapping:  2.2577265520003493\n",
      "\n",
      "XGBoost\n",
      "Evaluating K-fold with 5 folds.\n",
      "K-fold mse:  1221103682.6654124\n",
      "K-fold Square Root mse:  34944.293992945575\n",
      "Time elapsed for k-fold:  1.6805038960001184\n",
      "\n",
      "\n",
      "Evaluating bootstrapping with 5 bootstraps.\n",
      "Bootstrapping Mean Squared Error:  1238389516.6609597\n",
      "Bootstrapping Square Root Mean Squared Error:  35190.75896682195\n",
      "Time elapsed for bootstrapping:  1.9817459589994542\n",
      "\n",
      "SVR\n",
      "Evaluating K-fold with 5 folds.\n",
      "K-fold mse:  1405115563.849933\n",
      "K-fold Square Root mse:  37484.87113289751\n",
      "Time elapsed for k-fold:  0.7565602470003796\n",
      "\n",
      "\n",
      "Evaluating bootstrapping with 5 bootstraps.\n",
      "Bootstrapping Mean Squared Error:  2157407477.8978724\n",
      "Bootstrapping Square Root Mean Squared Error:  46447.90068343103\n",
      "Time elapsed for bootstrapping:  1.0432735109998248\n",
      "(Train, test): [197884.58550608568, 196368.8106038443]\n"
     ]
    },
    {
     "name": "stderr",
     "output_type": "stream",
     "text": [
      "/usr/local/lib/python3.7/site-packages/sklearn/neural_network/multilayer_perceptron.py:562: ConvergenceWarning: Stochastic Optimizer: Maximum iterations (1) reached and the optimization hasn't converged yet.\n",
      "  % self.max_iter, ConvergenceWarning)\n"
     ]
    },
    {
     "name": "stdout",
     "output_type": "stream",
     "text": [
      "(Train, test): [54489.50993972713, 47178.57394627988]\n",
      "(Train, test): [33796.62117224905, 26666.297659760217]\n",
      "(Train, test): [33046.82751335618, 24885.41619092552]\n",
      "(Train, test): [31276.374962183036, 24560.573070777347]\n",
      "Loaded nn with weights of lowest model.\n",
      "RMSE: (Train, test): [30918.415083318276, 24421.99178107116]\n",
      "[30918.415083318276, 24421.99178107116]\n",
      "(Train, test): [196940.94160044516, 200125.2023541795]\n"
     ]
    },
    {
     "name": "stderr",
     "output_type": "stream",
     "text": [
      "/usr/local/lib/python3.7/site-packages/sklearn/neural_network/multilayer_perceptron.py:562: ConvergenceWarning: Stochastic Optimizer: Maximum iterations (1) reached and the optimization hasn't converged yet.\n",
      "  % self.max_iter, ConvergenceWarning)\n"
     ]
    },
    {
     "name": "stdout",
     "output_type": "stream",
     "text": [
      "(Train, test): [46597.007008314635, 52433.72690299657]\n",
      "(Train, test): [31219.78655036972, 34884.82886864726]\n",
      "(Train, test): [29366.564861238396, 35751.87988061424]\n",
      "(Train, test): [27528.019798745816, 37464.6202824169]\n",
      "Loaded nn with weights of lowest model.\n",
      "RMSE: (Train, test): [31469.80385691373, 34729.79479483828]\n",
      "[31469.80385691373, 34729.79479483828]\n",
      "(Train, test): [195926.41425956856, 204073.2938049538]\n"
     ]
    },
    {
     "name": "stderr",
     "output_type": "stream",
     "text": [
      "/usr/local/lib/python3.7/site-packages/sklearn/neural_network/multilayer_perceptron.py:562: ConvergenceWarning: Stochastic Optimizer: Maximum iterations (1) reached and the optimization hasn't converged yet.\n",
      "  % self.max_iter, ConvergenceWarning)\n"
     ]
    },
    {
     "name": "stdout",
     "output_type": "stream",
     "text": [
      "(Train, test): [49926.503478674094, 57281.61456872913]\n",
      "(Train, test): [32048.590633621403, 33873.435604015336]\n",
      "(Train, test): [31530.002267641317, 32863.680174232904]\n",
      "(Train, test): [30783.778375638572, 30719.209292141048]\n",
      "Loaded nn with weights of lowest model.\n",
      "RMSE: (Train, test): [30783.778375638572, 30719.209292141048]\n",
      "[30783.778375638572, 30719.209292141048]\n",
      "(Train, test): [200109.9202523792, 187134.53817829836]\n"
     ]
    },
    {
     "name": "stderr",
     "output_type": "stream",
     "text": [
      "/usr/local/lib/python3.7/site-packages/sklearn/neural_network/multilayer_perceptron.py:562: ConvergenceWarning: Stochastic Optimizer: Maximum iterations (1) reached and the optimization hasn't converged yet.\n",
      "  % self.max_iter, ConvergenceWarning)\n"
     ]
    },
    {
     "name": "stdout",
     "output_type": "stream",
     "text": [
      "(Train, test): [51911.75839885935, 43871.90309364579]\n",
      "(Train, test): [33550.42493016584, 25238.76353110246]\n",
      "(Train, test): [32622.407442076503, 25219.61114495235]\n",
      "(Train, test): [31317.006082652253, 23175.26286881685]\n",
      "Loaded nn with weights of lowest model.\n",
      "RMSE: (Train, test): [31317.006082652253, 23175.26286881685]\n",
      "[31317.006082652253, 23175.26286881685]\n",
      "(Train, test): [197026.33925576872, 199796.13691088586]\n"
     ]
    },
    {
     "name": "stderr",
     "output_type": "stream",
     "text": [
      "/usr/local/lib/python3.7/site-packages/sklearn/neural_network/multilayer_perceptron.py:562: ConvergenceWarning: Stochastic Optimizer: Maximum iterations (1) reached and the optimization hasn't converged yet.\n",
      "  % self.max_iter, ConvergenceWarning)\n"
     ]
    },
    {
     "name": "stdout",
     "output_type": "stream",
     "text": [
      "(Train, test): [50913.996357802, 59155.54961001746]\n",
      "(Train, test): [28151.411897688267, 48685.69008955788]\n",
      "(Train, test): [26455.242640591845, 48756.06918300924]\n",
      "(Train, test): [25020.585856384372, 47983.80237059037]\n",
      "Loaded nn with weights of lowest model.\n",
      "RMSE: (Train, test): [24128.671742071456, 44268.82028040439]\n",
      "[24128.671742071456, 44268.82028040439]\n",
      "\n",
      "PCA 50\n",
      "\n",
      "\n",
      "Evaluating K-fold with 5 folds.\n",
      "K-fold mse:  1919086342.7215257\n",
      "K-fold Square Root mse:  43807.377720214274\n",
      "Time elapsed for k-fold:  2.1660306650001075\n",
      "\n",
      "\n",
      "Evaluating bootstrapping with 5 bootstraps.\n",
      "Bootstrapping Mean Squared Error:  1997875124.513298\n",
      "Bootstrapping Square Root Mean Squared Error:  44697.59640644336\n",
      "Time elapsed for bootstrapping:  2.3611909410001317\n",
      "\n",
      "XGBoost\n",
      "Evaluating K-fold with 5 folds.\n",
      "K-fold mse:  1214630433.6218991\n",
      "K-fold Square Root mse:  34851.54851110491\n",
      "Time elapsed for k-fold:  1.8092677470003764\n",
      "\n",
      "\n",
      "Evaluating bootstrapping with 5 bootstraps.\n",
      "Bootstrapping Mean Squared Error:  1220732768.3169663\n",
      "Bootstrapping Square Root Mean Squared Error:  34938.98636647844\n",
      "Time elapsed for bootstrapping:  2.145613198999854\n",
      "\n",
      "SVR\n",
      "Evaluating K-fold with 5 folds.\n",
      "K-fold mse:  1400302532.8450215\n",
      "K-fold Square Root mse:  37420.61641455177\n",
      "Time elapsed for k-fold:  0.7745875250002427\n",
      "\n",
      "\n",
      "Evaluating bootstrapping with 5 bootstraps.\n",
      "Bootstrapping Mean Squared Error:  2150161891.9859266\n",
      "Bootstrapping Square Root Mean Squared Error:  46369.83817079726\n",
      "Time elapsed for bootstrapping:  1.0873501240002952\n",
      "(Train, test): [197884.5243585385, 196368.75383488316]\n"
     ]
    },
    {
     "name": "stderr",
     "output_type": "stream",
     "text": [
      "/usr/local/lib/python3.7/site-packages/sklearn/neural_network/multilayer_perceptron.py:562: ConvergenceWarning: Stochastic Optimizer: Maximum iterations (1) reached and the optimization hasn't converged yet.\n",
      "  % self.max_iter, ConvergenceWarning)\n"
     ]
    },
    {
     "name": "stdout",
     "output_type": "stream",
     "text": [
      "(Train, test): [47920.008797516835, 41730.595112923795]\n",
      "(Train, test): [33227.46623421817, 25982.829037710093]\n",
      "(Train, test): [31594.986269010908, 24938.923211319947]\n",
      "(Train, test): [29698.362718604072, 24511.224926512492]\n",
      "Loaded nn with weights of lowest model.\n",
      "RMSE: (Train, test): [29698.362718604072, 24511.224926512492]\n",
      "[29698.362718604072, 24511.224926512492]\n",
      "(Train, test): [196942.3752022793, 200126.6440951009]\n"
     ]
    },
    {
     "name": "stderr",
     "output_type": "stream",
     "text": [
      "/usr/local/lib/python3.7/site-packages/sklearn/neural_network/multilayer_perceptron.py:562: ConvergenceWarning: Stochastic Optimizer: Maximum iterations (1) reached and the optimization hasn't converged yet.\n",
      "  % self.max_iter, ConvergenceWarning)\n"
     ]
    },
    {
     "name": "stdout",
     "output_type": "stream",
     "text": [
      "(Train, test): [50957.5792168983, 56032.224667809794]\n",
      "(Train, test): [31073.791401866092, 35103.36979650226]\n",
      "(Train, test): [29403.857266883366, 35951.793856001954]\n",
      "(Train, test): [27710.860639943992, 36521.56942699658]\n",
      "Loaded nn with weights of lowest model.\n",
      "RMSE: (Train, test): [30710.88601866964, 34625.296654532445]\n",
      "[30710.88601866964, 34625.296654532445]\n",
      "(Train, test): [195926.1787385101, 204073.06315442754]\n"
     ]
    },
    {
     "name": "stderr",
     "output_type": "stream",
     "text": [
      "/usr/local/lib/python3.7/site-packages/sklearn/neural_network/multilayer_perceptron.py:562: ConvergenceWarning: Stochastic Optimizer: Maximum iterations (1) reached and the optimization hasn't converged yet.\n",
      "  % self.max_iter, ConvergenceWarning)\n"
     ]
    },
    {
     "name": "stdout",
     "output_type": "stream",
     "text": [
      "(Train, test): [49696.569574374895, 57104.919733426614]\n",
      "(Train, test): [31716.320095832605, 33365.25194655771]\n",
      "(Train, test): [30267.54281585117, 32197.670142304072]\n",
      "(Train, test): [29036.86341282492, 30989.39851184112]\n",
      "Loaded nn with weights of lowest model.\n",
      "RMSE: (Train, test): [28670.636942491972, 29384.60013259618]\n",
      "[28670.636942491972, 29384.60013259618]\n",
      "(Train, test): [200109.78240567064, 187134.4026863281]\n"
     ]
    },
    {
     "name": "stderr",
     "output_type": "stream",
     "text": [
      "/usr/local/lib/python3.7/site-packages/sklearn/neural_network/multilayer_perceptron.py:562: ConvergenceWarning: Stochastic Optimizer: Maximum iterations (1) reached and the optimization hasn't converged yet.\n",
      "  % self.max_iter, ConvergenceWarning)\n"
     ]
    },
    {
     "name": "stdout",
     "output_type": "stream",
     "text": [
      "(Train, test): [47931.87756475015, 39919.91414557807]\n",
      "(Train, test): [33271.77283583418, 24519.235095199165]\n",
      "(Train, test): [31232.88962087149, 24293.096286011536]\n",
      "(Train, test): [29637.668689526505, 24161.127147941217]\n",
      "Loaded nn with weights of lowest model.\n",
      "RMSE: (Train, test): [30274.917463033053, 23421.9195228794]\n",
      "[30274.917463033053, 23421.9195228794]\n",
      "(Train, test): [197025.63390834074, 199795.42400297406]\n"
     ]
    },
    {
     "name": "stderr",
     "output_type": "stream",
     "text": [
      "/usr/local/lib/python3.7/site-packages/sklearn/neural_network/multilayer_perceptron.py:562: ConvergenceWarning: Stochastic Optimizer: Maximum iterations (1) reached and the optimization hasn't converged yet.\n",
      "  % self.max_iter, ConvergenceWarning)\n"
     ]
    },
    {
     "name": "stdout",
     "output_type": "stream",
     "text": [
      "(Train, test): [44758.758771880355, 53910.774721903035]\n",
      "(Train, test): [26495.709263997807, 49604.04435018384]\n",
      "(Train, test): [24665.244172786344, 49404.334553387824]\n",
      "(Train, test): [23105.864895803574, 45257.89174197134]\n",
      "Loaded nn with weights of lowest model.\n",
      "RMSE: (Train, test): [22187.716948603786, 44474.556589287065]\n",
      "[22187.716948603786, 44474.556589287065]\n",
      "\n",
      "PCA 55\n",
      "\n",
      "\n",
      "Evaluating K-fold with 5 folds.\n",
      "K-fold mse:  1893895080.555861\n",
      "K-fold Square Root mse:  43518.90486393082\n",
      "Time elapsed for k-fold:  2.3128217980001864\n",
      "\n",
      "\n",
      "Evaluating bootstrapping with 5 bootstraps.\n",
      "Bootstrapping Mean Squared Error:  2005822671.7697377\n",
      "Bootstrapping Square Root Mean Squared Error:  44786.41168669062\n",
      "Time elapsed for bootstrapping:  2.588816243999645\n",
      "\n",
      "XGBoost\n",
      "Evaluating K-fold with 5 folds.\n",
      "K-fold mse:  1161278404.6739438\n",
      "K-fold Square Root mse:  34077.535190708026\n",
      "Time elapsed for k-fold:  2.052976973999648\n",
      "\n",
      "\n",
      "Evaluating bootstrapping with 5 bootstraps.\n",
      "Bootstrapping Mean Squared Error:  1533000887.2957497\n",
      "Bootstrapping Square Root Mean Squared Error:  39153.55523187837\n",
      "Time elapsed for bootstrapping:  2.446876144000271\n",
      "\n",
      "SVR\n",
      "Evaluating K-fold with 5 folds.\n",
      "K-fold mse:  1433214766.0712216\n",
      "K-fold Square Root mse:  37857.82304981656\n",
      "Time elapsed for k-fold:  0.9459594529998867\n",
      "\n",
      "\n",
      "Evaluating bootstrapping with 5 bootstraps.\n",
      "Bootstrapping Mean Squared Error:  1744340254.521998\n",
      "Bootstrapping Square Root Mean Squared Error:  41765.29964602191\n",
      "Time elapsed for bootstrapping:  1.1928325970002334\n",
      "(Train, test): [197885.06570638204, 196369.29436025696]\n"
     ]
    },
    {
     "name": "stderr",
     "output_type": "stream",
     "text": [
      "/usr/local/lib/python3.7/site-packages/sklearn/neural_network/multilayer_perceptron.py:562: ConvergenceWarning: Stochastic Optimizer: Maximum iterations (1) reached and the optimization hasn't converged yet.\n",
      "  % self.max_iter, ConvergenceWarning)\n"
     ]
    },
    {
     "name": "stdout",
     "output_type": "stream",
     "text": [
      "(Train, test): [47180.83013655298, 40467.818084790815]\n",
      "(Train, test): [31694.244452668547, 25656.13061955332]\n",
      "(Train, test): [29030.85878924734, 24480.971046072562]\n",
      "(Train, test): [27209.0655353032, 25297.575160450102]\n",
      "Loaded nn with weights of lowest model.\n",
      "RMSE: (Train, test): [28815.72759479423, 24293.04932046253]\n",
      "[28815.72759479423, 24293.04932046253]\n",
      "(Train, test): [196941.18854421919, 200125.45678542732]\n"
     ]
    },
    {
     "name": "stderr",
     "output_type": "stream",
     "text": [
      "/usr/local/lib/python3.7/site-packages/sklearn/neural_network/multilayer_perceptron.py:562: ConvergenceWarning: Stochastic Optimizer: Maximum iterations (1) reached and the optimization hasn't converged yet.\n",
      "  % self.max_iter, ConvergenceWarning)\n"
     ]
    },
    {
     "name": "stdout",
     "output_type": "stream",
     "text": [
      "(Train, test): [50713.536904437045, 56316.524494907215]\n",
      "(Train, test): [30915.703122868013, 35003.29114624888]\n",
      "(Train, test): [28645.185206935686, 35442.87865704052]\n",
      "(Train, test): [26605.08383175688, 36290.390659696175]\n",
      "Loaded nn with weights of lowest model.\n",
      "RMSE: (Train, test): [29218.040382261213, 34962.215686249445]\n",
      "[29218.040382261213, 34962.215686249445]\n",
      "(Train, test): [195925.00072797213, 204071.90342891376]\n"
     ]
    },
    {
     "name": "stderr",
     "output_type": "stream",
     "text": [
      "/usr/local/lib/python3.7/site-packages/sklearn/neural_network/multilayer_perceptron.py:562: ConvergenceWarning: Stochastic Optimizer: Maximum iterations (1) reached and the optimization hasn't converged yet.\n",
      "  % self.max_iter, ConvergenceWarning)\n"
     ]
    },
    {
     "name": "stdout",
     "output_type": "stream",
     "text": [
      "(Train, test): [41770.57081722266, 48486.35061677657]\n",
      "(Train, test): [30913.913208025402, 33633.29705477497]\n",
      "(Train, test): [29763.61756848664, 31125.828695225966]\n",
      "(Train, test): [28077.949637023292, 31466.230397690448]\n",
      "Loaded nn with weights of lowest model.\n",
      "RMSE: (Train, test): [27370.716147968018, 30286.633372266166]\n",
      "[27370.716147968018, 30286.633372266166]\n",
      "(Train, test): [200109.35498330812, 187133.96278563314]\n"
     ]
    },
    {
     "name": "stderr",
     "output_type": "stream",
     "text": [
      "/usr/local/lib/python3.7/site-packages/sklearn/neural_network/multilayer_perceptron.py:562: ConvergenceWarning: Stochastic Optimizer: Maximum iterations (1) reached and the optimization hasn't converged yet.\n",
      "  % self.max_iter, ConvergenceWarning)\n"
     ]
    },
    {
     "name": "stdout",
     "output_type": "stream",
     "text": [
      "(Train, test): [51202.02578032647, 43575.41466882629]\n",
      "(Train, test): [32045.145953043044, 25311.726685381018]\n",
      "(Train, test): [30183.925146806778, 23633.41615264356]\n",
      "(Train, test): [27885.794049725275, 24258.125789821755]\n",
      "Loaded nn with weights of lowest model.\n",
      "RMSE: (Train, test): [29898.756119116097, 23409.639967326995]\n",
      "[29898.756119116097, 23409.639967326995]\n",
      "(Train, test): [197025.49009151326, 199795.28643806704]\n"
     ]
    },
    {
     "name": "stderr",
     "output_type": "stream",
     "text": [
      "/usr/local/lib/python3.7/site-packages/sklearn/neural_network/multilayer_perceptron.py:562: ConvergenceWarning: Stochastic Optimizer: Maximum iterations (1) reached and the optimization hasn't converged yet.\n",
      "  % self.max_iter, ConvergenceWarning)\n"
     ]
    },
    {
     "name": "stdout",
     "output_type": "stream",
     "text": [
      "(Train, test): [49188.3337983572, 58108.89226372168]\n",
      "(Train, test): [26667.870412597513, 50647.69260863036]\n",
      "(Train, test): [24902.361280831214, 47856.30997191663]\n",
      "(Train, test): [23281.301406920935, 43961.96502310314]\n",
      "Loaded nn with weights of lowest model.\n",
      "RMSE: (Train, test): [22015.313488323136, 43391.023895895596]\n",
      "[22015.313488323136, 43391.023895895596]\n",
      "\n",
      "PCA 60\n",
      "\n",
      "\n",
      "Evaluating K-fold with 5 folds.\n",
      "K-fold mse:  1932330295.0560176\n",
      "K-fold Square Root mse:  43958.27902745987\n",
      "Time elapsed for k-fold:  2.6601429970005483\n",
      "\n",
      "\n",
      "Evaluating bootstrapping with 5 bootstraps.\n",
      "Bootstrapping Mean Squared Error:  1826318432.3467133\n",
      "Bootstrapping Square Root Mean Squared Error:  42735.44702406555\n",
      "Time elapsed for bootstrapping:  2.9521439299996928\n",
      "\n",
      "XGBoost\n",
      "Evaluating K-fold with 5 folds.\n",
      "K-fold mse:  1170035996.5661383\n",
      "K-fold Square Root mse:  34205.78893354366\n",
      "Time elapsed for k-fold:  2.232560270999784\n",
      "\n",
      "\n",
      "Evaluating bootstrapping with 5 bootstraps.\n",
      "Bootstrapping Mean Squared Error:  1323237974.5941389\n",
      "Bootstrapping Square Root Mean Squared Error:  36376.338114138685\n",
      "Time elapsed for bootstrapping:  2.7226422880003156\n",
      "\n",
      "SVR\n",
      "Evaluating K-fold with 5 folds.\n",
      "K-fold mse:  1435208889.4562829\n",
      "K-fold Square Root mse:  37884.15090055844\n",
      "Time elapsed for k-fold:  0.9956214730000283\n",
      "\n",
      "\n",
      "Evaluating bootstrapping with 5 bootstraps.\n",
      "Bootstrapping Mean Squared Error:  1823672340.4302623\n",
      "Bootstrapping Square Root Mean Squared Error:  42704.4768195357\n",
      "Time elapsed for bootstrapping:  1.3597850710002604\n",
      "(Train, test): [197885.09408410027, 196369.32736427465]\n"
     ]
    },
    {
     "name": "stderr",
     "output_type": "stream",
     "text": [
      "/usr/local/lib/python3.7/site-packages/sklearn/neural_network/multilayer_perceptron.py:562: ConvergenceWarning: Stochastic Optimizer: Maximum iterations (1) reached and the optimization hasn't converged yet.\n",
      "  % self.max_iter, ConvergenceWarning)\n"
     ]
    },
    {
     "name": "stdout",
     "output_type": "stream",
     "text": [
      "(Train, test): [47645.78870266621, 41372.288961185644]\n",
      "(Train, test): [32821.630960603725, 25720.76737168501]\n",
      "(Train, test): [29981.348363511515, 25392.346736897503]\n",
      "(Train, test): [27259.59909854571, 26017.350029641584]\n",
      "Loaded nn with weights of lowest model.\n",
      "RMSE: (Train, test): [31688.721201671535, 25141.41741636649]\n",
      "[31688.721201671535, 25141.41741636649]\n",
      "(Train, test): [196941.94676638258, 200126.21792487358]\n"
     ]
    },
    {
     "name": "stderr",
     "output_type": "stream",
     "text": [
      "/usr/local/lib/python3.7/site-packages/sklearn/neural_network/multilayer_perceptron.py:562: ConvergenceWarning: Stochastic Optimizer: Maximum iterations (1) reached and the optimization hasn't converged yet.\n",
      "  % self.max_iter, ConvergenceWarning)\n"
     ]
    },
    {
     "name": "stdout",
     "output_type": "stream",
     "text": [
      "(Train, test): [46519.78371476747, 53073.235824099305]\n",
      "(Train, test): [30067.201956447847, 34774.26505160815]\n",
      "(Train, test): [28138.795019233614, 35120.253592293106]\n",
      "(Train, test): [26173.486545699518, 36339.3878033734]\n",
      "Loaded nn with weights of lowest model.\n",
      "RMSE: (Train, test): [29843.384250018255, 34550.65165878499]\n",
      "[29843.384250018255, 34550.65165878499]\n",
      "(Train, test): [195927.46954752647, 204074.3343127867]\n"
     ]
    },
    {
     "name": "stderr",
     "output_type": "stream",
     "text": [
      "/usr/local/lib/python3.7/site-packages/sklearn/neural_network/multilayer_perceptron.py:562: ConvergenceWarning: Stochastic Optimizer: Maximum iterations (1) reached and the optimization hasn't converged yet.\n",
      "  % self.max_iter, ConvergenceWarning)\n"
     ]
    },
    {
     "name": "stdout",
     "output_type": "stream",
     "text": [
      "(Train, test): [45316.705777939664, 53412.37464250045]\n",
      "(Train, test): [31101.87767368909, 34863.87061367847]\n",
      "(Train, test): [29622.393880805823, 33907.35910992842]\n",
      "(Train, test): [28106.36170217444, 31556.487258933736]\n",
      "Loaded nn with weights of lowest model.\n",
      "RMSE: (Train, test): [29468.445715734528, 30992.858297944564]\n",
      "[29468.445715734528, 30992.858297944564]\n",
      "(Train, test): [200109.86708669597, 187134.48937270703]\n"
     ]
    },
    {
     "name": "stderr",
     "output_type": "stream",
     "text": [
      "/usr/local/lib/python3.7/site-packages/sklearn/neural_network/multilayer_perceptron.py:562: ConvergenceWarning: Stochastic Optimizer: Maximum iterations (1) reached and the optimization hasn't converged yet.\n",
      "  % self.max_iter, ConvergenceWarning)\n"
     ]
    },
    {
     "name": "stdout",
     "output_type": "stream",
     "text": [
      "(Train, test): [52562.93375693065, 44794.49793027446]\n",
      "(Train, test): [31670.22271945406, 25247.242852429437]\n",
      "(Train, test): [30019.244760774043, 23869.98385215011]\n",
      "(Train, test): [28048.679396912627, 24730.22484525706]\n",
      "Loaded nn with weights of lowest model.\n",
      "RMSE: (Train, test): [28427.874776579672, 23813.098616470033]\n",
      "[28427.874776579672, 23813.098616470033]\n",
      "(Train, test): [197025.19379682705, 199795.00982022152]\n"
     ]
    },
    {
     "name": "stderr",
     "output_type": "stream",
     "text": [
      "/usr/local/lib/python3.7/site-packages/sklearn/neural_network/multilayer_perceptron.py:562: ConvergenceWarning: Stochastic Optimizer: Maximum iterations (1) reached and the optimization hasn't converged yet.\n",
      "  % self.max_iter, ConvergenceWarning)\n"
     ]
    },
    {
     "name": "stdout",
     "output_type": "stream",
     "text": [
      "(Train, test): [47406.830325236035, 57278.46823028117]\n",
      "(Train, test): [27429.71597909563, 48944.326534545165]\n",
      "(Train, test): [25166.250715961134, 48080.77408426429]\n",
      "(Train, test): [23322.670915271723, 46588.858875075966]\n",
      "Loaded nn with weights of lowest model.\n",
      "RMSE: (Train, test): [22360.69893098831, 45722.44972566824]\n",
      "[22360.69893098831, 45722.44972566824]\n",
      "\n",
      "PCA 65\n",
      "\n",
      "\n",
      "Evaluating K-fold with 5 folds.\n",
      "K-fold mse:  1876948805.0967948\n",
      "K-fold Square Root mse:  43323.767208044075\n",
      "Time elapsed for k-fold:  2.744992658999763\n",
      "\n",
      "\n",
      "Evaluating bootstrapping with 5 bootstraps.\n",
      "Bootstrapping Mean Squared Error:  1949579230.384219\n",
      "Bootstrapping Square Root Mean Squared Error:  44154.03979687724\n",
      "Time elapsed for bootstrapping:  2.940525302000424\n",
      "\n",
      "XGBoost\n",
      "Evaluating K-fold with 5 folds.\n",
      "K-fold mse:  1196472237.124458\n",
      "K-fold Square Root mse:  34590.05980226773\n",
      "Time elapsed for k-fold:  2.2813957239995943\n",
      "\n",
      "\n",
      "Evaluating bootstrapping with 5 bootstraps.\n",
      "Bootstrapping Mean Squared Error:  1187245538.2470727\n",
      "Bootstrapping Square Root Mean Squared Error:  34456.42956324803\n",
      "Time elapsed for bootstrapping:  2.687309520000781\n",
      "\n",
      "SVR\n",
      "Evaluating K-fold with 5 folds.\n",
      "K-fold mse:  1351373715.788367\n",
      "K-fold Square Root mse:  36761.03529266235\n",
      "Time elapsed for k-fold:  0.8784509769993747\n",
      "\n",
      "\n",
      "Evaluating bootstrapping with 5 bootstraps.\n",
      "Bootstrapping Mean Squared Error:  2831785536.477765\n",
      "Bootstrapping Square Root Mean Squared Error:  53214.52373626739\n",
      "Time elapsed for bootstrapping:  1.2280979339993792\n",
      "(Train, test): [197883.84374028345, 196368.05347026116]\n"
     ]
    },
    {
     "name": "stderr",
     "output_type": "stream",
     "text": [
      "/usr/local/lib/python3.7/site-packages/sklearn/neural_network/multilayer_perceptron.py:562: ConvergenceWarning: Stochastic Optimizer: Maximum iterations (1) reached and the optimization hasn't converged yet.\n",
      "  % self.max_iter, ConvergenceWarning)\n"
     ]
    },
    {
     "name": "stdout",
     "output_type": "stream",
     "text": [
      "(Train, test): [42134.843121139944, 36094.85197549376]\n",
      "(Train, test): [29705.284871236283, 24963.30834481081]\n",
      "(Train, test): [26501.303575554193, 26647.39332200097]\n",
      "(Train, test): [23593.817483909006, 28675.070009925286]\n",
      "Loaded nn with weights of lowest model.\n",
      "RMSE: (Train, test): [31300.24948256077, 24579.822656520668]\n",
      "[31300.24948256077, 24579.822656520668]\n",
      "(Train, test): [196941.96915658296, 200126.23970030312]\n"
     ]
    },
    {
     "name": "stderr",
     "output_type": "stream",
     "text": [
      "/usr/local/lib/python3.7/site-packages/sklearn/neural_network/multilayer_perceptron.py:562: ConvergenceWarning: Stochastic Optimizer: Maximum iterations (1) reached and the optimization hasn't converged yet.\n",
      "  % self.max_iter, ConvergenceWarning)\n"
     ]
    },
    {
     "name": "stdout",
     "output_type": "stream",
     "text": [
      "(Train, test): [44633.06013988039, 51784.96634183043]\n",
      "(Train, test): [28781.530146202524, 35329.8893484579]\n",
      "(Train, test): [25003.86265756908, 35807.155587333655]\n",
      "(Train, test): [22761.331538236467, 36763.89137491784]\n",
      "Loaded nn with weights of lowest model.\n",
      "RMSE: (Train, test): [29090.703747872878, 35274.078537656766]\n",
      "[29090.703747872878, 35274.078537656766]\n",
      "(Train, test): [195926.31132392332, 204073.19154322456]\n"
     ]
    },
    {
     "name": "stderr",
     "output_type": "stream",
     "text": [
      "/usr/local/lib/python3.7/site-packages/sklearn/neural_network/multilayer_perceptron.py:562: ConvergenceWarning: Stochastic Optimizer: Maximum iterations (1) reached and the optimization hasn't converged yet.\n",
      "  % self.max_iter, ConvergenceWarning)\n"
     ]
    },
    {
     "name": "stdout",
     "output_type": "stream",
     "text": [
      "(Train, test): [52851.175902211566, 61617.761990150684]\n",
      "(Train, test): [30435.954708932422, 33774.07545172386]\n",
      "(Train, test): [29495.99642362849, 32761.10623601175]\n",
      "(Train, test): [28150.80218950272, 32867.61817682636]\n",
      "Loaded nn with weights of lowest model.\n",
      "RMSE: (Train, test): [27334.700472843448, 30022.29994067671]\n",
      "[27334.700472843448, 30022.29994067671]\n",
      "(Train, test): [200108.53591896986, 187133.1457073022]\n"
     ]
    },
    {
     "name": "stderr",
     "output_type": "stream",
     "text": [
      "/usr/local/lib/python3.7/site-packages/sklearn/neural_network/multilayer_perceptron.py:562: ConvergenceWarning: Stochastic Optimizer: Maximum iterations (1) reached and the optimization hasn't converged yet.\n",
      "  % self.max_iter, ConvergenceWarning)\n"
     ]
    },
    {
     "name": "stdout",
     "output_type": "stream",
     "text": [
      "(Train, test): [46441.87420686999, 39355.201048304705]\n",
      "(Train, test): [30485.23649302955, 23790.877594790476]\n",
      "(Train, test): [28050.78172114533, 23117.773576659456]\n",
      "(Train, test): [25646.27111905198, 24059.034279524196]\n",
      "Loaded nn with weights of lowest model.\n",
      "RMSE: (Train, test): [27996.082705084293, 22963.266435587208]\n",
      "[27996.082705084293, 22963.266435587208]\n",
      "(Train, test): [197023.58007613954, 199793.39730142834]\n"
     ]
    },
    {
     "name": "stderr",
     "output_type": "stream",
     "text": [
      "/usr/local/lib/python3.7/site-packages/sklearn/neural_network/multilayer_perceptron.py:562: ConvergenceWarning: Stochastic Optimizer: Maximum iterations (1) reached and the optimization hasn't converged yet.\n",
      "  % self.max_iter, ConvergenceWarning)\n"
     ]
    },
    {
     "name": "stdout",
     "output_type": "stream",
     "text": [
      "(Train, test): [38690.49697864709, 50152.142260118795]\n",
      "(Train, test): [26011.66756914355, 49110.5052324045]\n",
      "(Train, test): [23651.091983322283, 48081.07227306108]\n",
      "(Train, test): [21666.129091634142, 48450.9996127194]\n",
      "Loaded nn with weights of lowest model.\n",
      "RMSE: (Train, test): [21328.678927202975, 47244.74148806101]\n",
      "[21328.678927202975, 47244.74148806101]\n",
      "\n",
      "PCA 70\n",
      "\n",
      "\n",
      "Evaluating K-fold with 5 folds.\n",
      "K-fold mse:  1927327173.3812683\n",
      "K-fold Square Root mse:  43901.334528477244\n",
      "Time elapsed for k-fold:  2.9878425590004554\n",
      "\n",
      "\n",
      "Evaluating bootstrapping with 5 bootstraps.\n",
      "Bootstrapping Mean Squared Error:  1713816209.2555501\n",
      "Bootstrapping Square Root Mean Squared Error:  41398.26336038204\n",
      "Time elapsed for bootstrapping:  3.26693549599986\n",
      "\n",
      "XGBoost\n",
      "Evaluating K-fold with 5 folds.\n",
      "K-fold mse:  1202299559.5909705\n",
      "K-fold Square Root mse:  34674.19154920516\n",
      "Time elapsed for k-fold:  2.534117000000151\n",
      "\n",
      "\n",
      "Evaluating bootstrapping with 5 bootstraps.\n",
      "Bootstrapping Mean Squared Error:  1247984174.6550088\n",
      "Bootstrapping Square Root Mean Squared Error:  35326.81948116769\n",
      "Time elapsed for bootstrapping:  3.000812240000414\n",
      "\n",
      "SVR\n",
      "Evaluating K-fold with 5 folds.\n",
      "K-fold mse:  1407857522.8048065\n",
      "K-fold Square Root mse:  37521.42751555178\n",
      "Time elapsed for k-fold:  0.9968064029999368\n",
      "\n",
      "\n",
      "Evaluating bootstrapping with 5 bootstraps.\n",
      "Bootstrapping Mean Squared Error:  1917353641.2630265\n",
      "Bootstrapping Square Root Mean Squared Error:  43787.596888422944\n",
      "Time elapsed for bootstrapping:  1.4615264290005143\n",
      "(Train, test): [197884.02864941573, 196368.2170203059]\n"
     ]
    },
    {
     "name": "stderr",
     "output_type": "stream",
     "text": [
      "/usr/local/lib/python3.7/site-packages/sklearn/neural_network/multilayer_perceptron.py:562: ConvergenceWarning: Stochastic Optimizer: Maximum iterations (1) reached and the optimization hasn't converged yet.\n",
      "  % self.max_iter, ConvergenceWarning)\n"
     ]
    },
    {
     "name": "stdout",
     "output_type": "stream",
     "text": [
      "(Train, test): [50633.51711344161, 43104.295331559544]\n",
      "(Train, test): [31615.562992873445, 24077.00562513757]\n",
      "(Train, test): [29082.21534614847, 23311.149548350662]\n",
      "(Train, test): [25748.725494518927, 24402.050412699726]\n",
      "Loaded nn with weights of lowest model.\n",
      "RMSE: (Train, test): [27919.117744168776, 22943.553111108104]\n",
      "[27919.117744168776, 22943.553111108104]\n",
      "(Train, test): [196941.47835934328, 200125.75305002517]\n"
     ]
    },
    {
     "name": "stderr",
     "output_type": "stream",
     "text": [
      "/usr/local/lib/python3.7/site-packages/sklearn/neural_network/multilayer_perceptron.py:562: ConvergenceWarning: Stochastic Optimizer: Maximum iterations (1) reached and the optimization hasn't converged yet.\n",
      "  % self.max_iter, ConvergenceWarning)\n"
     ]
    },
    {
     "name": "stdout",
     "output_type": "stream",
     "text": [
      "(Train, test): [43246.96734261812, 49546.428229923236]\n",
      "(Train, test): [28232.1552957788, 34805.5346731539]\n",
      "(Train, test): [26397.569883854118, 35109.486360740186]\n",
      "(Train, test): [24087.846030575754, 36190.893891864245]\n",
      "Loaded nn with weights of lowest model.\n",
      "RMSE: (Train, test): [28428.101627300544, 34746.368453918134]\n",
      "[28428.101627300544, 34746.368453918134]\n",
      "(Train, test): [195925.83789511674, 204072.72829161494]\n"
     ]
    },
    {
     "name": "stderr",
     "output_type": "stream",
     "text": [
      "/usr/local/lib/python3.7/site-packages/sklearn/neural_network/multilayer_perceptron.py:562: ConvergenceWarning: Stochastic Optimizer: Maximum iterations (1) reached and the optimization hasn't converged yet.\n",
      "  % self.max_iter, ConvergenceWarning)\n"
     ]
    },
    {
     "name": "stdout",
     "output_type": "stream",
     "text": [
      "(Train, test): [47116.927949242374, 55108.38808095228]\n",
      "(Train, test): [29544.19949456787, 33732.47183682617]\n",
      "(Train, test): [28092.576558762386, 32482.848138318983]\n",
      "(Train, test): [26696.620307403664, 32392.552935077794]\n",
      "Loaded nn with weights of lowest model.\n",
      "RMSE: (Train, test): [26063.26828259803, 30962.936436741067]\n",
      "[26063.26828259803, 30962.936436741067]\n",
      "(Train, test): [200109.12809640437, 187133.74057630368]\n"
     ]
    },
    {
     "name": "stderr",
     "output_type": "stream",
     "text": [
      "/usr/local/lib/python3.7/site-packages/sklearn/neural_network/multilayer_perceptron.py:562: ConvergenceWarning: Stochastic Optimizer: Maximum iterations (1) reached and the optimization hasn't converged yet.\n",
      "  % self.max_iter, ConvergenceWarning)\n"
     ]
    },
    {
     "name": "stdout",
     "output_type": "stream",
     "text": [
      "(Train, test): [48121.69035049539, 42596.51964424511]\n",
      "(Train, test): [31582.33101150689, 24853.74465012833]\n",
      "(Train, test): [29320.100368045347, 24467.7650790938]\n",
      "(Train, test): [27022.488494834062, 23395.04944943136]\n",
      "Loaded nn with weights of lowest model.\n",
      "RMSE: (Train, test): [28012.077172553327, 23090.656127713486]\n",
      "[28012.077172553327, 23090.656127713486]\n",
      "(Train, test): [197024.68925277083, 199794.48980586953]\n"
     ]
    },
    {
     "name": "stderr",
     "output_type": "stream",
     "text": [
      "/usr/local/lib/python3.7/site-packages/sklearn/neural_network/multilayer_perceptron.py:562: ConvergenceWarning: Stochastic Optimizer: Maximum iterations (1) reached and the optimization hasn't converged yet.\n",
      "  % self.max_iter, ConvergenceWarning)\n"
     ]
    },
    {
     "name": "stdout",
     "output_type": "stream",
     "text": [
      "(Train, test): [45260.16645982379, 54908.88265572447]\n",
      "(Train, test): [26455.174478658773, 47737.65473178485]\n",
      "(Train, test): [24563.56474812688, 47045.30348877623]\n",
      "(Train, test): [22488.73983364909, 44537.643586534934]\n",
      "Loaded nn with weights of lowest model.\n",
      "RMSE: (Train, test): [21413.936779185595, 43524.9914553032]\n",
      "[21413.936779185595, 43524.9914553032]\n",
      "\n",
      "*** PCA Tuning Complete ***\n",
      "\n"
     ]
    }
   ],
   "source": [
    "print()\n",
    "print(\"========== PCA Tuning ==========\")\n",
    "print()\n",
    "\n",
    "pca_ada_frame, pca_xg_frame, pca_svr_frame, pca_nn_frame = pca_tuning([30,35,40,45,50,55,60,65,70], kaggle_train_X_processed, kaggle_train_y)\n",
    "\n",
    "print()\n",
    "print(\"*** PCA Tuning Complete ***\")\n",
    "print()"
   ]
  },
  {
   "cell_type": "code",
   "execution_count": 178,
   "metadata": {},
   "outputs": [
    {
     "data": {
      "image/png": "[encoded data removed]",
      "text/plain": [
       "<Figure size 432x288 with 1 Axes>"
      ]
     },
     "metadata": {
      "needs_background": "light"
     },
     "output_type": "display_data"
    }
   ],
   "source": [
    "plot_pca_tuning(pca_ada_frame, pca_xg_frame, pca_svr_frame, pca_nn_frame)"
   ]
  },
  {
   "cell_type": "markdown",
   "metadata": {},
   "source": [
    "# Learning Curves"
   ]
  },
  {
   "cell_type": "code",
   "execution_count": 112,
   "metadata": {
    "collapsed": true
   },
   "outputs": [],
   "source": [
    "def plot_learning_curve(estimator, title, X, y, ylim=None, cv=None,\n",
    "                        n_jobs=None, train_sizes=np.linspace(.1, 1.0, 5)):\n",
    "    plt.figure()\n",
    "    plt.title(title)\n",
    "    if ylim is not None:\n",
    "        plt.ylim(*ylim)\n",
    "    plt.xlabel(\"Training examples\")\n",
    "    plt.ylabel(\"Score\")\n",
    "    train_sizes, train_scores, test_scores = learning_curve(\n",
    "        estimator, X, y, cv=cv, n_jobs=n_jobs, train_sizes=train_sizes)\n",
    "    train_scores_mean = np.mean(train_scores, axis=1)\n",
    "    train_scores_std = np.std(train_scores, axis=1)\n",
    "    test_scores_mean = np.mean(test_scores, axis=1)\n",
    "    test_scores_std = np.std(test_scores, axis=1)\n",
    "    plt.grid()\n",
    "\n",
    "    plt.fill_between(train_sizes, train_scores_mean - train_scores_std,\n",
    "                     train_scores_mean + train_scores_std, alpha=0.1,\n",
    "                     color=\"r\")\n",
    "    plt.fill_between(train_sizes, test_scores_mean - test_scores_std,\n",
    "                     test_scores_mean + test_scores_std, alpha=0.1, color=\"g\")\n",
    "    plt.plot(train_sizes, train_scores_mean, 'o-', color=\"r\",\n",
    "             label=\"Training score\")\n",
    "    plt.plot(train_sizes, test_scores_mean, 'o-', color=\"g\",\n",
    "             label=\"Cross-validation score\")\n",
    "\n",
    "    plt.legend(loc=\"best\")\n",
    "    plt.show()"
   ]
  },
  {
   "cell_type": "code",
   "execution_count": 113,
   "metadata": {},
   "outputs": [
    {
     "name": "stdout",
     "output_type": "stream",
     "text": [
      "\n",
      "========== Learning Curves ==========\n",
      "\n"
     ]
    },
    {
     "name": "stderr",
     "output_type": "stream",
     "text": [
      "/usr/local/lib/python3.7/site-packages/sklearn/model_selection/_split.py:2053: FutureWarning: You should specify a value for 'cv' instead of relying on the default value. The default value will change from 3 to 5 in version 0.22.\n",
      "  warnings.warn(CV_WARNING, FutureWarning)\n"
     ]
    },
    {
     "data": {
      "image/png": "[encoded data removed]",
      "text/plain": [
       "<Figure size 432x288 with 1 Axes>"
      ]
     },
     "metadata": {
      "needs_background": "light"
     },
     "output_type": "display_data"
    },
    {
     "name": "stderr",
     "output_type": "stream",
     "text": [
      "/usr/local/lib/python3.7/site-packages/sklearn/model_selection/_split.py:2053: FutureWarning: You should specify a value for 'cv' instead of relying on the default value. The default value will change from 3 to 5 in version 0.22.\n",
      "  warnings.warn(CV_WARNING, FutureWarning)\n"
     ]
    },
    {
     "data": {
      "image/png": "[encoded data removed]",
      "text/plain": [
       "<Figure size 432x288 with 1 Axes>"
      ]
     },
     "metadata": {
      "needs_background": "light"
     },
     "output_type": "display_data"
    },
    {
     "name": "stderr",
     "output_type": "stream",
     "text": [
      "/usr/local/lib/python3.7/site-packages/sklearn/model_selection/_split.py:2053: FutureWarning: You should specify a value for 'cv' instead of relying on the default value. The default value will change from 3 to 5 in version 0.22.\n",
      "  warnings.warn(CV_WARNING, FutureWarning)\n"
     ]
    },
    {
     "ename": "KeyboardInterrupt",
     "evalue": "",
     "output_type": "error",
     "traceback": [
      "\u001b[0;31m---------------------------------------------------------------------------\u001b[0m",
      "\u001b[0;31mKeyboardInterrupt\u001b[0m                         Traceback (most recent call last)",
      "\u001b[0;32m<ipython-input-113-8b2f4d4e0283>\u001b[0m in \u001b[0;36m<module>\u001b[0;34m\u001b[0m\n\u001b[1;32m      7\u001b[0m                         n_jobs=None, train_sizes=np.linspace(.1, 1.0, 5))\n\u001b[1;32m      8\u001b[0m plot_learning_curve(estimator=svr_model, title=\"Learning Curves (SVR)\", X=kaggle_train_X_processed, y=kaggle_train_y.values.ravel(), ylim=None, cv=None,\n\u001b[0;32m----> 9\u001b[0;31m                         n_jobs=None, train_sizes=np.linspace(.1, 1.0, 5))\n\u001b[0m",
      "\u001b[0;32m<ipython-input-112-96be73245021>\u001b[0m in \u001b[0;36mplot_learning_curve\u001b[0;34m(estimator, title, X, y, ylim, cv, n_jobs, train_sizes)\u001b[0m\n\u001b[1;32m      8\u001b[0m     \u001b[0mplt\u001b[0m\u001b[0;34m.\u001b[0m\u001b[0mylabel\u001b[0m\u001b[0;34m(\u001b[0m\u001b[0;34m\"Score\"\u001b[0m\u001b[0;34m)\u001b[0m\u001b[0;34m\u001b[0m\u001b[0;34m\u001b[0m\u001b[0m\n\u001b[1;32m      9\u001b[0m     train_sizes, train_scores, test_scores = learning_curve(\n\u001b[0;32m---> 10\u001b[0;31m         estimator, X, y, cv=cv, n_jobs=n_jobs, train_sizes=train_sizes)\n\u001b[0m\u001b[1;32m     11\u001b[0m     \u001b[0mtrain_scores_mean\u001b[0m \u001b[0;34m=\u001b[0m \u001b[0mnp\u001b[0m\u001b[0;34m.\u001b[0m\u001b[0mmean\u001b[0m\u001b[0;34m(\u001b[0m\u001b[0mtrain_scores\u001b[0m\u001b[0;34m,\u001b[0m \u001b[0maxis\u001b[0m\u001b[0;34m=\u001b[0m\u001b[0;36m1\u001b[0m\u001b[0;34m)\u001b[0m\u001b[0;34m\u001b[0m\u001b[0;34m\u001b[0m\u001b[0m\n\u001b[1;32m     12\u001b[0m     \u001b[0mtrain_scores_std\u001b[0m \u001b[0;34m=\u001b[0m \u001b[0mnp\u001b[0m\u001b[0;34m.\u001b[0m\u001b[0mstd\u001b[0m\u001b[0;34m(\u001b[0m\u001b[0mtrain_scores\u001b[0m\u001b[0;34m,\u001b[0m \u001b[0maxis\u001b[0m\u001b[0;34m=\u001b[0m\u001b[0;36m1\u001b[0m\u001b[0;34m)\u001b[0m\u001b[0;34m\u001b[0m\u001b[0;34m\u001b[0m\u001b[0m\n",
      "\u001b[0;32m/usr/local/lib/python3.7/site-packages/sklearn/model_selection/_validation.py\u001b[0m in \u001b[0;36mlearning_curve\u001b[0;34m(estimator, X, y, groups, train_sizes, cv, scoring, exploit_incremental_learning, n_jobs, pre_dispatch, verbose, shuffle, random_state, error_score)\u001b[0m\n\u001b[1;32m   1244\u001b[0m             \u001b[0mparameters\u001b[0m\u001b[0;34m=\u001b[0m\u001b[0;32mNone\u001b[0m\u001b[0;34m,\u001b[0m \u001b[0mfit_params\u001b[0m\u001b[0;34m=\u001b[0m\u001b[0;32mNone\u001b[0m\u001b[0;34m,\u001b[0m \u001b[0mreturn_train_score\u001b[0m\u001b[0;34m=\u001b[0m\u001b[0;32mTrue\u001b[0m\u001b[0;34m,\u001b[0m\u001b[0;34m\u001b[0m\u001b[0;34m\u001b[0m\u001b[0m\n\u001b[1;32m   1245\u001b[0m             error_score=error_score)\n\u001b[0;32m-> 1246\u001b[0;31m             for train, test in train_test_proportions)\n\u001b[0m\u001b[1;32m   1247\u001b[0m         \u001b[0mout\u001b[0m \u001b[0;34m=\u001b[0m \u001b[0mnp\u001b[0m\u001b[0;34m.\u001b[0m\u001b[0marray\u001b[0m\u001b[0;34m(\u001b[0m\u001b[0mout\u001b[0m\u001b[0;34m)\u001b[0m\u001b[0;34m\u001b[0m\u001b[0;34m\u001b[0m\u001b[0m\n\u001b[1;32m   1248\u001b[0m         \u001b[0mn_cv_folds\u001b[0m \u001b[0;34m=\u001b[0m \u001b[0mout\u001b[0m\u001b[0;34m.\u001b[0m\u001b[0mshape\u001b[0m\u001b[0;34m[\u001b[0m\u001b[0;36m0\u001b[0m\u001b[0;34m]\u001b[0m \u001b[0;34m//\u001b[0m \u001b[0mn_unique_ticks\u001b[0m\u001b[0;34m\u001b[0m\u001b[0;34m\u001b[0m\u001b[0m\n",
      "\u001b[0;32m/usr/local/lib/python3.7/site-packages/sklearn/externals/joblib/parallel.py\u001b[0m in \u001b[0;36m__call__\u001b[0;34m(self, iterable)\u001b[0m\n\u001b[1;32m    915\u001b[0m             \u001b[0;31m# remaining jobs.\u001b[0m\u001b[0;34m\u001b[0m\u001b[0;34m\u001b[0m\u001b[0;34m\u001b[0m\u001b[0m\n\u001b[1;32m    916\u001b[0m             \u001b[0mself\u001b[0m\u001b[0;34m.\u001b[0m\u001b[0m_iterating\u001b[0m \u001b[0;34m=\u001b[0m \u001b[0;32mFalse\u001b[0m\u001b[0;34m\u001b[0m\u001b[0;34m\u001b[0m\u001b[0m\n\u001b[0;32m--> 917\u001b[0;31m             \u001b[0;32mif\u001b[0m \u001b[0mself\u001b[0m\u001b[0;34m.\u001b[0m\u001b[0mdispatch_one_batch\u001b[0m\u001b[0;34m(\u001b[0m\u001b[0miterator\u001b[0m\u001b[0;34m)\u001b[0m\u001b[0;34m:\u001b[0m\u001b[0;34m\u001b[0m\u001b[0;34m\u001b[0m\u001b[0m\n\u001b[0m\u001b[1;32m    918\u001b[0m                 \u001b[0mself\u001b[0m\u001b[0;34m.\u001b[0m\u001b[0m_iterating\u001b[0m \u001b[0;34m=\u001b[0m \u001b[0mself\u001b[0m\u001b[0;34m.\u001b[0m\u001b[0m_original_iterator\u001b[0m \u001b[0;32mis\u001b[0m \u001b[0;32mnot\u001b[0m \u001b[0;32mNone\u001b[0m\u001b[0;34m\u001b[0m\u001b[0;34m\u001b[0m\u001b[0m\n\u001b[1;32m    919\u001b[0m \u001b[0;34m\u001b[0m\u001b[0m\n",
      "\u001b[0;32m/usr/local/lib/python3.7/site-packages/sklearn/externals/joblib/parallel.py\u001b[0m in \u001b[0;36mdispatch_one_batch\u001b[0;34m(self, iterator)\u001b[0m\n\u001b[1;32m    757\u001b[0m                 \u001b[0;32mreturn\u001b[0m \u001b[0;32mFalse\u001b[0m\u001b[0;34m\u001b[0m\u001b[0;34m\u001b[0m\u001b[0m\n\u001b[1;32m    758\u001b[0m             \u001b[0;32melse\u001b[0m\u001b[0;34m:\u001b[0m\u001b[0;34m\u001b[0m\u001b[0;34m\u001b[0m\u001b[0m\n\u001b[0;32m--> 759\u001b[0;31m                 \u001b[0mself\u001b[0m\u001b[0;34m.\u001b[0m\u001b[0m_dispatch\u001b[0m\u001b[0;34m(\u001b[0m\u001b[0mtasks\u001b[0m\u001b[0;34m)\u001b[0m\u001b[0;34m\u001b[0m\u001b[0;34m\u001b[0m\u001b[0m\n\u001b[0m\u001b[1;32m    760\u001b[0m                 \u001b[0;32mreturn\u001b[0m \u001b[0;32mTrue\u001b[0m\u001b[0;34m\u001b[0m\u001b[0;34m\u001b[0m\u001b[0m\n\u001b[1;32m    761\u001b[0m \u001b[0;34m\u001b[0m\u001b[0m\n",
      "\u001b[0;32m/usr/local/lib/python3.7/site-packages/sklearn/externals/joblib/parallel.py\u001b[0m in \u001b[0;36m_dispatch\u001b[0;34m(self, batch)\u001b[0m\n\u001b[1;32m    714\u001b[0m         \u001b[0;32mwith\u001b[0m \u001b[0mself\u001b[0m\u001b[0;34m.\u001b[0m\u001b[0m_lock\u001b[0m\u001b[0;34m:\u001b[0m\u001b[0;34m\u001b[0m\u001b[0;34m\u001b[0m\u001b[0m\n\u001b[1;32m    715\u001b[0m             \u001b[0mjob_idx\u001b[0m \u001b[0;34m=\u001b[0m \u001b[0mlen\u001b[0m\u001b[0;34m(\u001b[0m\u001b[0mself\u001b[0m\u001b[0;34m.\u001b[0m\u001b[0m_jobs\u001b[0m\u001b[0;34m)\u001b[0m\u001b[0;34m\u001b[0m\u001b[0;34m\u001b[0m\u001b[0m\n\u001b[0;32m--> 716\u001b[0;31m             \u001b[0mjob\u001b[0m \u001b[0;34m=\u001b[0m \u001b[0mself\u001b[0m\u001b[0;34m.\u001b[0m\u001b[0m_backend\u001b[0m\u001b[0;34m.\u001b[0m\u001b[0mapply_async\u001b[0m\u001b[0;34m(\u001b[0m\u001b[0mbatch\u001b[0m\u001b[0;34m,\u001b[0m \u001b[0mcallback\u001b[0m\u001b[0;34m=\u001b[0m\u001b[0mcb\u001b[0m\u001b[0;34m)\u001b[0m\u001b[0;34m\u001b[0m\u001b[0;34m\u001b[0m\u001b[0m\n\u001b[0m\u001b[1;32m    717\u001b[0m             \u001b[0;31m# A job can complete so quickly than its callback is\u001b[0m\u001b[0;34m\u001b[0m\u001b[0;34m\u001b[0m\u001b[0;34m\u001b[0m\u001b[0m\n\u001b[1;32m    718\u001b[0m             \u001b[0;31m# called before we get here, causing self._jobs to\u001b[0m\u001b[0;34m\u001b[0m\u001b[0;34m\u001b[0m\u001b[0;34m\u001b[0m\u001b[0m\n",
      "\u001b[0;32m/usr/local/lib/python3.7/site-packages/sklearn/externals/joblib/_parallel_backends.py\u001b[0m in \u001b[0;36mapply_async\u001b[0;34m(self, func, callback)\u001b[0m\n\u001b[1;32m    180\u001b[0m     \u001b[0;32mdef\u001b[0m \u001b[0mapply_async\u001b[0m\u001b[0;34m(\u001b[0m\u001b[0mself\u001b[0m\u001b[0;34m,\u001b[0m \u001b[0mfunc\u001b[0m\u001b[0;34m,\u001b[0m \u001b[0mcallback\u001b[0m\u001b[0;34m=\u001b[0m\u001b[0;32mNone\u001b[0m\u001b[0;34m)\u001b[0m\u001b[0;34m:\u001b[0m\u001b[0;34m\u001b[0m\u001b[0;34m\u001b[0m\u001b[0m\n\u001b[1;32m    181\u001b[0m         \u001b[0;34m\"\"\"Schedule a func to be run\"\"\"\u001b[0m\u001b[0;34m\u001b[0m\u001b[0;34m\u001b[0m\u001b[0m\n\u001b[0;32m--> 182\u001b[0;31m         \u001b[0mresult\u001b[0m \u001b[0;34m=\u001b[0m \u001b[0mImmediateResult\u001b[0m\u001b[0;34m(\u001b[0m\u001b[0mfunc\u001b[0m\u001b[0;34m)\u001b[0m\u001b[0;34m\u001b[0m\u001b[0;34m\u001b[0m\u001b[0m\n\u001b[0m\u001b[1;32m    183\u001b[0m         \u001b[0;32mif\u001b[0m \u001b[0mcallback\u001b[0m\u001b[0;34m:\u001b[0m\u001b[0;34m\u001b[0m\u001b[0;34m\u001b[0m\u001b[0m\n\u001b[1;32m    184\u001b[0m             \u001b[0mcallback\u001b[0m\u001b[0;34m(\u001b[0m\u001b[0mresult\u001b[0m\u001b[0;34m)\u001b[0m\u001b[0;34m\u001b[0m\u001b[0;34m\u001b[0m\u001b[0m\n",
      "\u001b[0;32m/usr/local/lib/python3.7/site-packages/sklearn/externals/joblib/_parallel_backends.py\u001b[0m in \u001b[0;36m__init__\u001b[0;34m(self, batch)\u001b[0m\n\u001b[1;32m    547\u001b[0m         \u001b[0;31m# Don't delay the application, to avoid keeping the input\u001b[0m\u001b[0;34m\u001b[0m\u001b[0;34m\u001b[0m\u001b[0;34m\u001b[0m\u001b[0m\n\u001b[1;32m    548\u001b[0m         \u001b[0;31m# arguments in memory\u001b[0m\u001b[0;34m\u001b[0m\u001b[0;34m\u001b[0m\u001b[0;34m\u001b[0m\u001b[0m\n\u001b[0;32m--> 549\u001b[0;31m         \u001b[0mself\u001b[0m\u001b[0;34m.\u001b[0m\u001b[0mresults\u001b[0m \u001b[0;34m=\u001b[0m \u001b[0mbatch\u001b[0m\u001b[0;34m(\u001b[0m\u001b[0;34m)\u001b[0m\u001b[0;34m\u001b[0m\u001b[0;34m\u001b[0m\u001b[0m\n\u001b[0m\u001b[1;32m    550\u001b[0m \u001b[0;34m\u001b[0m\u001b[0m\n\u001b[1;32m    551\u001b[0m     \u001b[0;32mdef\u001b[0m \u001b[0mget\u001b[0m\u001b[0;34m(\u001b[0m\u001b[0mself\u001b[0m\u001b[0;34m)\u001b[0m\u001b[0;34m:\u001b[0m\u001b[0;34m\u001b[0m\u001b[0;34m\u001b[0m\u001b[0m\n",
      "\u001b[0;32m/usr/local/lib/python3.7/site-packages/sklearn/externals/joblib/parallel.py\u001b[0m in \u001b[0;36m__call__\u001b[0;34m(self)\u001b[0m\n\u001b[1;32m    223\u001b[0m         \u001b[0;32mwith\u001b[0m \u001b[0mparallel_backend\u001b[0m\u001b[0;34m(\u001b[0m\u001b[0mself\u001b[0m\u001b[0;34m.\u001b[0m\u001b[0m_backend\u001b[0m\u001b[0;34m,\u001b[0m \u001b[0mn_jobs\u001b[0m\u001b[0;34m=\u001b[0m\u001b[0mself\u001b[0m\u001b[0;34m.\u001b[0m\u001b[0m_n_jobs\u001b[0m\u001b[0;34m)\u001b[0m\u001b[0;34m:\u001b[0m\u001b[0;34m\u001b[0m\u001b[0;34m\u001b[0m\u001b[0m\n\u001b[1;32m    224\u001b[0m             return [func(*args, **kwargs)\n\u001b[0;32m--> 225\u001b[0;31m                     for func, args, kwargs in self.items]\n\u001b[0m\u001b[1;32m    226\u001b[0m \u001b[0;34m\u001b[0m\u001b[0m\n\u001b[1;32m    227\u001b[0m     \u001b[0;32mdef\u001b[0m \u001b[0m__len__\u001b[0m\u001b[0;34m(\u001b[0m\u001b[0mself\u001b[0m\u001b[0;34m)\u001b[0m\u001b[0;34m:\u001b[0m\u001b[0;34m\u001b[0m\u001b[0;34m\u001b[0m\u001b[0m\n",
      "\u001b[0;32m/usr/local/lib/python3.7/site-packages/sklearn/externals/joblib/parallel.py\u001b[0m in \u001b[0;36m<listcomp>\u001b[0;34m(.0)\u001b[0m\n\u001b[1;32m    223\u001b[0m         \u001b[0;32mwith\u001b[0m \u001b[0mparallel_backend\u001b[0m\u001b[0;34m(\u001b[0m\u001b[0mself\u001b[0m\u001b[0;34m.\u001b[0m\u001b[0m_backend\u001b[0m\u001b[0;34m,\u001b[0m \u001b[0mn_jobs\u001b[0m\u001b[0;34m=\u001b[0m\u001b[0mself\u001b[0m\u001b[0;34m.\u001b[0m\u001b[0m_n_jobs\u001b[0m\u001b[0;34m)\u001b[0m\u001b[0;34m:\u001b[0m\u001b[0;34m\u001b[0m\u001b[0;34m\u001b[0m\u001b[0m\n\u001b[1;32m    224\u001b[0m             return [func(*args, **kwargs)\n\u001b[0;32m--> 225\u001b[0;31m                     for func, args, kwargs in self.items]\n\u001b[0m\u001b[1;32m    226\u001b[0m \u001b[0;34m\u001b[0m\u001b[0m\n\u001b[1;32m    227\u001b[0m     \u001b[0;32mdef\u001b[0m \u001b[0m__len__\u001b[0m\u001b[0;34m(\u001b[0m\u001b[0mself\u001b[0m\u001b[0;34m)\u001b[0m\u001b[0;34m:\u001b[0m\u001b[0;34m\u001b[0m\u001b[0;34m\u001b[0m\u001b[0m\n",
      "\u001b[0;32m/usr/local/lib/python3.7/site-packages/sklearn/model_selection/_validation.py\u001b[0m in \u001b[0;36m_fit_and_score\u001b[0;34m(estimator, X, y, scorer, train, test, verbose, parameters, fit_params, return_train_score, return_parameters, return_n_test_samples, return_times, return_estimator, error_score)\u001b[0m\n\u001b[1;32m    526\u001b[0m             \u001b[0mestimator\u001b[0m\u001b[0;34m.\u001b[0m\u001b[0mfit\u001b[0m\u001b[0;34m(\u001b[0m\u001b[0mX_train\u001b[0m\u001b[0;34m,\u001b[0m \u001b[0;34m**\u001b[0m\u001b[0mfit_params\u001b[0m\u001b[0;34m)\u001b[0m\u001b[0;34m\u001b[0m\u001b[0;34m\u001b[0m\u001b[0m\n\u001b[1;32m    527\u001b[0m         \u001b[0;32melse\u001b[0m\u001b[0;34m:\u001b[0m\u001b[0;34m\u001b[0m\u001b[0;34m\u001b[0m\u001b[0m\n\u001b[0;32m--> 528\u001b[0;31m             \u001b[0mestimator\u001b[0m\u001b[0;34m.\u001b[0m\u001b[0mfit\u001b[0m\u001b[0;34m(\u001b[0m\u001b[0mX_train\u001b[0m\u001b[0;34m,\u001b[0m \u001b[0my_train\u001b[0m\u001b[0;34m,\u001b[0m \u001b[0;34m**\u001b[0m\u001b[0mfit_params\u001b[0m\u001b[0;34m)\u001b[0m\u001b[0;34m\u001b[0m\u001b[0;34m\u001b[0m\u001b[0m\n\u001b[0m\u001b[1;32m    529\u001b[0m \u001b[0;34m\u001b[0m\u001b[0m\n\u001b[1;32m    530\u001b[0m     \u001b[0;32mexcept\u001b[0m \u001b[0mException\u001b[0m \u001b[0;32mas\u001b[0m \u001b[0me\u001b[0m\u001b[0;34m:\u001b[0m\u001b[0;34m\u001b[0m\u001b[0;34m\u001b[0m\u001b[0m\n",
      "\u001b[0;32m/usr/local/lib/python3.7/site-packages/sklearn/svm/base.py\u001b[0m in \u001b[0;36mfit\u001b[0;34m(self, X, y, sample_weight)\u001b[0m\n\u001b[1;32m    210\u001b[0m \u001b[0;34m\u001b[0m\u001b[0m\n\u001b[1;32m    211\u001b[0m         \u001b[0mseed\u001b[0m \u001b[0;34m=\u001b[0m \u001b[0mrnd\u001b[0m\u001b[0;34m.\u001b[0m\u001b[0mrandint\u001b[0m\u001b[0;34m(\u001b[0m\u001b[0mnp\u001b[0m\u001b[0;34m.\u001b[0m\u001b[0miinfo\u001b[0m\u001b[0;34m(\u001b[0m\u001b[0;34m'i'\u001b[0m\u001b[0;34m)\u001b[0m\u001b[0;34m.\u001b[0m\u001b[0mmax\u001b[0m\u001b[0;34m)\u001b[0m\u001b[0;34m\u001b[0m\u001b[0;34m\u001b[0m\u001b[0m\n\u001b[0;32m--> 212\u001b[0;31m         \u001b[0mfit\u001b[0m\u001b[0;34m(\u001b[0m\u001b[0mX\u001b[0m\u001b[0;34m,\u001b[0m \u001b[0my\u001b[0m\u001b[0;34m,\u001b[0m \u001b[0msample_weight\u001b[0m\u001b[0;34m,\u001b[0m \u001b[0msolver_type\u001b[0m\u001b[0;34m,\u001b[0m \u001b[0mkernel\u001b[0m\u001b[0;34m,\u001b[0m \u001b[0mrandom_seed\u001b[0m\u001b[0;34m=\u001b[0m\u001b[0mseed\u001b[0m\u001b[0;34m)\u001b[0m\u001b[0;34m\u001b[0m\u001b[0;34m\u001b[0m\u001b[0m\n\u001b[0m\u001b[1;32m    213\u001b[0m         \u001b[0;31m# see comment on the other call to np.iinfo in this file\u001b[0m\u001b[0;34m\u001b[0m\u001b[0;34m\u001b[0m\u001b[0;34m\u001b[0m\u001b[0m\n\u001b[1;32m    214\u001b[0m \u001b[0;34m\u001b[0m\u001b[0m\n",
      "\u001b[0;32m/usr/local/lib/python3.7/site-packages/sklearn/svm/base.py\u001b[0m in \u001b[0;36m_dense_fit\u001b[0;34m(self, X, y, sample_weight, solver_type, kernel, random_seed)\u001b[0m\n\u001b[1;32m    269\u001b[0m                 \u001b[0mcache_size\u001b[0m\u001b[0;34m=\u001b[0m\u001b[0mself\u001b[0m\u001b[0;34m.\u001b[0m\u001b[0mcache_size\u001b[0m\u001b[0;34m,\u001b[0m \u001b[0mcoef0\u001b[0m\u001b[0;34m=\u001b[0m\u001b[0mself\u001b[0m\u001b[0;34m.\u001b[0m\u001b[0mcoef0\u001b[0m\u001b[0;34m,\u001b[0m\u001b[0;34m\u001b[0m\u001b[0;34m\u001b[0m\u001b[0m\n\u001b[1;32m    270\u001b[0m                 \u001b[0mgamma\u001b[0m\u001b[0;34m=\u001b[0m\u001b[0mself\u001b[0m\u001b[0;34m.\u001b[0m\u001b[0m_gamma\u001b[0m\u001b[0;34m,\u001b[0m \u001b[0mepsilon\u001b[0m\u001b[0;34m=\u001b[0m\u001b[0mself\u001b[0m\u001b[0;34m.\u001b[0m\u001b[0mepsilon\u001b[0m\u001b[0;34m,\u001b[0m\u001b[0;34m\u001b[0m\u001b[0;34m\u001b[0m\u001b[0m\n\u001b[0;32m--> 271\u001b[0;31m                 max_iter=self.max_iter, random_seed=random_seed)\n\u001b[0m\u001b[1;32m    272\u001b[0m \u001b[0;34m\u001b[0m\u001b[0m\n\u001b[1;32m    273\u001b[0m         \u001b[0mself\u001b[0m\u001b[0;34m.\u001b[0m\u001b[0m_warn_from_fit_status\u001b[0m\u001b[0;34m(\u001b[0m\u001b[0;34m)\u001b[0m\u001b[0;34m\u001b[0m\u001b[0;34m\u001b[0m\u001b[0m\n",
      "\u001b[0;31mKeyboardInterrupt\u001b[0m: "
     ]
    },
    {
     "data": {
      "image/png": "[encoded data removed]",
      "text/plain": [
       "<Figure size 432x288 with 1 Axes>"
      ]
     },
     "metadata": {
      "needs_background": "light"
     },
     "output_type": "display_data"
    }
   ],
   "source": [
    "print()\n",
    "print(\"========== Learning Curves ==========\")\n",
    "print()\n",
    "plot_learning_curve(estimator=adaBoost, title=\"Learning Curves (AdaBoost)\", X=kaggle_train_X_processed, y=kaggle_train_y.values.ravel(), ylim=None, cv=None,\n",
    "                        n_jobs=None, train_sizes=np.linspace(.1, 1.0, 5))\n",
    "plot_learning_curve(estimator=xgb, title=\"Learning Curves (XgBoost)\", X=kaggle_train_X_processed, y=kaggle_train_y.values.ravel(), ylim=None, cv=None,\n",
    "                        n_jobs=None, train_sizes=np.linspace(.1, 1.0, 5))\n",
    "plot_learning_curve(estimator=svr_model, title=\"Learning Curves (SVR)\", X=kaggle_train_X_processed, y=kaggle_train_y.values.ravel(), ylim=None, cv=None,\n",
    "                        n_jobs=None, train_sizes=np.linspace(.1, 1.0, 5))"
   ]
  },
  {
   "cell_type": "code",
   "execution_count": null,
   "metadata": {
    "collapsed": true
   },
   "outputs": [],
   "source": []
  }
 ],
 "metadata": {
  "kernelspec": {
   "display_name": "Python 3",
   "language": "python",
   "name": "python3"
  },
  "language_info": {
   "codemirror_mode": {
    "name": "ipython",
    "version": 3
   },
   "file_extension": ".py",
   "mimetype": "text/x-python",
   "name": "python",
   "nbconvert_exporter": "python",
   "pygments_lexer": "ipython3",
   "version": "3.6.7"
  }
 },
 "nbformat": 4,
 "nbformat_minor": 2
}
